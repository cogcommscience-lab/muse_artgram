{
 "cells": [
  {
   "cell_type": "code",
   "execution_count": null,
   "id": "1a52ec4f",
   "metadata": {},
   "outputs": [],
   "source": [
    "# this doesn't play well"
   ]
  },
  {
   "cell_type": "code",
   "execution_count": null,
   "id": "970f491e",
   "metadata": {},
   "outputs": [],
   "source": [
    "# This code creates a function that calculates ccf while dealing with NaNs\n",
    "# Define a function to obtain the cross-correlation (ccf) between timeseries\n",
    "# Length determines how many seconds forward/backward the ccf considered\n",
    "def obtain_ccf(ts_1, ts_2, length=5):\n",
    "    # Reverse the time series: used to calculate the cross-correlation from end of the series toward beginning\n",
    "    # Explores how past values of ts_2 influence future values of ts_1\n",
    "    # Use the direct method in convolve to handle NaN or inf values\n",
    "    # [::-1] reverses the result again; restores chronological order of lags\n",
    "    # [-(length*256+1):] slices the array to keep the last length*256+1 elements, based on sampling rate\n",
    "    backward_full = convolve(ts_1[::-1], ts_2[::-1], mode='full', method='direct')\n",
    "    backwards = backward_full[::-1][-(length*256+1):]\n",
    "\n",
    "    # Computes the forward cross-correlation function\n",
    "    # Explores how past values of ts_1 influence future values of ts_2\n",
    "    forwards_full = convolve(ts_1, ts_2, mode='full', method='direct')\n",
    "    forwards = forwards_full[:(length*256+1)]\n",
    "\n",
    "    # Remove NaN values from forwards and backwards (need this for correlation calculation, below)\n",
    "    clean_backwards = backwards[~np.isnan(backwards)]\n",
    "    clean_forwards = forwards[~np.isnan(forwards)]\n",
    "\n",
    "    # Concatenate result arrays along the first axis (row-wise)\n",
    "    ccf_output = np.r_[clean_backwards[:-1], clean_forwards]\n",
    "    return ccf_output"
   ]
  },
  {
   "cell_type": "code",
   "execution_count": null,
   "id": "8a0f9ccd",
   "metadata": {},
   "outputs": [],
   "source": []
  },
  {
   "cell_type": "code",
   "execution_count": 1,
   "id": "af64952d",
   "metadata": {},
   "outputs": [],
   "source": [
    "# Load dependencies\n",
    "\n",
    "import pandas as pd\n",
    "import numpy as np\n",
    "import seaborn as sns\n",
    "import statsmodels.tsa.stattools as smt\n",
    "from scipy.signal import convolve\n",
    "from scipy.stats import pearsonr, zscore\n",
    "from matplotlib import pyplot as plt"
   ]
  },
  {
   "cell_type": "code",
   "execution_count": 2,
   "id": "66d04eea",
   "metadata": {},
   "outputs": [
    {
     "data": {
      "text/plain": [
       "32646912"
      ]
     },
     "execution_count": 2,
     "metadata": {},
     "output_type": "execute_result"
    }
   ],
   "source": [
    "# Read in the cleaned long eeg data\n",
    "# Update filename based on epoch duration\n",
    "\n",
    "eeg_long_df = pd.read_csv(\"preprocessed_interpolate_bandpass_.1_20/eeg_long_df_1s_epoch.csv\")\n",
    "\n",
    "# Print how long the df is\n",
    "len(eeg_long_df)"
   ]
  },
  {
   "cell_type": "code",
   "execution_count": 3,
   "id": "9b5e13de",
   "metadata": {},
   "outputs": [
    {
     "data": {
      "text/plain": [
       "(32646912, 14)"
      ]
     },
     "execution_count": 3,
     "metadata": {},
     "output_type": "execute_result"
    }
   ],
   "source": [
    "eeg_long_df.shape"
   ]
  },
  {
   "cell_type": "code",
   "execution_count": 4,
   "id": "e394966a",
   "metadata": {},
   "outputs": [
    {
     "data": {
      "text/html": [
       "<div>\n",
       "<style scoped>\n",
       "    .dataframe tbody tr th:only-of-type {\n",
       "        vertical-align: middle;\n",
       "    }\n",
       "\n",
       "    .dataframe tbody tr th {\n",
       "        vertical-align: top;\n",
       "    }\n",
       "\n",
       "    .dataframe thead th {\n",
       "        text-align: right;\n",
       "    }\n",
       "</style>\n",
       "<table border=\"1\" class=\"dataframe\">\n",
       "  <thead>\n",
       "    <tr style=\"text-align: right;\">\n",
       "      <th></th>\n",
       "      <th>level_0</th>\n",
       "      <th>index</th>\n",
       "      <th>epoch</th>\n",
       "      <th>time</th>\n",
       "      <th>TP9-1</th>\n",
       "      <th>AF7-1</th>\n",
       "      <th>AF8-1</th>\n",
       "      <th>TP10-1</th>\n",
       "      <th>TP9-2</th>\n",
       "      <th>AF7-2</th>\n",
       "      <th>AF8-2</th>\n",
       "      <th>TP10-2</th>\n",
       "      <th>subj</th>\n",
       "      <th>ses</th>\n",
       "    </tr>\n",
       "  </thead>\n",
       "  <tbody>\n",
       "    <tr>\n",
       "      <th>0</th>\n",
       "      <td>0</td>\n",
       "      <td>0</td>\n",
       "      <td>0</td>\n",
       "      <td>0.000000</td>\n",
       "      <td>0.222848</td>\n",
       "      <td>11.608067</td>\n",
       "      <td>0.223902</td>\n",
       "      <td>0.058120</td>\n",
       "      <td>-0.483754</td>\n",
       "      <td>-5.345793</td>\n",
       "      <td>-0.345295</td>\n",
       "      <td>-0.346974</td>\n",
       "      <td>1</td>\n",
       "      <td>1</td>\n",
       "    </tr>\n",
       "    <tr>\n",
       "      <th>1</th>\n",
       "      <td>1</td>\n",
       "      <td>1</td>\n",
       "      <td>0</td>\n",
       "      <td>0.003906</td>\n",
       "      <td>-1.673274</td>\n",
       "      <td>-25.432445</td>\n",
       "      <td>-2.610390</td>\n",
       "      <td>0.434157</td>\n",
       "      <td>2.526975</td>\n",
       "      <td>151.898427</td>\n",
       "      <td>2.187296</td>\n",
       "      <td>-2.175046</td>\n",
       "      <td>1</td>\n",
       "      <td>1</td>\n",
       "    </tr>\n",
       "    <tr>\n",
       "      <th>2</th>\n",
       "      <td>2</td>\n",
       "      <td>2</td>\n",
       "      <td>0</td>\n",
       "      <td>0.007812</td>\n",
       "      <td>-3.492170</td>\n",
       "      <td>-54.826924</td>\n",
       "      <td>-4.886415</td>\n",
       "      <td>0.673630</td>\n",
       "      <td>4.259710</td>\n",
       "      <td>290.713836</td>\n",
       "      <td>4.544382</td>\n",
       "      <td>-4.696435</td>\n",
       "      <td>1</td>\n",
       "      <td>1</td>\n",
       "    </tr>\n",
       "    <tr>\n",
       "      <th>3</th>\n",
       "      <td>3</td>\n",
       "      <td>3</td>\n",
       "      <td>0</td>\n",
       "      <td>0.011719</td>\n",
       "      <td>-5.221177</td>\n",
       "      <td>-70.724021</td>\n",
       "      <td>-6.137424</td>\n",
       "      <td>0.643151</td>\n",
       "      <td>3.749553</td>\n",
       "      <td>396.613306</td>\n",
       "      <td>6.575249</td>\n",
       "      <td>-8.378026</td>\n",
       "      <td>1</td>\n",
       "      <td>1</td>\n",
       "    </tr>\n",
       "    <tr>\n",
       "      <th>4</th>\n",
       "      <td>4</td>\n",
       "      <td>4</td>\n",
       "      <td>0</td>\n",
       "      <td>0.015625</td>\n",
       "      <td>-6.957718</td>\n",
       "      <td>-70.413833</td>\n",
       "      <td>-6.059825</td>\n",
       "      <td>0.200740</td>\n",
       "      <td>0.575384</td>\n",
       "      <td>462.006339</td>\n",
       "      <td>8.172946</td>\n",
       "      <td>-13.309297</td>\n",
       "      <td>1</td>\n",
       "      <td>1</td>\n",
       "    </tr>\n",
       "    <tr>\n",
       "      <th>...</th>\n",
       "      <td>...</td>\n",
       "      <td>...</td>\n",
       "      <td>...</td>\n",
       "      <td>...</td>\n",
       "      <td>...</td>\n",
       "      <td>...</td>\n",
       "      <td>...</td>\n",
       "      <td>...</td>\n",
       "      <td>...</td>\n",
       "      <td>...</td>\n",
       "      <td>...</td>\n",
       "      <td>...</td>\n",
       "      <td>...</td>\n",
       "      <td>...</td>\n",
       "    </tr>\n",
       "    <tr>\n",
       "      <th>32646907</th>\n",
       "      <td>75003</td>\n",
       "      <td>53755</td>\n",
       "      <td>292</td>\n",
       "      <td>0.980469</td>\n",
       "      <td>0.000000</td>\n",
       "      <td>0.000000</td>\n",
       "      <td>0.000000</td>\n",
       "      <td>0.000000</td>\n",
       "      <td>0.000000</td>\n",
       "      <td>0.000000</td>\n",
       "      <td>0.000000</td>\n",
       "      <td>0.000000</td>\n",
       "      <td>181</td>\n",
       "      <td>3</td>\n",
       "    </tr>\n",
       "    <tr>\n",
       "      <th>32646908</th>\n",
       "      <td>75004</td>\n",
       "      <td>53756</td>\n",
       "      <td>292</td>\n",
       "      <td>0.984375</td>\n",
       "      <td>0.000000</td>\n",
       "      <td>0.000000</td>\n",
       "      <td>0.000000</td>\n",
       "      <td>0.000000</td>\n",
       "      <td>0.000000</td>\n",
       "      <td>0.000000</td>\n",
       "      <td>0.000000</td>\n",
       "      <td>0.000000</td>\n",
       "      <td>181</td>\n",
       "      <td>3</td>\n",
       "    </tr>\n",
       "    <tr>\n",
       "      <th>32646909</th>\n",
       "      <td>75005</td>\n",
       "      <td>53757</td>\n",
       "      <td>292</td>\n",
       "      <td>0.988281</td>\n",
       "      <td>0.000000</td>\n",
       "      <td>0.000000</td>\n",
       "      <td>0.000000</td>\n",
       "      <td>0.000000</td>\n",
       "      <td>0.000000</td>\n",
       "      <td>0.000000</td>\n",
       "      <td>0.000000</td>\n",
       "      <td>0.000000</td>\n",
       "      <td>181</td>\n",
       "      <td>3</td>\n",
       "    </tr>\n",
       "    <tr>\n",
       "      <th>32646910</th>\n",
       "      <td>75006</td>\n",
       "      <td>53758</td>\n",
       "      <td>292</td>\n",
       "      <td>0.992188</td>\n",
       "      <td>0.000000</td>\n",
       "      <td>0.000000</td>\n",
       "      <td>0.000000</td>\n",
       "      <td>0.000000</td>\n",
       "      <td>0.000000</td>\n",
       "      <td>0.000000</td>\n",
       "      <td>0.000000</td>\n",
       "      <td>0.000000</td>\n",
       "      <td>181</td>\n",
       "      <td>3</td>\n",
       "    </tr>\n",
       "    <tr>\n",
       "      <th>32646911</th>\n",
       "      <td>75007</td>\n",
       "      <td>53759</td>\n",
       "      <td>292</td>\n",
       "      <td>0.996094</td>\n",
       "      <td>0.000000</td>\n",
       "      <td>0.000000</td>\n",
       "      <td>0.000000</td>\n",
       "      <td>0.000000</td>\n",
       "      <td>0.000000</td>\n",
       "      <td>0.000000</td>\n",
       "      <td>0.000000</td>\n",
       "      <td>0.000000</td>\n",
       "      <td>181</td>\n",
       "      <td>3</td>\n",
       "    </tr>\n",
       "  </tbody>\n",
       "</table>\n",
       "<p>32646912 rows × 14 columns</p>\n",
       "</div>"
      ],
      "text/plain": [
       "          level_0  index  epoch      time     TP9-1      AF7-1     AF8-1  \\\n",
       "0               0      0      0  0.000000  0.222848  11.608067  0.223902   \n",
       "1               1      1      0  0.003906 -1.673274 -25.432445 -2.610390   \n",
       "2               2      2      0  0.007812 -3.492170 -54.826924 -4.886415   \n",
       "3               3      3      0  0.011719 -5.221177 -70.724021 -6.137424   \n",
       "4               4      4      0  0.015625 -6.957718 -70.413833 -6.059825   \n",
       "...           ...    ...    ...       ...       ...        ...       ...   \n",
       "32646907    75003  53755    292  0.980469  0.000000   0.000000  0.000000   \n",
       "32646908    75004  53756    292  0.984375  0.000000   0.000000  0.000000   \n",
       "32646909    75005  53757    292  0.988281  0.000000   0.000000  0.000000   \n",
       "32646910    75006  53758    292  0.992188  0.000000   0.000000  0.000000   \n",
       "32646911    75007  53759    292  0.996094  0.000000   0.000000  0.000000   \n",
       "\n",
       "            TP10-1     TP9-2       AF7-2     AF8-2     TP10-2  subj  ses  \n",
       "0         0.058120 -0.483754   -5.345793 -0.345295  -0.346974     1    1  \n",
       "1         0.434157  2.526975  151.898427  2.187296  -2.175046     1    1  \n",
       "2         0.673630  4.259710  290.713836  4.544382  -4.696435     1    1  \n",
       "3         0.643151  3.749553  396.613306  6.575249  -8.378026     1    1  \n",
       "4         0.200740  0.575384  462.006339  8.172946 -13.309297     1    1  \n",
       "...            ...       ...         ...       ...        ...   ...  ...  \n",
       "32646907  0.000000  0.000000    0.000000  0.000000   0.000000   181    3  \n",
       "32646908  0.000000  0.000000    0.000000  0.000000   0.000000   181    3  \n",
       "32646909  0.000000  0.000000    0.000000  0.000000   0.000000   181    3  \n",
       "32646910  0.000000  0.000000    0.000000  0.000000   0.000000   181    3  \n",
       "32646911  0.000000  0.000000    0.000000  0.000000   0.000000   181    3  \n",
       "\n",
       "[32646912 rows x 14 columns]"
      ]
     },
     "execution_count": 4,
     "metadata": {},
     "output_type": "execute_result"
    }
   ],
   "source": [
    "eeg_long_df"
   ]
  },
  {
   "cell_type": "code",
   "execution_count": 5,
   "id": "f01921d8",
   "metadata": {},
   "outputs": [],
   "source": [
    "# For rejected epochs, autoreject replaces that value with a zero\n",
    "# This code replaces zero wit nan to deal with that issue\n",
    "\n",
    "#eeg_long_df[[\"TP9-1\", \"AF7-1\", \"AF8-1\", \"TP10-1\", \"TP9-2\", \"AF7-2\", \"AF8-2\", \"TP10-2\"]] = \\\n",
    "#eeg_long_df.loc[:, [\"TP9-1\", \"AF7-1\", \"AF8-1\", \"TP10-1\", \"TP9-2\", \"AF7-2\", \"AF8-2\", \"TP10-2\"]].replace(0, np.nan)"
   ]
  },
  {
   "cell_type": "code",
   "execution_count": 6,
   "id": "6690dc4a",
   "metadata": {},
   "outputs": [
    {
     "data": {
      "text/html": [
       "<div>\n",
       "<style scoped>\n",
       "    .dataframe tbody tr th:only-of-type {\n",
       "        vertical-align: middle;\n",
       "    }\n",
       "\n",
       "    .dataframe tbody tr th {\n",
       "        vertical-align: top;\n",
       "    }\n",
       "\n",
       "    .dataframe thead th {\n",
       "        text-align: right;\n",
       "    }\n",
       "</style>\n",
       "<table border=\"1\" class=\"dataframe\">\n",
       "  <thead>\n",
       "    <tr style=\"text-align: right;\">\n",
       "      <th></th>\n",
       "      <th>level_0</th>\n",
       "      <th>index</th>\n",
       "      <th>epoch</th>\n",
       "      <th>time</th>\n",
       "      <th>TP9-1</th>\n",
       "      <th>AF7-1</th>\n",
       "      <th>AF8-1</th>\n",
       "      <th>TP10-1</th>\n",
       "      <th>TP9-2</th>\n",
       "      <th>AF7-2</th>\n",
       "      <th>AF8-2</th>\n",
       "      <th>TP10-2</th>\n",
       "      <th>subj</th>\n",
       "      <th>ses</th>\n",
       "    </tr>\n",
       "  </thead>\n",
       "  <tbody>\n",
       "    <tr>\n",
       "      <th>0</th>\n",
       "      <td>0</td>\n",
       "      <td>0</td>\n",
       "      <td>0</td>\n",
       "      <td>0.000000</td>\n",
       "      <td>0.222848</td>\n",
       "      <td>11.608067</td>\n",
       "      <td>0.223902</td>\n",
       "      <td>0.058120</td>\n",
       "      <td>-0.483754</td>\n",
       "      <td>-5.345793</td>\n",
       "      <td>-0.345295</td>\n",
       "      <td>-0.346974</td>\n",
       "      <td>1</td>\n",
       "      <td>1</td>\n",
       "    </tr>\n",
       "    <tr>\n",
       "      <th>1</th>\n",
       "      <td>1</td>\n",
       "      <td>1</td>\n",
       "      <td>0</td>\n",
       "      <td>0.003906</td>\n",
       "      <td>-1.673274</td>\n",
       "      <td>-25.432445</td>\n",
       "      <td>-2.610390</td>\n",
       "      <td>0.434157</td>\n",
       "      <td>2.526975</td>\n",
       "      <td>151.898427</td>\n",
       "      <td>2.187296</td>\n",
       "      <td>-2.175046</td>\n",
       "      <td>1</td>\n",
       "      <td>1</td>\n",
       "    </tr>\n",
       "    <tr>\n",
       "      <th>2</th>\n",
       "      <td>2</td>\n",
       "      <td>2</td>\n",
       "      <td>0</td>\n",
       "      <td>0.007812</td>\n",
       "      <td>-3.492170</td>\n",
       "      <td>-54.826924</td>\n",
       "      <td>-4.886415</td>\n",
       "      <td>0.673630</td>\n",
       "      <td>4.259710</td>\n",
       "      <td>290.713836</td>\n",
       "      <td>4.544382</td>\n",
       "      <td>-4.696435</td>\n",
       "      <td>1</td>\n",
       "      <td>1</td>\n",
       "    </tr>\n",
       "    <tr>\n",
       "      <th>3</th>\n",
       "      <td>3</td>\n",
       "      <td>3</td>\n",
       "      <td>0</td>\n",
       "      <td>0.011719</td>\n",
       "      <td>-5.221177</td>\n",
       "      <td>-70.724021</td>\n",
       "      <td>-6.137424</td>\n",
       "      <td>0.643151</td>\n",
       "      <td>3.749553</td>\n",
       "      <td>396.613306</td>\n",
       "      <td>6.575249</td>\n",
       "      <td>-8.378026</td>\n",
       "      <td>1</td>\n",
       "      <td>1</td>\n",
       "    </tr>\n",
       "    <tr>\n",
       "      <th>4</th>\n",
       "      <td>4</td>\n",
       "      <td>4</td>\n",
       "      <td>0</td>\n",
       "      <td>0.015625</td>\n",
       "      <td>-6.957718</td>\n",
       "      <td>-70.413833</td>\n",
       "      <td>-6.059825</td>\n",
       "      <td>0.200740</td>\n",
       "      <td>0.575384</td>\n",
       "      <td>462.006339</td>\n",
       "      <td>8.172946</td>\n",
       "      <td>-13.309297</td>\n",
       "      <td>1</td>\n",
       "      <td>1</td>\n",
       "    </tr>\n",
       "    <tr>\n",
       "      <th>...</th>\n",
       "      <td>...</td>\n",
       "      <td>...</td>\n",
       "      <td>...</td>\n",
       "      <td>...</td>\n",
       "      <td>...</td>\n",
       "      <td>...</td>\n",
       "      <td>...</td>\n",
       "      <td>...</td>\n",
       "      <td>...</td>\n",
       "      <td>...</td>\n",
       "      <td>...</td>\n",
       "      <td>...</td>\n",
       "      <td>...</td>\n",
       "      <td>...</td>\n",
       "    </tr>\n",
       "    <tr>\n",
       "      <th>32646907</th>\n",
       "      <td>75003</td>\n",
       "      <td>53755</td>\n",
       "      <td>292</td>\n",
       "      <td>0.980469</td>\n",
       "      <td>0.000000</td>\n",
       "      <td>0.000000</td>\n",
       "      <td>0.000000</td>\n",
       "      <td>0.000000</td>\n",
       "      <td>0.000000</td>\n",
       "      <td>0.000000</td>\n",
       "      <td>0.000000</td>\n",
       "      <td>0.000000</td>\n",
       "      <td>181</td>\n",
       "      <td>3</td>\n",
       "    </tr>\n",
       "    <tr>\n",
       "      <th>32646908</th>\n",
       "      <td>75004</td>\n",
       "      <td>53756</td>\n",
       "      <td>292</td>\n",
       "      <td>0.984375</td>\n",
       "      <td>0.000000</td>\n",
       "      <td>0.000000</td>\n",
       "      <td>0.000000</td>\n",
       "      <td>0.000000</td>\n",
       "      <td>0.000000</td>\n",
       "      <td>0.000000</td>\n",
       "      <td>0.000000</td>\n",
       "      <td>0.000000</td>\n",
       "      <td>181</td>\n",
       "      <td>3</td>\n",
       "    </tr>\n",
       "    <tr>\n",
       "      <th>32646909</th>\n",
       "      <td>75005</td>\n",
       "      <td>53757</td>\n",
       "      <td>292</td>\n",
       "      <td>0.988281</td>\n",
       "      <td>0.000000</td>\n",
       "      <td>0.000000</td>\n",
       "      <td>0.000000</td>\n",
       "      <td>0.000000</td>\n",
       "      <td>0.000000</td>\n",
       "      <td>0.000000</td>\n",
       "      <td>0.000000</td>\n",
       "      <td>0.000000</td>\n",
       "      <td>181</td>\n",
       "      <td>3</td>\n",
       "    </tr>\n",
       "    <tr>\n",
       "      <th>32646910</th>\n",
       "      <td>75006</td>\n",
       "      <td>53758</td>\n",
       "      <td>292</td>\n",
       "      <td>0.992188</td>\n",
       "      <td>0.000000</td>\n",
       "      <td>0.000000</td>\n",
       "      <td>0.000000</td>\n",
       "      <td>0.000000</td>\n",
       "      <td>0.000000</td>\n",
       "      <td>0.000000</td>\n",
       "      <td>0.000000</td>\n",
       "      <td>0.000000</td>\n",
       "      <td>181</td>\n",
       "      <td>3</td>\n",
       "    </tr>\n",
       "    <tr>\n",
       "      <th>32646911</th>\n",
       "      <td>75007</td>\n",
       "      <td>53759</td>\n",
       "      <td>292</td>\n",
       "      <td>0.996094</td>\n",
       "      <td>0.000000</td>\n",
       "      <td>0.000000</td>\n",
       "      <td>0.000000</td>\n",
       "      <td>0.000000</td>\n",
       "      <td>0.000000</td>\n",
       "      <td>0.000000</td>\n",
       "      <td>0.000000</td>\n",
       "      <td>0.000000</td>\n",
       "      <td>181</td>\n",
       "      <td>3</td>\n",
       "    </tr>\n",
       "  </tbody>\n",
       "</table>\n",
       "<p>32646912 rows × 14 columns</p>\n",
       "</div>"
      ],
      "text/plain": [
       "          level_0  index  epoch      time     TP9-1      AF7-1     AF8-1  \\\n",
       "0               0      0      0  0.000000  0.222848  11.608067  0.223902   \n",
       "1               1      1      0  0.003906 -1.673274 -25.432445 -2.610390   \n",
       "2               2      2      0  0.007812 -3.492170 -54.826924 -4.886415   \n",
       "3               3      3      0  0.011719 -5.221177 -70.724021 -6.137424   \n",
       "4               4      4      0  0.015625 -6.957718 -70.413833 -6.059825   \n",
       "...           ...    ...    ...       ...       ...        ...       ...   \n",
       "32646907    75003  53755    292  0.980469  0.000000   0.000000  0.000000   \n",
       "32646908    75004  53756    292  0.984375  0.000000   0.000000  0.000000   \n",
       "32646909    75005  53757    292  0.988281  0.000000   0.000000  0.000000   \n",
       "32646910    75006  53758    292  0.992188  0.000000   0.000000  0.000000   \n",
       "32646911    75007  53759    292  0.996094  0.000000   0.000000  0.000000   \n",
       "\n",
       "            TP10-1     TP9-2       AF7-2     AF8-2     TP10-2  subj  ses  \n",
       "0         0.058120 -0.483754   -5.345793 -0.345295  -0.346974     1    1  \n",
       "1         0.434157  2.526975  151.898427  2.187296  -2.175046     1    1  \n",
       "2         0.673630  4.259710  290.713836  4.544382  -4.696435     1    1  \n",
       "3         0.643151  3.749553  396.613306  6.575249  -8.378026     1    1  \n",
       "4         0.200740  0.575384  462.006339  8.172946 -13.309297     1    1  \n",
       "...            ...       ...         ...       ...        ...   ...  ...  \n",
       "32646907  0.000000  0.000000    0.000000  0.000000   0.000000   181    3  \n",
       "32646908  0.000000  0.000000    0.000000  0.000000   0.000000   181    3  \n",
       "32646909  0.000000  0.000000    0.000000  0.000000   0.000000   181    3  \n",
       "32646910  0.000000  0.000000    0.000000  0.000000   0.000000   181    3  \n",
       "32646911  0.000000  0.000000    0.000000  0.000000   0.000000   181    3  \n",
       "\n",
       "[32646912 rows x 14 columns]"
      ]
     },
     "execution_count": 6,
     "metadata": {},
     "output_type": "execute_result"
    }
   ],
   "source": [
    "eeg_long_df"
   ]
  },
  {
   "cell_type": "code",
   "execution_count": 7,
   "id": "032acdc5",
   "metadata": {},
   "outputs": [],
   "source": [
    "# List-wise removal of NaNs because these prevent the ccf analysis from completing if they are included\n",
    "\n",
    "#eeg_long_df = eeg_long_df.dropna()"
   ]
  },
  {
   "cell_type": "code",
   "execution_count": 8,
   "id": "44c8e278",
   "metadata": {},
   "outputs": [],
   "source": [
    "#eeg_long_df.shape"
   ]
  },
  {
   "cell_type": "code",
   "execution_count": 9,
   "id": "9cc261ea",
   "metadata": {},
   "outputs": [],
   "source": [
    "# Read in task performance dat\n",
    "\n",
    "performance = pd.read_csv(\"task_performance.csv\")"
   ]
  },
  {
   "cell_type": "code",
   "execution_count": 10,
   "id": "07bda6ab",
   "metadata": {},
   "outputs": [],
   "source": [
    "# Set 'ses' column as integer\n",
    "\n",
    "performance['ses'] = performance['ses'].astype(int)"
   ]
  },
  {
   "cell_type": "code",
   "execution_count": 11,
   "id": "6fb85a1f",
   "metadata": {},
   "outputs": [],
   "source": [
    "# Merge 'performance' and 'eeg_long_df' on 'subj' and 'ses'\n",
    "\n",
    "eeg_long_df = eeg_long_df.merge(performance[['subj', 'ses', 'Signal Drop']], on=['subj', 'ses'], how='left')"
   ]
  },
  {
   "cell_type": "code",
   "execution_count": 12,
   "id": "42fff30a",
   "metadata": {},
   "outputs": [
    {
     "data": {
      "text/html": [
       "<div>\n",
       "<style scoped>\n",
       "    .dataframe tbody tr th:only-of-type {\n",
       "        vertical-align: middle;\n",
       "    }\n",
       "\n",
       "    .dataframe tbody tr th {\n",
       "        vertical-align: top;\n",
       "    }\n",
       "\n",
       "    .dataframe thead th {\n",
       "        text-align: right;\n",
       "    }\n",
       "</style>\n",
       "<table border=\"1\" class=\"dataframe\">\n",
       "  <thead>\n",
       "    <tr style=\"text-align: right;\">\n",
       "      <th></th>\n",
       "      <th>level_0</th>\n",
       "      <th>index</th>\n",
       "      <th>epoch</th>\n",
       "      <th>time</th>\n",
       "      <th>TP9-1</th>\n",
       "      <th>AF7-1</th>\n",
       "      <th>AF8-1</th>\n",
       "      <th>TP10-1</th>\n",
       "      <th>TP9-2</th>\n",
       "      <th>AF7-2</th>\n",
       "      <th>AF8-2</th>\n",
       "      <th>TP10-2</th>\n",
       "      <th>subj</th>\n",
       "      <th>ses</th>\n",
       "      <th>Signal Drop</th>\n",
       "    </tr>\n",
       "  </thead>\n",
       "  <tbody>\n",
       "    <tr>\n",
       "      <th>0</th>\n",
       "      <td>0</td>\n",
       "      <td>0</td>\n",
       "      <td>0</td>\n",
       "      <td>0.000000</td>\n",
       "      <td>0.222848</td>\n",
       "      <td>11.608067</td>\n",
       "      <td>0.223902</td>\n",
       "      <td>0.058120</td>\n",
       "      <td>-0.483754</td>\n",
       "      <td>-5.345793</td>\n",
       "      <td>-0.345295</td>\n",
       "      <td>-0.346974</td>\n",
       "      <td>1</td>\n",
       "      <td>1</td>\n",
       "      <td>1.0</td>\n",
       "    </tr>\n",
       "    <tr>\n",
       "      <th>1</th>\n",
       "      <td>1</td>\n",
       "      <td>1</td>\n",
       "      <td>0</td>\n",
       "      <td>0.003906</td>\n",
       "      <td>-1.673274</td>\n",
       "      <td>-25.432445</td>\n",
       "      <td>-2.610390</td>\n",
       "      <td>0.434157</td>\n",
       "      <td>2.526975</td>\n",
       "      <td>151.898427</td>\n",
       "      <td>2.187296</td>\n",
       "      <td>-2.175046</td>\n",
       "      <td>1</td>\n",
       "      <td>1</td>\n",
       "      <td>1.0</td>\n",
       "    </tr>\n",
       "    <tr>\n",
       "      <th>2</th>\n",
       "      <td>2</td>\n",
       "      <td>2</td>\n",
       "      <td>0</td>\n",
       "      <td>0.007812</td>\n",
       "      <td>-3.492170</td>\n",
       "      <td>-54.826924</td>\n",
       "      <td>-4.886415</td>\n",
       "      <td>0.673630</td>\n",
       "      <td>4.259710</td>\n",
       "      <td>290.713836</td>\n",
       "      <td>4.544382</td>\n",
       "      <td>-4.696435</td>\n",
       "      <td>1</td>\n",
       "      <td>1</td>\n",
       "      <td>1.0</td>\n",
       "    </tr>\n",
       "    <tr>\n",
       "      <th>3</th>\n",
       "      <td>3</td>\n",
       "      <td>3</td>\n",
       "      <td>0</td>\n",
       "      <td>0.011719</td>\n",
       "      <td>-5.221177</td>\n",
       "      <td>-70.724021</td>\n",
       "      <td>-6.137424</td>\n",
       "      <td>0.643151</td>\n",
       "      <td>3.749553</td>\n",
       "      <td>396.613306</td>\n",
       "      <td>6.575249</td>\n",
       "      <td>-8.378026</td>\n",
       "      <td>1</td>\n",
       "      <td>1</td>\n",
       "      <td>1.0</td>\n",
       "    </tr>\n",
       "    <tr>\n",
       "      <th>4</th>\n",
       "      <td>4</td>\n",
       "      <td>4</td>\n",
       "      <td>0</td>\n",
       "      <td>0.015625</td>\n",
       "      <td>-6.957718</td>\n",
       "      <td>-70.413833</td>\n",
       "      <td>-6.059825</td>\n",
       "      <td>0.200740</td>\n",
       "      <td>0.575384</td>\n",
       "      <td>462.006339</td>\n",
       "      <td>8.172946</td>\n",
       "      <td>-13.309297</td>\n",
       "      <td>1</td>\n",
       "      <td>1</td>\n",
       "      <td>1.0</td>\n",
       "    </tr>\n",
       "    <tr>\n",
       "      <th>...</th>\n",
       "      <td>...</td>\n",
       "      <td>...</td>\n",
       "      <td>...</td>\n",
       "      <td>...</td>\n",
       "      <td>...</td>\n",
       "      <td>...</td>\n",
       "      <td>...</td>\n",
       "      <td>...</td>\n",
       "      <td>...</td>\n",
       "      <td>...</td>\n",
       "      <td>...</td>\n",
       "      <td>...</td>\n",
       "      <td>...</td>\n",
       "      <td>...</td>\n",
       "      <td>...</td>\n",
       "    </tr>\n",
       "    <tr>\n",
       "      <th>32646907</th>\n",
       "      <td>75003</td>\n",
       "      <td>53755</td>\n",
       "      <td>292</td>\n",
       "      <td>0.980469</td>\n",
       "      <td>0.000000</td>\n",
       "      <td>0.000000</td>\n",
       "      <td>0.000000</td>\n",
       "      <td>0.000000</td>\n",
       "      <td>0.000000</td>\n",
       "      <td>0.000000</td>\n",
       "      <td>0.000000</td>\n",
       "      <td>0.000000</td>\n",
       "      <td>181</td>\n",
       "      <td>3</td>\n",
       "      <td>0.0</td>\n",
       "    </tr>\n",
       "    <tr>\n",
       "      <th>32646908</th>\n",
       "      <td>75004</td>\n",
       "      <td>53756</td>\n",
       "      <td>292</td>\n",
       "      <td>0.984375</td>\n",
       "      <td>0.000000</td>\n",
       "      <td>0.000000</td>\n",
       "      <td>0.000000</td>\n",
       "      <td>0.000000</td>\n",
       "      <td>0.000000</td>\n",
       "      <td>0.000000</td>\n",
       "      <td>0.000000</td>\n",
       "      <td>0.000000</td>\n",
       "      <td>181</td>\n",
       "      <td>3</td>\n",
       "      <td>0.0</td>\n",
       "    </tr>\n",
       "    <tr>\n",
       "      <th>32646909</th>\n",
       "      <td>75005</td>\n",
       "      <td>53757</td>\n",
       "      <td>292</td>\n",
       "      <td>0.988281</td>\n",
       "      <td>0.000000</td>\n",
       "      <td>0.000000</td>\n",
       "      <td>0.000000</td>\n",
       "      <td>0.000000</td>\n",
       "      <td>0.000000</td>\n",
       "      <td>0.000000</td>\n",
       "      <td>0.000000</td>\n",
       "      <td>0.000000</td>\n",
       "      <td>181</td>\n",
       "      <td>3</td>\n",
       "      <td>0.0</td>\n",
       "    </tr>\n",
       "    <tr>\n",
       "      <th>32646910</th>\n",
       "      <td>75006</td>\n",
       "      <td>53758</td>\n",
       "      <td>292</td>\n",
       "      <td>0.992188</td>\n",
       "      <td>0.000000</td>\n",
       "      <td>0.000000</td>\n",
       "      <td>0.000000</td>\n",
       "      <td>0.000000</td>\n",
       "      <td>0.000000</td>\n",
       "      <td>0.000000</td>\n",
       "      <td>0.000000</td>\n",
       "      <td>0.000000</td>\n",
       "      <td>181</td>\n",
       "      <td>3</td>\n",
       "      <td>0.0</td>\n",
       "    </tr>\n",
       "    <tr>\n",
       "      <th>32646911</th>\n",
       "      <td>75007</td>\n",
       "      <td>53759</td>\n",
       "      <td>292</td>\n",
       "      <td>0.996094</td>\n",
       "      <td>0.000000</td>\n",
       "      <td>0.000000</td>\n",
       "      <td>0.000000</td>\n",
       "      <td>0.000000</td>\n",
       "      <td>0.000000</td>\n",
       "      <td>0.000000</td>\n",
       "      <td>0.000000</td>\n",
       "      <td>0.000000</td>\n",
       "      <td>181</td>\n",
       "      <td>3</td>\n",
       "      <td>0.0</td>\n",
       "    </tr>\n",
       "  </tbody>\n",
       "</table>\n",
       "<p>32646912 rows × 15 columns</p>\n",
       "</div>"
      ],
      "text/plain": [
       "          level_0  index  epoch      time     TP9-1      AF7-1     AF8-1  \\\n",
       "0               0      0      0  0.000000  0.222848  11.608067  0.223902   \n",
       "1               1      1      0  0.003906 -1.673274 -25.432445 -2.610390   \n",
       "2               2      2      0  0.007812 -3.492170 -54.826924 -4.886415   \n",
       "3               3      3      0  0.011719 -5.221177 -70.724021 -6.137424   \n",
       "4               4      4      0  0.015625 -6.957718 -70.413833 -6.059825   \n",
       "...           ...    ...    ...       ...       ...        ...       ...   \n",
       "32646907    75003  53755    292  0.980469  0.000000   0.000000  0.000000   \n",
       "32646908    75004  53756    292  0.984375  0.000000   0.000000  0.000000   \n",
       "32646909    75005  53757    292  0.988281  0.000000   0.000000  0.000000   \n",
       "32646910    75006  53758    292  0.992188  0.000000   0.000000  0.000000   \n",
       "32646911    75007  53759    292  0.996094  0.000000   0.000000  0.000000   \n",
       "\n",
       "            TP10-1     TP9-2       AF7-2     AF8-2     TP10-2  subj  ses  \\\n",
       "0         0.058120 -0.483754   -5.345793 -0.345295  -0.346974     1    1   \n",
       "1         0.434157  2.526975  151.898427  2.187296  -2.175046     1    1   \n",
       "2         0.673630  4.259710  290.713836  4.544382  -4.696435     1    1   \n",
       "3         0.643151  3.749553  396.613306  6.575249  -8.378026     1    1   \n",
       "4         0.200740  0.575384  462.006339  8.172946 -13.309297     1    1   \n",
       "...            ...       ...         ...       ...        ...   ...  ...   \n",
       "32646907  0.000000  0.000000    0.000000  0.000000   0.000000   181    3   \n",
       "32646908  0.000000  0.000000    0.000000  0.000000   0.000000   181    3   \n",
       "32646909  0.000000  0.000000    0.000000  0.000000   0.000000   181    3   \n",
       "32646910  0.000000  0.000000    0.000000  0.000000   0.000000   181    3   \n",
       "32646911  0.000000  0.000000    0.000000  0.000000   0.000000   181    3   \n",
       "\n",
       "          Signal Drop  \n",
       "0                 1.0  \n",
       "1                 1.0  \n",
       "2                 1.0  \n",
       "3                 1.0  \n",
       "4                 1.0  \n",
       "...               ...  \n",
       "32646907          0.0  \n",
       "32646908          0.0  \n",
       "32646909          0.0  \n",
       "32646910          0.0  \n",
       "32646911          0.0  \n",
       "\n",
       "[32646912 rows x 15 columns]"
      ]
     },
     "execution_count": 12,
     "metadata": {},
     "output_type": "execute_result"
    }
   ],
   "source": [
    "eeg_long_df"
   ]
  },
  {
   "cell_type": "code",
   "execution_count": 13,
   "id": "bd225d4a",
   "metadata": {},
   "outputs": [],
   "source": [
    "# Filter out rows where 'Signal Drop' equals 1\n",
    "# Note, this yields some NaNs in the signal drop column\n",
    "# This is because performance has more observations than the eeg data\n",
    "# this gets resolved, in code, later\n",
    "\n",
    "eeg_long_df = eeg_long_df[eeg_long_df['Signal Drop'] != 1]"
   ]
  },
  {
   "cell_type": "code",
   "execution_count": 14,
   "id": "0d1badbe",
   "metadata": {},
   "outputs": [
    {
     "data": {
      "text/html": [
       "<div>\n",
       "<style scoped>\n",
       "    .dataframe tbody tr th:only-of-type {\n",
       "        vertical-align: middle;\n",
       "    }\n",
       "\n",
       "    .dataframe tbody tr th {\n",
       "        vertical-align: top;\n",
       "    }\n",
       "\n",
       "    .dataframe thead th {\n",
       "        text-align: right;\n",
       "    }\n",
       "</style>\n",
       "<table border=\"1\" class=\"dataframe\">\n",
       "  <thead>\n",
       "    <tr style=\"text-align: right;\">\n",
       "      <th></th>\n",
       "      <th>level_0</th>\n",
       "      <th>index</th>\n",
       "      <th>epoch</th>\n",
       "      <th>time</th>\n",
       "      <th>TP9-1</th>\n",
       "      <th>AF7-1</th>\n",
       "      <th>AF8-1</th>\n",
       "      <th>TP10-1</th>\n",
       "      <th>TP9-2</th>\n",
       "      <th>AF7-2</th>\n",
       "      <th>AF8-2</th>\n",
       "      <th>TP10-2</th>\n",
       "      <th>subj</th>\n",
       "      <th>ses</th>\n",
       "      <th>Signal Drop</th>\n",
       "    </tr>\n",
       "  </thead>\n",
       "  <tbody>\n",
       "    <tr>\n",
       "      <th>64768</th>\n",
       "      <td>0</td>\n",
       "      <td>0</td>\n",
       "      <td>0</td>\n",
       "      <td>0.000000</td>\n",
       "      <td>0.0</td>\n",
       "      <td>0.0</td>\n",
       "      <td>0.0</td>\n",
       "      <td>0.0</td>\n",
       "      <td>1.045445</td>\n",
       "      <td>3.490375</td>\n",
       "      <td>8.151611</td>\n",
       "      <td>0.937702</td>\n",
       "      <td>1</td>\n",
       "      <td>2</td>\n",
       "      <td>NaN</td>\n",
       "    </tr>\n",
       "    <tr>\n",
       "      <th>64769</th>\n",
       "      <td>1</td>\n",
       "      <td>1</td>\n",
       "      <td>0</td>\n",
       "      <td>0.003906</td>\n",
       "      <td>0.0</td>\n",
       "      <td>0.0</td>\n",
       "      <td>0.0</td>\n",
       "      <td>0.0</td>\n",
       "      <td>6.429343</td>\n",
       "      <td>-103.796619</td>\n",
       "      <td>-44.588396</td>\n",
       "      <td>6.704982</td>\n",
       "      <td>1</td>\n",
       "      <td>2</td>\n",
       "      <td>NaN</td>\n",
       "    </tr>\n",
       "    <tr>\n",
       "      <th>64770</th>\n",
       "      <td>2</td>\n",
       "      <td>2</td>\n",
       "      <td>0</td>\n",
       "      <td>0.007812</td>\n",
       "      <td>0.0</td>\n",
       "      <td>0.0</td>\n",
       "      <td>0.0</td>\n",
       "      <td>0.0</td>\n",
       "      <td>11.369235</td>\n",
       "      <td>-206.839112</td>\n",
       "      <td>-97.559567</td>\n",
       "      <td>11.973426</td>\n",
       "      <td>1</td>\n",
       "      <td>2</td>\n",
       "      <td>NaN</td>\n",
       "    </tr>\n",
       "    <tr>\n",
       "      <th>64771</th>\n",
       "      <td>3</td>\n",
       "      <td>3</td>\n",
       "      <td>0</td>\n",
       "      <td>0.011719</td>\n",
       "      <td>0.0</td>\n",
       "      <td>0.0</td>\n",
       "      <td>0.0</td>\n",
       "      <td>0.0</td>\n",
       "      <td>15.465029</td>\n",
       "      <td>-301.411454</td>\n",
       "      <td>-150.500839</td>\n",
       "      <td>16.291807</td>\n",
       "      <td>1</td>\n",
       "      <td>2</td>\n",
       "      <td>NaN</td>\n",
       "    </tr>\n",
       "    <tr>\n",
       "      <th>64772</th>\n",
       "      <td>4</td>\n",
       "      <td>4</td>\n",
       "      <td>0</td>\n",
       "      <td>0.015625</td>\n",
       "      <td>0.0</td>\n",
       "      <td>0.0</td>\n",
       "      <td>0.0</td>\n",
       "      <td>0.0</td>\n",
       "      <td>18.390014</td>\n",
       "      <td>-383.355473</td>\n",
       "      <td>-202.251699</td>\n",
       "      <td>19.303860</td>\n",
       "      <td>1</td>\n",
       "      <td>2</td>\n",
       "      <td>NaN</td>\n",
       "    </tr>\n",
       "    <tr>\n",
       "      <th>...</th>\n",
       "      <td>...</td>\n",
       "      <td>...</td>\n",
       "      <td>...</td>\n",
       "      <td>...</td>\n",
       "      <td>...</td>\n",
       "      <td>...</td>\n",
       "      <td>...</td>\n",
       "      <td>...</td>\n",
       "      <td>...</td>\n",
       "      <td>...</td>\n",
       "      <td>...</td>\n",
       "      <td>...</td>\n",
       "      <td>...</td>\n",
       "      <td>...</td>\n",
       "      <td>...</td>\n",
       "    </tr>\n",
       "    <tr>\n",
       "      <th>32646907</th>\n",
       "      <td>75003</td>\n",
       "      <td>53755</td>\n",
       "      <td>292</td>\n",
       "      <td>0.980469</td>\n",
       "      <td>0.0</td>\n",
       "      <td>0.0</td>\n",
       "      <td>0.0</td>\n",
       "      <td>0.0</td>\n",
       "      <td>0.000000</td>\n",
       "      <td>0.000000</td>\n",
       "      <td>0.000000</td>\n",
       "      <td>0.000000</td>\n",
       "      <td>181</td>\n",
       "      <td>3</td>\n",
       "      <td>0.0</td>\n",
       "    </tr>\n",
       "    <tr>\n",
       "      <th>32646908</th>\n",
       "      <td>75004</td>\n",
       "      <td>53756</td>\n",
       "      <td>292</td>\n",
       "      <td>0.984375</td>\n",
       "      <td>0.0</td>\n",
       "      <td>0.0</td>\n",
       "      <td>0.0</td>\n",
       "      <td>0.0</td>\n",
       "      <td>0.000000</td>\n",
       "      <td>0.000000</td>\n",
       "      <td>0.000000</td>\n",
       "      <td>0.000000</td>\n",
       "      <td>181</td>\n",
       "      <td>3</td>\n",
       "      <td>0.0</td>\n",
       "    </tr>\n",
       "    <tr>\n",
       "      <th>32646909</th>\n",
       "      <td>75005</td>\n",
       "      <td>53757</td>\n",
       "      <td>292</td>\n",
       "      <td>0.988281</td>\n",
       "      <td>0.0</td>\n",
       "      <td>0.0</td>\n",
       "      <td>0.0</td>\n",
       "      <td>0.0</td>\n",
       "      <td>0.000000</td>\n",
       "      <td>0.000000</td>\n",
       "      <td>0.000000</td>\n",
       "      <td>0.000000</td>\n",
       "      <td>181</td>\n",
       "      <td>3</td>\n",
       "      <td>0.0</td>\n",
       "    </tr>\n",
       "    <tr>\n",
       "      <th>32646910</th>\n",
       "      <td>75006</td>\n",
       "      <td>53758</td>\n",
       "      <td>292</td>\n",
       "      <td>0.992188</td>\n",
       "      <td>0.0</td>\n",
       "      <td>0.0</td>\n",
       "      <td>0.0</td>\n",
       "      <td>0.0</td>\n",
       "      <td>0.000000</td>\n",
       "      <td>0.000000</td>\n",
       "      <td>0.000000</td>\n",
       "      <td>0.000000</td>\n",
       "      <td>181</td>\n",
       "      <td>3</td>\n",
       "      <td>0.0</td>\n",
       "    </tr>\n",
       "    <tr>\n",
       "      <th>32646911</th>\n",
       "      <td>75007</td>\n",
       "      <td>53759</td>\n",
       "      <td>292</td>\n",
       "      <td>0.996094</td>\n",
       "      <td>0.0</td>\n",
       "      <td>0.0</td>\n",
       "      <td>0.0</td>\n",
       "      <td>0.0</td>\n",
       "      <td>0.000000</td>\n",
       "      <td>0.000000</td>\n",
       "      <td>0.000000</td>\n",
       "      <td>0.000000</td>\n",
       "      <td>181</td>\n",
       "      <td>3</td>\n",
       "      <td>0.0</td>\n",
       "    </tr>\n",
       "  </tbody>\n",
       "</table>\n",
       "<p>17443072 rows × 15 columns</p>\n",
       "</div>"
      ],
      "text/plain": [
       "          level_0  index  epoch      time  TP9-1  AF7-1  AF8-1  TP10-1  \\\n",
       "64768           0      0      0  0.000000    0.0    0.0    0.0     0.0   \n",
       "64769           1      1      0  0.003906    0.0    0.0    0.0     0.0   \n",
       "64770           2      2      0  0.007812    0.0    0.0    0.0     0.0   \n",
       "64771           3      3      0  0.011719    0.0    0.0    0.0     0.0   \n",
       "64772           4      4      0  0.015625    0.0    0.0    0.0     0.0   \n",
       "...           ...    ...    ...       ...    ...    ...    ...     ...   \n",
       "32646907    75003  53755    292  0.980469    0.0    0.0    0.0     0.0   \n",
       "32646908    75004  53756    292  0.984375    0.0    0.0    0.0     0.0   \n",
       "32646909    75005  53757    292  0.988281    0.0    0.0    0.0     0.0   \n",
       "32646910    75006  53758    292  0.992188    0.0    0.0    0.0     0.0   \n",
       "32646911    75007  53759    292  0.996094    0.0    0.0    0.0     0.0   \n",
       "\n",
       "              TP9-2       AF7-2       AF8-2     TP10-2  subj  ses  Signal Drop  \n",
       "64768      1.045445    3.490375    8.151611   0.937702     1    2          NaN  \n",
       "64769      6.429343 -103.796619  -44.588396   6.704982     1    2          NaN  \n",
       "64770     11.369235 -206.839112  -97.559567  11.973426     1    2          NaN  \n",
       "64771     15.465029 -301.411454 -150.500839  16.291807     1    2          NaN  \n",
       "64772     18.390014 -383.355473 -202.251699  19.303860     1    2          NaN  \n",
       "...             ...         ...         ...        ...   ...  ...          ...  \n",
       "32646907   0.000000    0.000000    0.000000   0.000000   181    3          0.0  \n",
       "32646908   0.000000    0.000000    0.000000   0.000000   181    3          0.0  \n",
       "32646909   0.000000    0.000000    0.000000   0.000000   181    3          0.0  \n",
       "32646910   0.000000    0.000000    0.000000   0.000000   181    3          0.0  \n",
       "32646911   0.000000    0.000000    0.000000   0.000000   181    3          0.0  \n",
       "\n",
       "[17443072 rows x 15 columns]"
      ]
     },
     "execution_count": 14,
     "metadata": {},
     "output_type": "execute_result"
    }
   ],
   "source": [
    "eeg_long_df"
   ]
  },
  {
   "cell_type": "code",
   "execution_count": 15,
   "id": "3727489a",
   "metadata": {},
   "outputs": [],
   "source": [
    "# Create a group-by object by subject and session\n",
    "# This means that each unique pair of subj and ses creates a separate group within this group-by object\n",
    "# You need this to calculate the cross correlation function for each subject for each session, below\n",
    "\n",
    "eeg_df_group = eeg_long_df.groupby([\"subj\", \"ses\"])"
   ]
  },
  {
   "cell_type": "code",
   "execution_count": null,
   "id": "44a3dc0f",
   "metadata": {},
   "outputs": [],
   "source": []
  },
  {
   "cell_type": "code",
   "execution_count": null,
   "id": "6a19b81a",
   "metadata": {},
   "outputs": [],
   "source": []
  },
  {
   "cell_type": "code",
   "execution_count": 16,
   "id": "e197c8ff",
   "metadata": {},
   "outputs": [],
   "source": [
    "# Define a function to obtain the cross-correlation (ccf) between timeseries\n",
    "# Length determines how many seconds forward/backward the ccf considered\n",
    "# In this case, the time-series are shifted forward/bakward 5s\n",
    "\n",
    "def obtain_ccf(ts_1, ts_2, length=5):\n",
    "    # Reverse the time series: used to calculate the cross-correlation from end of the series toward beginning\n",
    "    # Explores how past values of ts_2 influence future values of ts_1\n",
    "    # adjusted=False: Do not adjust the scale of the correlation for the number of observations\n",
    "    # This means that the ccf output is not normalized\n",
    "    # [::-1] reverses the result again; restores chronological order of lags\n",
    "    # [-(length*256+1):] slices the array to keep the last length*256+1 elements, based on sampling rate\n",
    "    backwards = smt.ccf(ts_1[::-1], ts_2[::-1], adjusted=False)[::-1][-(length*256+1):]\n",
    "    # Computes the forward cross-correlation function\n",
    "    # Explores how past values of ts_1 influence future values of ts_2\n",
    "    forwards = smt.ccf(ts_1, ts_2, adjusted=False)[:(length*256+1)]\n",
    "    # Concatenate result arrays along the first axis (row-wise)\n",
    "    ccf_output = np.r_[backwards[:-1], forwards]\n",
    "    return ccf_output"
   ]
  },
  {
   "cell_type": "code",
   "execution_count": 17,
   "id": "6d249373",
   "metadata": {},
   "outputs": [],
   "source": [
    "# Initialize necessary dictionaries\n",
    "\n",
    "ccf_dict = {}\n",
    "ccf_dict[\"TP9\"] = {}\n",
    "ccf_dict[\"AF7\"] = {}\n",
    "ccf_dict[\"AF8\"] = {}\n",
    "ccf_dict[\"TP10\"] = {}\n",
    "\n",
    "\n",
    "# Initialize necessary list \n",
    "\n",
    "sessions_pair = []\n",
    "\n",
    "# Calculate the cross correlation function for each subject for each session for each electrode\n",
    "# Store results in relevant ccf dictionary\n",
    "for name, group in eeg_df_group:\n",
    "    if group.shape[0] >= 10*256+1: # Only process data is at least 10s long (sampling rate is 256Hz)\n",
    "        ccf_dict[\"TP9\"][name] = obtain_ccf(group[\"TP9-1\"], group[\"TP9-2\"])\n",
    "        ccf_dict[\"AF7\"][name] = obtain_ccf(group[\"AF7-1\"], group[\"AF7-2\"])\n",
    "        ccf_dict[\"AF8\"][name] = obtain_ccf(group[\"AF8-1\"], group[\"AF8-2\"])\n",
    "        ccf_dict[\"TP10\"][name] = obtain_ccf(group[\"TP10-1\"], group[\"TP10-2\"])\n",
    "        \n",
    "        # Add results to the sessions_pair list\n",
    "        sessions_pair.append(name)"
   ]
  },
  {
   "cell_type": "code",
   "execution_count": 18,
   "id": "c409d58f",
   "metadata": {},
   "outputs": [],
   "source": [
    "# This code sets number of dropped epochs and session length for subsequent filtering\n",
    "# needs updated to match the criteria we use for the main analysis\n",
    "\n",
    "#filtered_pairs = list(dropped_1[(dropped_1[0] <= 0.7) & \n",
    "#               (dropped_2[0] <= 0.7) & \n",
    "#               (session_size_1[0]/256/60 >= 3.5)][[\"subj\", \"ses\"]].itertuples(index=False, name=None))"
   ]
  },
  {
   "cell_type": "code",
   "execution_count": 19,
   "id": "40e139f5",
   "metadata": {},
   "outputs": [],
   "source": [
    "# This code applys\n",
    "# needs updated to match the criteria we use for the main analysis\n",
    "\n",
    "#sessions_pair_new = list(set(sessions_pair) & set(filtered_pairs))"
   ]
  },
  {
   "cell_type": "code",
   "execution_count": 20,
   "id": "32444af2",
   "metadata": {},
   "outputs": [
    {
     "name": "stdout",
     "output_type": "stream",
     "text": [
      "(4, 191, 2561)\n"
     ]
    }
   ],
   "source": [
    "# Convert each list directly into an array of objects\n",
    "object_array = np.array([np.array(list(sublist.values()), dtype=object) for sublist in ccf_dict.values()])\n",
    "\n",
    "print(object_array.shape)  # This will print (4, 5)\n"
   ]
  },
  {
   "cell_type": "code",
   "execution_count": 21,
   "id": "728dfde9",
   "metadata": {},
   "outputs": [
    {
     "data": {
      "text/plain": [
       "(4, 191, 2561)"
      ]
     },
     "execution_count": 21,
     "metadata": {},
     "output_type": "execute_result"
    }
   ],
   "source": [
    "# Create an array for all 4 electrodes, for all participants/sessions, for all time-shifted data (+/-5s)\n",
    "\n",
    "ccf_matrix = np.array([list(ccf_dict[\"TP9\"].values()),\n",
    "list(ccf_dict[\"AF7\"].values()),\n",
    "list(ccf_dict[\"AF8\"].values()),\n",
    "list(ccf_dict[\"TP10\"].values())])\n",
    "\n",
    "# Check your work, should be 4 (electrodes) x 267 (number of participants*sessions) x 2561 (+/-5s + 0s offset)\n",
    "\n",
    "ccf_matrix.shape"
   ]
  },
  {
   "cell_type": "code",
   "execution_count": 22,
   "id": "f502fa82",
   "metadata": {},
   "outputs": [],
   "source": [
    "# Create an index that will merge the number of subjects/sessions in the EEG data\n",
    "# with the performance data (which has more subjects/sessions than the EEG data)\n",
    "\n",
    "select_index = pd.DataFrame(sessions_pair)\n",
    "select_index.columns = [\"subj\", \"ses\"]\n",
    "select_index = select_index.sort_values([\"subj\", \"ses\"])"
   ]
  },
  {
   "cell_type": "code",
   "execution_count": 23,
   "id": "ffb76fd5",
   "metadata": {},
   "outputs": [
    {
     "data": {
      "text/html": [
       "<div>\n",
       "<style scoped>\n",
       "    .dataframe tbody tr th:only-of-type {\n",
       "        vertical-align: middle;\n",
       "    }\n",
       "\n",
       "    .dataframe tbody tr th {\n",
       "        vertical-align: top;\n",
       "    }\n",
       "\n",
       "    .dataframe thead th {\n",
       "        text-align: right;\n",
       "    }\n",
       "</style>\n",
       "<table border=\"1\" class=\"dataframe\">\n",
       "  <thead>\n",
       "    <tr style=\"text-align: right;\">\n",
       "      <th></th>\n",
       "      <th>subj</th>\n",
       "      <th>ses</th>\n",
       "    </tr>\n",
       "  </thead>\n",
       "  <tbody>\n",
       "    <tr>\n",
       "      <th>0</th>\n",
       "      <td>1</td>\n",
       "      <td>2</td>\n",
       "    </tr>\n",
       "    <tr>\n",
       "      <th>1</th>\n",
       "      <td>2</td>\n",
       "      <td>3</td>\n",
       "    </tr>\n",
       "    <tr>\n",
       "      <th>2</th>\n",
       "      <td>3</td>\n",
       "      <td>2</td>\n",
       "    </tr>\n",
       "    <tr>\n",
       "      <th>3</th>\n",
       "      <td>3</td>\n",
       "      <td>3</td>\n",
       "    </tr>\n",
       "    <tr>\n",
       "      <th>4</th>\n",
       "      <td>5</td>\n",
       "      <td>3</td>\n",
       "    </tr>\n",
       "    <tr>\n",
       "      <th>...</th>\n",
       "      <td>...</td>\n",
       "      <td>...</td>\n",
       "    </tr>\n",
       "    <tr>\n",
       "      <th>186</th>\n",
       "      <td>178</td>\n",
       "      <td>3</td>\n",
       "    </tr>\n",
       "    <tr>\n",
       "      <th>187</th>\n",
       "      <td>179</td>\n",
       "      <td>1</td>\n",
       "    </tr>\n",
       "    <tr>\n",
       "      <th>188</th>\n",
       "      <td>179</td>\n",
       "      <td>2</td>\n",
       "    </tr>\n",
       "    <tr>\n",
       "      <th>189</th>\n",
       "      <td>181</td>\n",
       "      <td>2</td>\n",
       "    </tr>\n",
       "    <tr>\n",
       "      <th>190</th>\n",
       "      <td>181</td>\n",
       "      <td>3</td>\n",
       "    </tr>\n",
       "  </tbody>\n",
       "</table>\n",
       "<p>191 rows × 2 columns</p>\n",
       "</div>"
      ],
      "text/plain": [
       "     subj  ses\n",
       "0       1    2\n",
       "1       2    3\n",
       "2       3    2\n",
       "3       3    3\n",
       "4       5    3\n",
       "..    ...  ...\n",
       "186   178    3\n",
       "187   179    1\n",
       "188   179    2\n",
       "189   181    2\n",
       "190   181    3\n",
       "\n",
       "[191 rows x 2 columns]"
      ]
     },
     "execution_count": 23,
     "metadata": {},
     "output_type": "execute_result"
    }
   ],
   "source": [
    "select_index"
   ]
  },
  {
   "cell_type": "code",
   "execution_count": 24,
   "id": "f2dae560",
   "metadata": {
    "scrolled": true
   },
   "outputs": [],
   "source": [
    "# Reduce performance data as specified in the index above\n",
    "# Make new dataframe of reduced data\n",
    "\n",
    "performance_select = select_index.merge(performance, on=[\"subj\", \"ses\"], how=\"left\")\n",
    "performance_select = performance_select.dropna().reset_index(drop=True)"
   ]
  },
  {
   "cell_type": "code",
   "execution_count": 25,
   "id": "02b01a41",
   "metadata": {},
   "outputs": [
    {
     "data": {
      "text/html": [
       "<div>\n",
       "<style scoped>\n",
       "    .dataframe tbody tr th:only-of-type {\n",
       "        vertical-align: middle;\n",
       "    }\n",
       "\n",
       "    .dataframe tbody tr th {\n",
       "        vertical-align: top;\n",
       "    }\n",
       "\n",
       "    .dataframe thead th {\n",
       "        text-align: right;\n",
       "    }\n",
       "</style>\n",
       "<table border=\"1\" class=\"dataframe\">\n",
       "  <thead>\n",
       "    <tr style=\"text-align: right;\">\n",
       "      <th></th>\n",
       "      <th>subj</th>\n",
       "      <th>ses</th>\n",
       "      <th>Unnamed: 0</th>\n",
       "      <th>Performance</th>\n",
       "      <th>Time (sec)</th>\n",
       "      <th>Signal Drop</th>\n",
       "    </tr>\n",
       "  </thead>\n",
       "  <tbody>\n",
       "    <tr>\n",
       "      <th>0</th>\n",
       "      <td>2</td>\n",
       "      <td>3</td>\n",
       "      <td>4.0</td>\n",
       "      <td>10.0</td>\n",
       "      <td>552.0</td>\n",
       "      <td>0.0</td>\n",
       "    </tr>\n",
       "    <tr>\n",
       "      <th>1</th>\n",
       "      <td>3</td>\n",
       "      <td>2</td>\n",
       "      <td>6.0</td>\n",
       "      <td>7.0</td>\n",
       "      <td>294.0</td>\n",
       "      <td>0.0</td>\n",
       "    </tr>\n",
       "    <tr>\n",
       "      <th>2</th>\n",
       "      <td>3</td>\n",
       "      <td>3</td>\n",
       "      <td>7.0</td>\n",
       "      <td>7.0</td>\n",
       "      <td>262.0</td>\n",
       "      <td>0.0</td>\n",
       "    </tr>\n",
       "    <tr>\n",
       "      <th>3</th>\n",
       "      <td>5</td>\n",
       "      <td>3</td>\n",
       "      <td>11.0</td>\n",
       "      <td>7.0</td>\n",
       "      <td>303.0</td>\n",
       "      <td>0.0</td>\n",
       "    </tr>\n",
       "    <tr>\n",
       "      <th>4</th>\n",
       "      <td>6</td>\n",
       "      <td>2</td>\n",
       "      <td>12.0</td>\n",
       "      <td>3.0</td>\n",
       "      <td>428.0</td>\n",
       "      <td>0.0</td>\n",
       "    </tr>\n",
       "    <tr>\n",
       "      <th>...</th>\n",
       "      <td>...</td>\n",
       "      <td>...</td>\n",
       "      <td>...</td>\n",
       "      <td>...</td>\n",
       "      <td>...</td>\n",
       "      <td>...</td>\n",
       "    </tr>\n",
       "    <tr>\n",
       "      <th>152</th>\n",
       "      <td>178</td>\n",
       "      <td>3</td>\n",
       "      <td>297.0</td>\n",
       "      <td>8.0</td>\n",
       "      <td>207.0</td>\n",
       "      <td>0.0</td>\n",
       "    </tr>\n",
       "    <tr>\n",
       "      <th>153</th>\n",
       "      <td>179</td>\n",
       "      <td>1</td>\n",
       "      <td>298.0</td>\n",
       "      <td>11.0</td>\n",
       "      <td>671.0</td>\n",
       "      <td>0.0</td>\n",
       "    </tr>\n",
       "    <tr>\n",
       "      <th>154</th>\n",
       "      <td>179</td>\n",
       "      <td>2</td>\n",
       "      <td>299.0</td>\n",
       "      <td>11.0</td>\n",
       "      <td>556.0</td>\n",
       "      <td>0.0</td>\n",
       "    </tr>\n",
       "    <tr>\n",
       "      <th>155</th>\n",
       "      <td>181</td>\n",
       "      <td>2</td>\n",
       "      <td>305.0</td>\n",
       "      <td>7.0</td>\n",
       "      <td>426.0</td>\n",
       "      <td>0.0</td>\n",
       "    </tr>\n",
       "    <tr>\n",
       "      <th>156</th>\n",
       "      <td>181</td>\n",
       "      <td>3</td>\n",
       "      <td>306.0</td>\n",
       "      <td>11.0</td>\n",
       "      <td>356.0</td>\n",
       "      <td>0.0</td>\n",
       "    </tr>\n",
       "  </tbody>\n",
       "</table>\n",
       "<p>157 rows × 6 columns</p>\n",
       "</div>"
      ],
      "text/plain": [
       "     subj  ses  Unnamed: 0  Performance  Time (sec)  Signal Drop\n",
       "0       2    3         4.0         10.0       552.0          0.0\n",
       "1       3    2         6.0          7.0       294.0          0.0\n",
       "2       3    3         7.0          7.0       262.0          0.0\n",
       "3       5    3        11.0          7.0       303.0          0.0\n",
       "4       6    2        12.0          3.0       428.0          0.0\n",
       "..    ...  ...         ...          ...         ...          ...\n",
       "152   178    3       297.0          8.0       207.0          0.0\n",
       "153   179    1       298.0         11.0       671.0          0.0\n",
       "154   179    2       299.0         11.0       556.0          0.0\n",
       "155   181    2       305.0          7.0       426.0          0.0\n",
       "156   181    3       306.0         11.0       356.0          0.0\n",
       "\n",
       "[157 rows x 6 columns]"
      ]
     },
     "execution_count": 25,
     "metadata": {},
     "output_type": "execute_result"
    }
   ],
   "source": [
    "performance_select"
   ]
  },
  {
   "cell_type": "code",
   "execution_count": 26,
   "id": "5692c56e",
   "metadata": {},
   "outputs": [],
   "source": [
    "# Convert \"Performance\" (correctly matched shapes) data into a NumPy array, store in the variable y\n",
    "\n",
    "y = performance_select[\"Performance\"].to_numpy()"
   ]
  },
  {
   "cell_type": "code",
   "execution_count": 27,
   "id": "8dc98c2f",
   "metadata": {},
   "outputs": [
    {
     "data": {
      "text/plain": [
       "array([10.,  7.,  7.,  7.,  3.,  0.,  7.,  9., 10.,  8.,  1.,  1.,  3.,\n",
       "        0.,  4.,  7.,  1.,  7.,  5.,  7.,  2.,  6.,  0.,  6.,  6.,  5.,\n",
       "        5.,  6., 11.,  5.,  4.,  2.,  2.,  7.,  7.,  0.,  3.,  4.,  7.,\n",
       "       10.,  7.,  3.,  6.,  2.,  2.,  8.,  9.,  1.,  6.,  5.,  3.,  8.,\n",
       "       11., 10.,  7., 11.,  6.,  4.,  3.,  5.,  9., 11.,  5.,  7.,  5.,\n",
       "        7.,  7.,  2.,  0.,  9., 10., 11.,  7.,  1.,  1.,  0.,  5.,  2.,\n",
       "        0., 10.,  2.,  5.,  7., 11.,  6.,  4.,  0.,  7.,  7.,  7.,  3.,\n",
       "        5.,  5.,  8.,  1.,  0.,  2.,  5.,  7.,  2.,  4.,  9.,  7.,  5.,\n",
       "        4.,  8.,  7.,  7., 11.,  4.,  7.,  8.,  0.,  1., 11., 10.,  8.,\n",
       "        3., 11.,  7.,  7.,  6., 10.,  6.,  7., 10., 10.,  6.,  4.,  5.,\n",
       "        3.,  8.,  2.,  6.,  7.,  7., 11.,  3.,  8.,  7.,  6., 11.,  5.,\n",
       "        4.,  9.,  9.,  2., 10.,  7.,  7.,  9.,  9.,  8., 11., 11.,  7.,\n",
       "       11.])"
      ]
     },
     "execution_count": 27,
     "metadata": {},
     "output_type": "execute_result"
    }
   ],
   "source": [
    "y"
   ]
  },
  {
   "cell_type": "code",
   "execution_count": 28,
   "id": "d3bab3ed",
   "metadata": {},
   "outputs": [],
   "source": [
    "# Create a list where each element is a tuple containing: subject and session\n",
    "\n",
    "final_select = list(performance_select[[\"subj\", \"ses\"]].itertuples(index=False, name=None))"
   ]
  },
  {
   "cell_type": "code",
   "execution_count": 29,
   "id": "40e4d9a3",
   "metadata": {},
   "outputs": [],
   "source": [
    "# Make temp_index that contains the indices of sessions_pair where its elements match those in final_select\n",
    "# This will be used to index the ccf_matrix in the next code block\n",
    "\n",
    "temp_index = []\n",
    "\n",
    "for i in final_select:\n",
    "    for j in range(len(sessions_pair)):\n",
    "        if i == sessions_pair[j]:\n",
    "            temp_index.append(j)"
   ]
  },
  {
   "cell_type": "code",
   "execution_count": 30,
   "id": "cf7b866b",
   "metadata": {
    "scrolled": true
   },
   "outputs": [],
   "source": [
    "# Subset the ccf_matrix based on all entries in the first and third dimensions\n",
    "# but only in the second dimension as specified by temp_index, and also in the ccf\n",
    "\n",
    "X = ccf_matrix[:,temp_index,:]"
   ]
  },
  {
   "cell_type": "code",
   "execution_count": 31,
   "id": "08f98051",
   "metadata": {},
   "outputs": [],
   "source": [
    "\n",
    "\n",
    "# Initialize an empty dictionary\n",
    "correlation_ccf = {}\n",
    "\n",
    "# Specify channels and initialize an empty list for each channel\n",
    "channels = [\"TP9\", \"AF7\", \"AF8\", \"TP10\"]\n",
    "correlation_ccf[\"TP9\"] = []\n",
    "correlation_ccf[\"AF7\"] = []\n",
    "correlation_ccf[\"AF8\"] = []\n",
    "correlation_ccf[\"TP10\"] = []\n",
    "\n",
    "# Calculate pearson correlation coefficient\n",
    "# Extract the ith element along the third dimension for the kth channel in ccf_matrix(X)\n",
    "# Correlate with performance\n",
    "for k in range(4):\n",
    "    for i in range(X.shape[2]):\n",
    "        correlation_ccf[channels[k]].append(pearsonr(X[k,:,i], y))"
   ]
  },
  {
   "cell_type": "code",
   "execution_count": 32,
   "id": "21a5af52",
   "metadata": {
    "scrolled": true
   },
   "outputs": [
    {
     "data": {
      "image/png": "[encoded data removed]",
      "text/plain": [
       "<Figure size 576x576 with 4 Axes>"
      ]
     },
     "metadata": {
      "needs_background": "light"
     },
     "output_type": "display_data"
    }
   ],
   "source": [
    "fig, axs = plt.subplots(2,2,figsize=(8,8))\n",
    "\n",
    "channels = [\"TP9\", \"AF7\", \"AF8\", \"TP10\"]\n",
    "for i in range(4):\n",
    "    axs[i//2, i%2].plot(np.array(correlation_ccf[channels[i]])[:,0])\n",
    "    \n",
    "    axs[i//2, i%2].set_xticks(np.linspace(0,2561, 11),\n",
    "           np.round((np.linspace(0,2561, 11)-1281)/256,0).astype(int))\n",
    "    axs[i//2, i%2].set_xlabel(\"lags\")\n",
    "    axs[i//2, i%2].set_ylabel(channels[i])\n",
    "    axs[i//2, i%2].axhline(y=0, color='r', linestyle='-')\n",
    "    \n",
    "plt.show()"
   ]
  },
  {
   "cell_type": "code",
   "execution_count": null,
   "id": "4397e14d",
   "metadata": {},
   "outputs": [],
   "source": [
    "t_lags = {}\n",
    "channels = [\"TP9\", \"AF7\", \"AF8\", \"TP10\"]\n",
    "t_lags[\"TP9\"] = []\n",
    "t_lags[\"AF7\"] = []\n",
    "t_lags[\"AF8\"] = []\n",
    "t_lags[\"TP10\"] = []\n",
    "\n",
    "\n",
    "for i in range(X.shape[2]):\n",
    "    t_lags[channels[k]].append()"
   ]
  },
  {
   "cell_type": "code",
   "execution_count": null,
   "id": "a448c94b",
   "metadata": {},
   "outputs": [],
   "source": [
    "X.shape"
   ]
  },
  {
   "cell_type": "code",
   "execution_count": null,
   "id": "ab8b550e",
   "metadata": {},
   "outputs": [],
   "source": [
    "def run_mreg_with_lag(X, y, lag):\n",
    "    X_temp = X[:,:,lag].T\n",
    "    X_with_const = sm.add_constant(X_temp)\n",
    "\n",
    "    model = sm.OLS(y, X_with_const).fit()\n",
    "    t_values = [i[3] for i in model.summary().tables[1].data[1:]]\n",
    "    p_values = [i[4] for i in model.summary().tables[1].data[1:]]\n",
    "    \n",
    "    t_values = np.array(t_values).astype(float)\n",
    "    p_values = np.array(p_values).astype(float)\n",
    "    \n",
    "    return (t_values, p_values)\n"
   ]
  },
  {
   "cell_type": "code",
   "execution_count": null,
   "id": "eb4aa09a",
   "metadata": {},
   "outputs": [],
   "source": [
    "t_values_lags = []\n",
    "p_values_lags = []\n",
    "for lag in range(X.shape[2]):\n",
    "    t_values, p_values = run_mreg_with_lag(X, y, lag)\n",
    "    t_values_lags.append(t_values)\n",
    "    p_values_lags.append(p_values)\n",
    "t_values_lags = np.array(t_values_lags)"
   ]
  },
  {
   "cell_type": "code",
   "execution_count": null,
   "id": "8d20518b",
   "metadata": {},
   "outputs": [],
   "source": [
    "fig, axs = plt.subplots(2,2,figsize=(8,8))\n",
    "\n",
    "channels = [\"TP9\", \"AF7\", \"AF8\", \"TP10\"]\n",
    "for i in range(4):\n",
    "    axs[i//2, i%2].plot(t_values_lags[:,1:][:,i])\n",
    "    \n",
    "    axs[i//2, i%2].set_xticks(np.linspace(0,2561, 11),\n",
    "           np.round((np.linspace(0,2561, 11)-1281)/256,0).astype(int))\n",
    "    axs[i//2, i%2].set_xlabel(\"lags\")\n",
    "    axs[i//2, i%2].set_ylabel(\"t statistics\")\n",
    "#     axs[i//2, i%2].axhline(y=0, color='r', linestyle='-')\n",
    "    \n",
    "    axs[i//2, i%2].axhline(y=1.996564, color='r', linestyle='--')\n",
    "    axs[i//2, i%2].axhline(y=-1.996564, color='r', linestyle='--')\n",
    "    axs[i//2, i%2].set_title(channels[i])\n",
    "    axs[i//2, i%2].set_ylim([-3,3])\n",
    "\n",
    "from matplotlib.lines import Line2D\n",
    "line = Line2D([0], [0], label='critical t statistics', color='r', linestyle='--')\n",
    "\n",
    "fig.legend(handles=[line], loc='upper center')\n",
    "\n",
    "plt.tight_layout()\n",
    "fig.savefig('ccf.png', dpi=300)\n",
    "plt.show()"
   ]
  },
  {
   "cell_type": "code",
   "execution_count": null,
   "id": "25ab33bf",
   "metadata": {},
   "outputs": [],
   "source": [
    "import statsmodels.stats as stats"
   ]
  },
  {
   "cell_type": "code",
   "execution_count": null,
   "id": "c9680b66",
   "metadata": {},
   "outputs": [],
   "source": [
    "p_values_lags = np.array(p_values_lags)"
   ]
  },
  {
   "cell_type": "code",
   "execution_count": null,
   "id": "0970283b",
   "metadata": {},
   "outputs": [],
   "source": [
    "fdr_p_list = []\n",
    "fdr_p_list.append(stats.multitest.fdrcorrection(p_values_lags[:,1], alpha=0.05, method='indep', is_sorted=False)[1])\n",
    "fdr_p_list.append(stats.multitest.fdrcorrection(p_values_lags[:,2], alpha=0.05, method='indep', is_sorted=False)[1])\n",
    "fdr_p_list.append(stats.multitest.fdrcorrection(p_values_lags[:,3], alpha=0.05, method='indep', is_sorted=False)[1])\n",
    "fdr_p_list.append(stats.multitest.fdrcorrection(p_values_lags[:,4], alpha=0.05, method='indep', is_sorted=False)[1])"
   ]
  },
  {
   "cell_type": "code",
   "execution_count": null,
   "id": "c118a7ce",
   "metadata": {},
   "outputs": [],
   "source": [
    "fdr_p_list = np.array(fdr_p_list)"
   ]
  },
  {
   "cell_type": "code",
   "execution_count": 33,
   "id": "155d39d7",
   "metadata": {},
   "outputs": [
    {
     "ename": "NameError",
     "evalue": "name 'p_values_lags' is not defined",
     "output_type": "error",
     "traceback": [
      "\u001b[0;31m---------------------------------------------------------------------------\u001b[0m",
      "\u001b[0;31mNameError\u001b[0m                                 Traceback (most recent call last)",
      "Input \u001b[0;32mIn [33]\u001b[0m, in \u001b[0;36m<cell line: 1>\u001b[0;34m()\u001b[0m\n\u001b[1;32m      1\u001b[0m \u001b[38;5;28;01mfor\u001b[39;00m i \u001b[38;5;129;01min\u001b[39;00m \u001b[38;5;28mrange\u001b[39m(\u001b[38;5;241m1\u001b[39m,\u001b[38;5;241m5\u001b[39m):\n\u001b[0;32m----> 2\u001b[0m     plt\u001b[38;5;241m.\u001b[39mplot(\u001b[43mp_values_lags\u001b[49m[:,i])\n\u001b[1;32m      3\u001b[0m     plt\u001b[38;5;241m.\u001b[39maxhline(y\u001b[38;5;241m=\u001b[39m\u001b[38;5;241m0.05\u001b[39m, color\u001b[38;5;241m=\u001b[39m\u001b[38;5;124m'\u001b[39m\u001b[38;5;124mblack\u001b[39m\u001b[38;5;124m'\u001b[39m, linestyle\u001b[38;5;241m=\u001b[39m\u001b[38;5;124m'\u001b[39m\u001b[38;5;124m-\u001b[39m\u001b[38;5;124m'\u001b[39m)\n\u001b[1;32m      5\u001b[0m plt\u001b[38;5;241m.\u001b[39mshow()\n",
      "\u001b[0;31mNameError\u001b[0m: name 'p_values_lags' is not defined"
     ]
    }
   ],
   "source": [
    "\n",
    "for i in range(1,5):\n",
    "    plt.plot(p_values_lags[:,i])\n",
    "    plt.axhline(y=0.05, color='black', linestyle='-')\n",
    "\n",
    "plt.show()"
   ]
  },
  {
   "cell_type": "code",
   "execution_count": null,
   "id": "54d7af5f",
   "metadata": {},
   "outputs": [],
   "source": [
    "fdr_p_list"
   ]
  },
  {
   "cell_type": "code",
   "execution_count": null,
   "id": "a836292b",
   "metadata": {},
   "outputs": [],
   "source": [
    "\n",
    "for i in range(4):\n",
    "    plt.plot(fdr_p_list[i,:])\n",
    "    \n",
    "    plt.axhline(y=0.05, color='black', linestyle='-')\n",
    "\n",
    "plt.show()"
   ]
  },
  {
   "cell_type": "code",
   "execution_count": null,
   "id": "a339fd4b",
   "metadata": {},
   "outputs": [],
   "source": [
    "plt.plot(fdr_p_list[3,:])\n",
    "plt.show()"
   ]
  },
  {
   "cell_type": "code",
   "execution_count": null,
   "id": "ea0c95b2",
   "metadata": {},
   "outputs": [],
   "source": [
    "(fdr_p_list <= 0.05).sum()"
   ]
  },
  {
   "cell_type": "code",
   "execution_count": 34,
   "id": "a4a8055b",
   "metadata": {},
   "outputs": [
    {
     "data": {
      "image/png": "[encoded data removed]",
      "text/plain": [
       "<Figure size 432x288 with 1 Axes>"
      ]
     },
     "metadata": {
      "needs_background": "light"
     },
     "output_type": "display_data"
    }
   ],
   "source": [
    "plt.plot(np.array(correlation_ccf[\"TP9\"])[:,0])\n",
    "\n",
    "plt.xticks(np.linspace(0,2561, 11),\n",
    "           np.round((np.linspace(0,2561, 11)-1281)/256))\n",
    "plt.show()"
   ]
  },
  {
   "cell_type": "code",
   "execution_count": 35,
   "id": "eabbd54e",
   "metadata": {},
   "outputs": [
    {
     "data": {
      "image/png": "[encoded data removed]",
      "text/plain": [
       "<Figure size 432x288 with 1 Axes>"
      ]
     },
     "metadata": {
      "needs_background": "light"
     },
     "output_type": "display_data"
    }
   ],
   "source": [
    "plt.plot(np.array(correlation_ccf[\"TP10\"])[:,0])\n",
    "\n",
    "plt.xticks(np.linspace(0,2561, 11),\n",
    "           np.round((np.linspace(0,2561, 11)-1281)/256))\n",
    "plt.show()"
   ]
  },
  {
   "cell_type": "code",
   "execution_count": 37,
   "id": "d6ade601",
   "metadata": {},
   "outputs": [
    {
     "data": {
      "image/png": "[encoded data removed]",
      "text/plain": [
       "<Figure size 432x288 with 1 Axes>"
      ]
     },
     "metadata": {
      "needs_background": "light"
     },
     "output_type": "display_data"
    }
   ],
   "source": [
    "plt.plot(np.array(correlation_ccf[\"AF7\"])[:,0])\n",
    "\n",
    "plt.xticks(np.linspace(0,2561, 11),\n",
    "           np.round((np.linspace(0,2561, 11)-1281)/256))\n",
    "plt.show()"
   ]
  },
  {
   "cell_type": "code",
   "execution_count": 38,
   "id": "15402d8a",
   "metadata": {},
   "outputs": [
    {
     "data": {
      "image/png": "[encoded data removed]",
      "text/plain": [
       "<Figure size 432x288 with 1 Axes>"
      ]
     },
     "metadata": {
      "needs_background": "light"
     },
     "output_type": "display_data"
    }
   ],
   "source": [
    "plt.plot(np.array(correlation_ccf[\"AF8\"])[:,0])\n",
    "\n",
    "plt.xticks(np.linspace(0,2561, 11),\n",
    "           np.round((np.linspace(0,2561, 11)-1281)/256))\n",
    "plt.show()"
   ]
  },
  {
   "cell_type": "code",
   "execution_count": null,
   "id": "71ccb61c",
   "metadata": {},
   "outputs": [],
   "source": [
    "\n",
    "import statsmodels.tsa.stattools as smt\n",
    "def obtain_ccf(ts_1, ts_2, length=5):\n",
    "    backwards = smt.ccf(ts_1[::-1], ts_2[::-1], adjusted=False)[::-1][-(length*256+1):]\n",
    "    forwards = smt.ccf(ts_1, ts_2, adjusted=False)[:(length*256+1)]\n",
    "    ccf_output = np.r_[backwards[:-1], forwards]\n",
    "    return ccf_output"
   ]
  },
  {
   "cell_type": "code",
   "execution_count": null,
   "id": "c867668a",
   "metadata": {},
   "outputs": [],
   "source": []
  },
  {
   "cell_type": "code",
   "execution_count": null,
   "id": "6fddfbdd",
   "metadata": {},
   "outputs": [],
   "source": []
  },
  {
   "cell_type": "code",
   "execution_count": null,
   "id": "4361c9d7",
   "metadata": {},
   "outputs": [],
   "source": [
    "corr_df_TP9 = eeg_long_df.groupby([\"subj\", \"ses\"])[[\"TP9-1\", \"TP9-2\"]].corr().iloc[0::2,-1].reset_index().iloc[:,-1]\n",
    "corr_df_AF7 = eeg_long_df.groupby([\"subj\", \"ses\"])[[\"AF7-1\", \"AF7-2\"]].corr().iloc[0::2,-1].reset_index().iloc[:,-1]\n",
    "corr_df_AF8 = eeg_long_df.groupby([\"subj\", \"ses\"])[[\"AF8-1\", \"AF8-2\"]].corr().iloc[0::2,-1].reset_index().iloc[:,-1]\n",
    "corr_df_TP10 = eeg_long_df.groupby([\"subj\", \"ses\"])[[\"TP10-1\", \"TP10-2\"]].corr().iloc[0::2,-1].reset_index().iloc[:,-1]\n",
    "\n",
    "corr_df = pd.concat([corr_df_TP9, corr_df_AF7, corr_df_AF8, corr_df_TP10], axis=1)\n",
    "corr_df.columns = [\"TP9\", \"AF7\", \"AF8\", \"TP10\"]\n",
    "corr_df[\"subj\"] = eeg_long_df.groupby([\"subj\", \"ses\"])[[\"TP9-1\", \"TP9-2\"]].corr().iloc[0::2,-1].reset_index().iloc[:,0]\n",
    "corr_df[\"ses\"] = eeg_long_df.groupby([\"subj\", \"ses\"])[[\"TP9-1\", \"TP9-2\"]].corr().iloc[0::2,-1].reset_index().iloc[:,1]"
   ]
  },
  {
   "cell_type": "code",
   "execution_count": null,
   "id": "6bf30b9a",
   "metadata": {},
   "outputs": [],
   "source": [
    "dropped_time_1 = eeg_long_df[[\"TP9-1\"]].isna().groupby([eeg_long_df[\"subj\"], eeg_long_df[\"ses\"]]).sum()[\"TP9-1\"]\n",
    "session_size_1 = eeg_long_df[[\"TP9-1\"]].isna().groupby([eeg_long_df[\"subj\"], eeg_long_df[\"ses\"]]).size()\n",
    "dropped_1 = dropped_time_1/session_size_1\n",
    "dropped_time_2 = eeg_long_df[[\"TP9-2\"]].isna().groupby([eeg_long_df[\"subj\"], eeg_long_df[\"ses\"]]).sum()[\"TP9-2\"]\n",
    "session_size_2 = eeg_long_df[[\"TP9-2\"]].isna().groupby([eeg_long_df[\"subj\"], eeg_long_df[\"ses\"]]).size()\n",
    "dropped_2 = dropped_time_2/session_size_2\n",
    "dropped_time_total = eeg_long_df[[\"TP9-1\", \"TP9-2\"]].isna().any(axis=1).groupby([eeg_long_df[\"subj\"], eeg_long_df[\"ses\"]]).sum()\n",
    "dropped_total = dropped_time_total/session_size_2"
   ]
  },
  {
   "cell_type": "code",
   "execution_count": null,
   "id": "ca6b229d",
   "metadata": {},
   "outputs": [],
   "source": []
  },
  {
   "cell_type": "code",
   "execution_count": null,
   "id": "92ae4ced",
   "metadata": {},
   "outputs": [],
   "source": []
  },
  {
   "cell_type": "code",
   "execution_count": null,
   "id": "a27e880b",
   "metadata": {},
   "outputs": [],
   "source": [
    "corr_df[\"dropped_1\"] = dropped_1.to_list()\n",
    "corr_df[\"dropped_2\"] = dropped_2.to_list()\n",
    "corr_df[\"dropped_total\"] = dropped_total.to_list()\n",
    "corr_df[\"timing\"] = np.array(session_size_1.to_list())/256/60"
   ]
  },
  {
   "cell_type": "code",
   "execution_count": null,
   "id": "12b9b7d5",
   "metadata": {},
   "outputs": [],
   "source": [
    "performance"
   ]
  },
  {
   "cell_type": "code",
   "execution_count": null,
   "id": "7afffbbf",
   "metadata": {},
   "outputs": [],
   "source": [
    "corr_df = corr_df.merge(performance, on = [\"subj\", \"ses\"], how = \"left\")"
   ]
  },
  {
   "cell_type": "code",
   "execution_count": null,
   "id": "6a35db18",
   "metadata": {},
   "outputs": [],
   "source": [
    "corr_df "
   ]
  },
  {
   "cell_type": "code",
   "execution_count": null,
   "id": "c90e032c",
   "metadata": {},
   "outputs": [],
   "source": [
    "corr_df_old = pd.read_csv(\"cor_par_1_59.csv\")"
   ]
  },
  {
   "cell_type": "code",
   "execution_count": null,
   "id": "572acfc0",
   "metadata": {},
   "outputs": [],
   "source": [
    "corr_df_old[corr_df.columns]"
   ]
  },
  {
   "cell_type": "code",
   "execution_count": null,
   "id": "304b80cb",
   "metadata": {},
   "outputs": [],
   "source": [
    "corr_df = pd.concat([corr_df_old[corr_df.columns], corr_df]).reset_index(drop=True)"
   ]
  },
  {
   "cell_type": "code",
   "execution_count": null,
   "id": "536de3cf",
   "metadata": {},
   "outputs": [],
   "source": [
    "corr_df = corr_df.dropna()"
   ]
  },
  {
   "cell_type": "code",
   "execution_count": null,
   "id": "e71d06ba",
   "metadata": {},
   "outputs": [],
   "source": [
    "corr_df"
   ]
  },
  {
   "cell_type": "code",
   "execution_count": null,
   "id": "e04e47e2",
   "metadata": {},
   "outputs": [],
   "source": [
    "corr_df.dropped_total.hist()\n",
    "plt.show()"
   ]
  },
  {
   "cell_type": "code",
   "execution_count": null,
   "id": "6a6293bb",
   "metadata": {},
   "outputs": [],
   "source": [
    "# corr_df.to_csv(\"corr_df_na_epoch1.csv\")"
   ]
  },
  {
   "cell_type": "code",
   "execution_count": null,
   "id": "21544f7c",
   "metadata": {},
   "outputs": [],
   "source": [
    "sns.pairplot(corr_df[[\"TP9\", \"AF7\", \"AF8\", \"TP10\", \"Performance\", \"Time (sec)\", \"dropped_total\"]])\n",
    "plt.show()"
   ]
  },
  {
   "cell_type": "code",
   "execution_count": null,
   "id": "e8ccb483",
   "metadata": {},
   "outputs": [],
   "source": [
    "from matplotlib import pyplot as plt"
   ]
  },
  {
   "cell_type": "code",
   "execution_count": null,
   "id": "a308fe68",
   "metadata": {},
   "outputs": [],
   "source": [
    "sns.scatterplot(data=corr_df, x=\"Performance\", y=\"AF7\")\n",
    "plt.show()"
   ]
  },
  {
   "cell_type": "code",
   "execution_count": null,
   "id": "7ba70f4f",
   "metadata": {},
   "outputs": [],
   "source": [
    "from scipy.stats import pearsonr, zscore"
   ]
  },
  {
   "cell_type": "code",
   "execution_count": null,
   "id": "ac68e86f",
   "metadata": {},
   "outputs": [],
   "source": [
    "def drop_outlier(data, variables, threth):\n",
    "    temp_data = data.copy()\n",
    "    temp_data = temp_data.dropna()\n",
    "    temp_data_no_outlier = temp_data[(np.abs(zscore(temp_data[variables])) < threth).all(axis=1)]\n",
    "    return temp_data_no_outlier"
   ]
  },
  {
   "cell_type": "code",
   "execution_count": null,
   "id": "964213f0",
   "metadata": {},
   "outputs": [],
   "source": []
  },
  {
   "cell_type": "code",
   "execution_count": null,
   "id": "872650d5",
   "metadata": {},
   "outputs": [],
   "source": [
    "def plot_scatter(data, variables, threth):\n",
    "    temp_data = data.copy()\n",
    "    temp_data_no_outlier = drop_outlier(temp_data, variables, threth)\n",
    "    x = variables[0]\n",
    "    y = variables[1]\n",
    "    sns.scatterplot(temp_data_no_outlier[x], temp_data_no_outlier[y])\n",
    "    print(pearsonr(temp_data_no_outlier[x], temp_data_no_outlier[y]))"
   ]
  },
  {
   "cell_type": "code",
   "execution_count": null,
   "id": "4bfe21f7",
   "metadata": {},
   "outputs": [],
   "source": [
    "import statsmodels.api as sm"
   ]
  },
  {
   "cell_type": "code",
   "execution_count": null,
   "id": "0243c758",
   "metadata": {},
   "outputs": [],
   "source": [
    "corr_df = corr_df.dropna()"
   ]
  },
  {
   "cell_type": "code",
   "execution_count": null,
   "id": "6dac4f44",
   "metadata": {},
   "outputs": [],
   "source": [
    "corr_df"
   ]
  },
  {
   "cell_type": "code",
   "execution_count": null,
   "id": "bb06b2b4",
   "metadata": {},
   "outputs": [],
   "source": [
    "corr_df_no_outlier = drop_outlier(corr_df, [\"TP9\", \"AF7\", \"AF8\", \"TP10\"], 2)"
   ]
  },
  {
   "cell_type": "code",
   "execution_count": null,
   "id": "07738db2",
   "metadata": {},
   "outputs": [],
   "source": [
    "corr_df_no_outlier"
   ]
  },
  {
   "cell_type": "code",
   "execution_count": null,
   "id": "a659a1f5",
   "metadata": {},
   "outputs": [],
   "source": [
    "sns.heatmap(corr_df.dropna()[[\"TP9\", \"AF7\", \"AF8\", \"TP10\", \"Performance\", \"Time (sec)\"]].corr(), annot=True)\n",
    "plt.show()"
   ]
  },
  {
   "cell_type": "code",
   "execution_count": null,
   "id": "1c8d7006",
   "metadata": {},
   "outputs": [],
   "source": [
    "sns.heatmap(corr_df_no_outlier[[\"TP9\", \"AF7\", \"AF8\", \"TP10\", \"Performance\", \"Time (sec)\"]].corr(), annot=True)\n",
    "plt.show()"
   ]
  },
  {
   "cell_type": "code",
   "execution_count": null,
   "id": "7000d7ab",
   "metadata": {},
   "outputs": [],
   "source": []
  },
  {
   "cell_type": "code",
   "execution_count": null,
   "id": "aead5ca7",
   "metadata": {},
   "outputs": [],
   "source": []
  },
  {
   "cell_type": "code",
   "execution_count": null,
   "id": "b9753c9d",
   "metadata": {},
   "outputs": [],
   "source": [
    "x = corr_df_no_outlier[[\"TP9\", \"AF7\", \"AF8\", \"TP10\"]]\n",
    "y = corr_df_no_outlier['Performance']\n",
    "\n",
    "x = sm.add_constant(x)\n",
    "\n",
    "model = sm.OLS(y, x).fit()\n",
    "print(model.summary())"
   ]
  },
  {
   "cell_type": "code",
   "execution_count": null,
   "id": "7a0b11e2",
   "metadata": {},
   "outputs": [],
   "source": [
    "x = corr_df[[\"TP9\", \"AF7\", \"AF8\", \"TP10\"]]\n",
    "y = corr_df['Performance']\n",
    "\n",
    "x = sm.add_constant(x)\n",
    "\n",
    "model = sm.OLS(y, x).fit()\n",
    "print(model.summary())"
   ]
  },
  {
   "cell_type": "code",
   "execution_count": null,
   "id": "2645c6e5",
   "metadata": {},
   "outputs": [],
   "source": [
    "from matplotlib import pyplot as plt"
   ]
  },
  {
   "cell_type": "code",
   "execution_count": null,
   "id": "a15e69fd",
   "metadata": {},
   "outputs": [],
   "source": [
    "corr_df.dropped_total.hist(alpha=0.5, label=\"total\")\n",
    "corr_df.dropped_1.hist(alpha=0.5, label=\"person 1\")\n",
    "corr_df.dropped_2.hist(alpha=0.5, label=\"person 2\")\n",
    "plt.legend()\n",
    "plt.xlabel(\"Percentage of dropped epochs\")\n",
    "plt.show()"
   ]
  },
  {
   "cell_type": "code",
   "execution_count": null,
   "id": "1292bae9",
   "metadata": {},
   "outputs": [],
   "source": [
    "plot_scatter(corr_df, [\"Performance\", \"AF7\"], 2)\n",
    "plt.show()"
   ]
  },
  {
   "cell_type": "code",
   "execution_count": null,
   "id": "898dae6c",
   "metadata": {},
   "outputs": [],
   "source": [
    "plot_scatter(corr_df, [\"Performance\", \"AF8\"], 2)\n",
    "plt.show()"
   ]
  },
  {
   "cell_type": "code",
   "execution_count": null,
   "id": "c6a8946f",
   "metadata": {},
   "outputs": [],
   "source": [
    "plot_scatter(corr_df.iloc[10:], [\"Performance\", \"TP9\"], 2)\n",
    "plt.show()"
   ]
  },
  {
   "cell_type": "code",
   "execution_count": null,
   "id": "d499b6cb",
   "metadata": {},
   "outputs": [],
   "source": [
    "plot_scatter(corr_df, [\"Performance\", \"TP10\"], 2)\n",
    "plt.show()"
   ]
  },
  {
   "cell_type": "code",
   "execution_count": null,
   "id": "c465a2b4",
   "metadata": {},
   "outputs": [],
   "source": [
    "plot_scatter(corr_df.iloc[10:], [\"Performance\", \"Time (sec)\"], 2)"
   ]
  },
  {
   "cell_type": "code",
   "execution_count": null,
   "id": "dfb2cf6f",
   "metadata": {},
   "outputs": [],
   "source": []
  },
  {
   "cell_type": "code",
   "execution_count": null,
   "id": "71902338",
   "metadata": {},
   "outputs": [],
   "source": []
  },
  {
   "cell_type": "code",
   "execution_count": null,
   "id": "936b7b88",
   "metadata": {},
   "outputs": [],
   "source": [
    "# sns.histplot(corr_df[\"timing\"])\n",
    "sns.histplot(corr_df[\"dropped_2\"])"
   ]
  },
  {
   "cell_type": "code",
   "execution_count": null,
   "id": "af27141d",
   "metadata": {},
   "outputs": [],
   "source": [
    "corr_df"
   ]
  },
  {
   "cell_type": "code",
   "execution_count": null,
   "id": "a38e2b89",
   "metadata": {},
   "outputs": [],
   "source": [
    "corr_df_filter = corr_df[(corr_df.dropped_1 <= 0.7) & (corr_df.dropped_2 <= 0.7)]\n",
    "\n",
    "corr_df_filter = corr_df_filter[corr_df_filter.timing >= 3.5]\n"
   ]
  },
  {
   "cell_type": "code",
   "execution_count": null,
   "id": "999f16a1",
   "metadata": {},
   "outputs": [],
   "source": [
    "corr_df_filter[[\"subj\", \"ses\"]]"
   ]
  },
  {
   "cell_type": "code",
   "execution_count": null,
   "id": "9787ab8e",
   "metadata": {},
   "outputs": [],
   "source": [
    "# from sklearn.mixture import GaussianMixture\n",
    "# gmm = GaussianMixture(n_components=2, tol=1, random_state=0).fit(corr_df_filter[[\"TP10\", \"AF7\", \"AF8\", \"TP9\"]])\n",
    "\n",
    "# labels = gmm.predict(corr_df_filter[[\"TP10\", \"AF7\", \"AF8\", \"TP9\"]])\n",
    "# labels.sum()"
   ]
  },
  {
   "cell_type": "code",
   "execution_count": null,
   "id": "718049a6",
   "metadata": {},
   "outputs": [],
   "source": [
    "labels"
   ]
  },
  {
   "cell_type": "code",
   "execution_count": null,
   "id": "64977bb5",
   "metadata": {},
   "outputs": [],
   "source": [
    "# sns.histplot(corr_df_filter[\"timing\"])\n",
    "# plt.show()"
   ]
  },
  {
   "cell_type": "code",
   "execution_count": null,
   "id": "6cf13995",
   "metadata": {},
   "outputs": [],
   "source": [
    "# corr_df_filter = drop_outlier(corr_df_filter, [\"TP9\", \"AF7\", \"AF8\", \"TP10\"], 3)"
   ]
  },
  {
   "cell_type": "code",
   "execution_count": null,
   "id": "26fbf1f8",
   "metadata": {},
   "outputs": [],
   "source": [
    "# sns.pairplot(corr_df_filter[[\"TP9\", \"AF7\", \"AF8\", \"TP10\", \"Performance\", \"Time (sec)\", \"dropped_total\"]])\n",
    "# plt.show()"
   ]
  },
  {
   "cell_type": "code",
   "execution_count": null,
   "id": "82e3b3ac",
   "metadata": {},
   "outputs": [],
   "source": [
    "corr_df_filter.shape"
   ]
  },
  {
   "cell_type": "code",
   "execution_count": null,
   "id": "da72014c",
   "metadata": {},
   "outputs": [],
   "source": [
    "x = corr_df_filter[[\"TP9\", \"AF7\", \"AF8\", \"TP10\", \"ses\", \"Time (sec)\"]]\n",
    "y = corr_df_filter['Performance']\n",
    "\n",
    "x = sm.add_constant(x)\n",
    "\n",
    "model = sm.OLS(y, x).fit()\n",
    "print(model.summary())"
   ]
  },
  {
   "cell_type": "code",
   "execution_count": null,
   "id": "ae920a89",
   "metadata": {},
   "outputs": [],
   "source": [
    "sns.heatmap(corr_df_filter[[\"TP9\", \"AF7\", \"AF8\", \"TP10\", \"Performance\", \"Time (sec)\"]].corr(), annot=True)\n",
    "plt.show()"
   ]
  },
  {
   "cell_type": "code",
   "execution_count": null,
   "id": "47bdd270",
   "metadata": {},
   "outputs": [],
   "source": [
    "from matplotlib import pyplot as plt\n",
    "import seaborn as sns"
   ]
  },
  {
   "cell_type": "code",
   "execution_count": null,
   "id": "f84355a8",
   "metadata": {},
   "outputs": [],
   "source": [
    "corr_df_filter.subj.unique().shape"
   ]
  },
  {
   "cell_type": "code",
   "execution_count": null,
   "id": "9770f5ca",
   "metadata": {},
   "outputs": [],
   "source": [
    "sns.boxplot(x = corr_df_filter.ses, y = corr_df_filter[\"Performance\"])\n",
    "plt.show()"
   ]
  },
  {
   "cell_type": "code",
   "execution_count": null,
   "id": "a4ea0843",
   "metadata": {},
   "outputs": [],
   "source": [
    "fig, axs = plt.subplots(2,2,figsize=(8,8))\n",
    "\n",
    "channels = [\"TP9\", \"AF7\", \"AF8\", \"TP10\"]\n",
    "for i in range(4):\n",
    "    sns.boxplot(x = corr_df_filter.ses, y = corr_df_filter[channels[i]], ax=axs[i//2, i%2])\n",
    "\n",
    "plt.show()"
   ]
  },
  {
   "cell_type": "code",
   "execution_count": null,
   "id": "756e71d9",
   "metadata": {},
   "outputs": [],
   "source": [
    "import statsmodels.api as sm\n",
    "\n",
    "from statsmodels.formula.api import ols\n",
    "from statsmodels.stats.anova import AnovaRM"
   ]
  },
  {
   "cell_type": "code",
   "execution_count": null,
   "id": "d20a13ff",
   "metadata": {},
   "outputs": [],
   "source": [
    "channels = [\"AF8\", \"AF7\", \"TP10\", \"TP9\", \"Performance\"]\n",
    "for channel in channels:\n",
    "    l_model = ols('{} ~ C(ses)'.format(channel),\n",
    "                 data=corr_df_filter.dropna()).fit()\n",
    "    table = sm.stats.anova_lm(l_model) # Type 2 ANOVA DataFrame\n",
    "    print(\"=========================== AVNOVA Table ========================\")\n",
    "    print(\"================= {} ~ Session ====================\". format(channel))\n",
    "    print(table)"
   ]
  },
  {
   "cell_type": "code",
   "execution_count": null,
   "id": "6ab4e754",
   "metadata": {},
   "outputs": [],
   "source": [
    "from statsmodels.multivariate.manova import MANOVA"
   ]
  },
  {
   "cell_type": "code",
   "execution_count": null,
   "id": "ad9d678b",
   "metadata": {},
   "outputs": [],
   "source": [
    "maov = MANOVA.from_formula(' AF8 + AF7 + TP10 + TP9 ~ C(ses)', data=corr_df_filter)"
   ]
  },
  {
   "cell_type": "code",
   "execution_count": null,
   "id": "d1561f27",
   "metadata": {},
   "outputs": [],
   "source": [
    "print(maov.mv_test())"
   ]
  },
  {
   "cell_type": "code",
   "execution_count": null,
   "id": "ec244300",
   "metadata": {},
   "outputs": [],
   "source": [
    "x = corr_df_filter.dropna()[[\"TP9\", \"AF7\", \"AF8\", \"TP10\", \"ses\", \"Time (sec)\"]]\n",
    "y = corr_df_filter.dropna()['Performance']\n",
    "\n",
    "x = sm.add_constant(x)\n",
    "\n",
    "model = sm.OLS(y, x).fit()\n",
    "print(model.summary())"
   ]
  },
  {
   "cell_type": "code",
   "execution_count": null,
   "id": "ac18a896",
   "metadata": {},
   "outputs": [],
   "source": [
    "corr_df_filter.subj.unique().shape"
   ]
  },
  {
   "cell_type": "code",
   "execution_count": null,
   "id": "87b2cb72",
   "metadata": {},
   "outputs": [],
   "source": [
    "sns.regplot(y=\"Performance\", x=\"AF8\", data=corr_df_filter)\n",
    "plt.show()"
   ]
  },
  {
   "cell_type": "code",
   "execution_count": null,
   "id": "091e92ba",
   "metadata": {},
   "outputs": [],
   "source": [
    "fig, ax = plt.subplots(1,2, figsize=(12,6))\n",
    "sns.boxplot(x = corr_df_filter.ses, y = corr_df_filter[\"Performance\"], ax=ax[0])\n",
    "sns.regplot(y=\"Performance\", x=\"AF8\", data=corr_df_filter, ax=ax[1])\n",
    "\n",
    "# ax[0].set_title(\"Title\",fontsize=50)\n",
    "ax[0].set_xlabel(\"Session\",fontsize=20)\n",
    "ax[0].set_ylabel(\"Performance\",fontsize=20)\n",
    "\n",
    "ax[1].set_xlabel(\"AF8\",fontsize=20)\n",
    "ax[1].set_ylabel(\"Performance\",fontsize=20)\n",
    "\n",
    "ax[0].annotate(\"A\", fontsize= 30, xy=(-0.15, 0.95), xycoords=\"axes fraction\")\n",
    "ax[1].annotate(\"B\", fontsize= 30, xy=(-0.15, 0.95), xycoords=\"axes fraction\")\n",
    "\n",
    "plt.show()"
   ]
  },
  {
   "cell_type": "code",
   "execution_count": null,
   "id": "e71ffb45",
   "metadata": {},
   "outputs": [],
   "source": []
  },
  {
   "cell_type": "code",
   "execution_count": null,
   "id": "87a9b9a9",
   "metadata": {},
   "outputs": [],
   "source": []
  },
  {
   "cell_type": "code",
   "execution_count": null,
   "id": "3f66ec70",
   "metadata": {},
   "outputs": [],
   "source": [
    "l_model = ols('Performance ~ C(ses) + AF8 + C(ses)*AF8', data=corr_df_filter).fit()\n",
    "table = sm.stats.anova_lm(l_model) # Type 2 ANOVA DataFrame\n",
    "print(table)"
   ]
  },
  {
   "cell_type": "code",
   "execution_count": null,
   "id": "ba7ee7af",
   "metadata": {},
   "outputs": [],
   "source": [
    "print(l_model.summary())"
   ]
  },
  {
   "cell_type": "code",
   "execution_count": null,
   "id": "8c85a1f7",
   "metadata": {},
   "outputs": [],
   "source": []
  }
 ],
 "metadata": {
  "kernelspec": {
   "display_name": "Python 3 (ipykernel)",
   "language": "python",
   "name": "python3"
  },
  "language_info": {
   "codemirror_mode": {
    "name": "ipython",
    "version": 3
   },
   "file_extension": ".py",
   "mimetype": "text/x-python",
   "name": "python",
   "nbconvert_exporter": "python",
   "pygments_lexer": "ipython3",
   "version": "3.9.12"
  }
 },
 "nbformat": 4,
 "nbformat_minor": 5
}
