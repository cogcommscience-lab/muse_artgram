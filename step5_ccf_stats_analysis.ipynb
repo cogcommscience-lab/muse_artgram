{
 "cells": [
  {
   "cell_type": "code",
   "execution_count": null,
   "id": "1a52ec4f",
   "metadata": {},
   "outputs": [],
   "source": [
    "# this doesn't play well"
   ]
  },
  {
   "cell_type": "code",
   "execution_count": null,
   "id": "970f491e",
   "metadata": {},
   "outputs": [],
   "source": [
    "# This code creates a function that calculates ccf while dealing with NaNs\n",
    "# Define a function to obtain the cross-correlation (ccf) between timeseries\n",
    "# Length determines how many seconds forward/backward the ccf considered\n",
    "def obtain_ccf(ts_1, ts_2, length=5):\n",
    "    # Reverse the time series: used to calculate the cross-correlation from end of the series toward beginning\n",
    "    # Explores how past values of ts_2 influence future values of ts_1\n",
    "    # Use the direct method in convolve to handle NaN or inf values\n",
    "    # [::-1] reverses the result again; restores chronological order of lags\n",
    "    # [-(length*256+1):] slices the array to keep the last length*256+1 elements, based on sampling rate\n",
    "    backward_full = convolve(ts_1[::-1], ts_2[::-1], mode='full', method='direct')\n",
    "    backwards = backward_full[::-1][-(length*256+1):]\n",
    "\n",
    "    # Computes the forward cross-correlation function\n",
    "    # Explores how past values of ts_1 influence future values of ts_2\n",
    "    forwards_full = convolve(ts_1, ts_2, mode='full', method='direct')\n",
    "    forwards = forwards_full[:(length*256+1)]\n",
    "\n",
    "    # Remove NaN values from forwards and backwards (need this for correlation calculation, below)\n",
    "    clean_backwards = backwards[~np.isnan(backwards)]\n",
    "    clean_forwards = forwards[~np.isnan(forwards)]\n",
    "\n",
    "    # Concatenate result arrays along the first axis (row-wise)\n",
    "    ccf_output = np.r_[clean_backwards[:-1], clean_forwards]\n",
    "    return ccf_output"
   ]
  },
  {
   "cell_type": "code",
   "execution_count": null,
   "id": "8a0f9ccd",
   "metadata": {},
   "outputs": [],
   "source": []
  },
  {
   "cell_type": "code",
   "execution_count": null,
   "id": "af64952d",
   "metadata": {},
   "outputs": [],
   "source": [
    "# Load dependencies\n",
    "\n",
    "import pandas as pd\n",
    "import numpy as np\n",
    "import seaborn as sns\n",
    "import statsmodels.tsa.stattools as smt\n",
    "from scipy.signal import convolve\n",
    "from scipy.stats import pearsonr, zscore\n",
    "from matplotlib import pyplot as plt"
   ]
  },
  {
   "cell_type": "code",
   "execution_count": null,
   "id": "66d04eea",
   "metadata": {},
   "outputs": [],
   "source": [
    "# Read in the cleaned long eeg data\n",
    "# Update filename based on epoch duration\n",
    "\n",
    "eeg_long_df = pd.read_csv(\"preprocessed_interpolate_bandpass_.1_20/eeg_long_df_1s_epoch.csv\")\n",
    "\n",
    "# Print how long the df is\n",
    "len(eeg_long_df)"
   ]
  },
  {
   "cell_type": "code",
   "execution_count": null,
   "id": "e14e5fbc",
   "metadata": {},
   "outputs": [],
   "source": [
    "eeg_long_df.shape"
   ]
  },
  {
   "cell_type": "code",
   "execution_count": null,
   "id": "970333f7",
   "metadata": {},
   "outputs": [],
   "source": [
    "eeg_long_df"
   ]
  },
  {
   "cell_type": "code",
   "execution_count": null,
   "id": "f01921d8",
   "metadata": {},
   "outputs": [],
   "source": [
    "# For rejected epochs, autoreject replaces that value with a zero\n",
    "# This code replaces zero wit nan to deal with that issue\n",
    "\n",
    "#eeg_long_df[[\"TP9-1\", \"AF7-1\", \"AF8-1\", \"TP10-1\", \"TP9-2\", \"AF7-2\", \"AF8-2\", \"TP10-2\"]] = \\\n",
    "#eeg_long_df.loc[:, [\"TP9-1\", \"AF7-1\", \"AF8-1\", \"TP10-1\", \"TP9-2\", \"AF7-2\", \"AF8-2\", \"TP10-2\"]].replace(0, np.nan)"
   ]
  },
  {
   "cell_type": "code",
   "execution_count": null,
   "id": "5bbaaca3",
   "metadata": {},
   "outputs": [],
   "source": [
    "eeg_long_df"
   ]
  },
  {
   "cell_type": "code",
   "execution_count": null,
   "id": "032acdc5",
   "metadata": {},
   "outputs": [],
   "source": [
    "# List-wise removal of NaNs because these prevent the ccf analysis from completing if they are included\n",
    "\n",
    "#eeg_long_df = eeg_long_df.dropna()"
   ]
  },
  {
   "cell_type": "code",
   "execution_count": null,
   "id": "dc0451c4",
   "metadata": {},
   "outputs": [],
   "source": [
    "#eeg_long_df.shape"
   ]
  },
  {
   "cell_type": "code",
   "execution_count": null,
   "id": "9cc261ea",
   "metadata": {},
   "outputs": [],
   "source": [
    "# Read in task performance dat\n",
    "\n",
    "performance = pd.read_csv(\"task_performance.csv\")"
   ]
  },
  {
   "cell_type": "code",
   "execution_count": null,
   "id": "5e400361",
   "metadata": {},
   "outputs": [],
   "source": [
    "# Set 'ses' column as integer\n",
    "\n",
    "performance['ses'] = performance['ses'].astype(int)"
   ]
  },
  {
   "cell_type": "code",
   "execution_count": null,
   "id": "736fdf2c",
   "metadata": {},
   "outputs": [],
   "source": [
    "# Merge 'performance' and 'eeg_long_df' on 'subj' and 'ses'\n",
    "\n",
    "eeg_long_df = eeg_long_df.merge(performance[['subj', 'ses', 'Signal Drop']], on=['subj', 'ses'], how='left')"
   ]
  },
  {
   "cell_type": "code",
   "execution_count": null,
   "id": "0bcacc31",
   "metadata": {},
   "outputs": [],
   "source": [
    "eeg_long_df"
   ]
  },
  {
   "cell_type": "code",
   "execution_count": null,
   "id": "55eb6e82",
   "metadata": {},
   "outputs": [],
   "source": [
    "# Filter out rows where 'Signal Drop' equals 1\n",
    "# Note, this yields some NaNs in the signal drop column\n",
    "# This is because performance has more observations than the eeg data\n",
    "# this gets resolved, in code, later\n",
    "\n",
    "eeg_long_df = eeg_long_df[eeg_long_df['Signal Drop'] != 1]"
   ]
  },
  {
   "cell_type": "code",
   "execution_count": null,
   "id": "f8430732",
   "metadata": {},
   "outputs": [],
   "source": [
    "eeg_long_df"
   ]
  },
  {
   "cell_type": "code",
   "execution_count": null,
   "id": "3727489a",
   "metadata": {},
   "outputs": [],
   "source": [
    "# Create a group-by object by subject and session\n",
    "# This means that each unique pair of subj and ses creates a separate group within this group-by object\n",
    "# You need this to calculate the cross correlation function for each subject for each session, below\n",
    "\n",
    "eeg_df_group = eeg_long_df.groupby([\"subj\", \"ses\"])"
   ]
  },
  {
   "cell_type": "code",
   "execution_count": null,
   "id": "b9decb4c",
   "metadata": {},
   "outputs": [],
   "source": []
  },
  {
   "cell_type": "code",
   "execution_count": null,
   "id": "d540b1a1",
   "metadata": {},
   "outputs": [],
   "source": []
  },
  {
   "cell_type": "code",
   "execution_count": null,
   "id": "e197c8ff",
   "metadata": {},
   "outputs": [],
   "source": [
    "# Define a function to obtain the cross-correlation (ccf) between timeseries\n",
    "# Length determines how many seconds forward/backward the ccf considered\n",
    "# In this case, the time-series are shifted forward/bakward 5s\n",
    "\n",
    "def obtain_ccf(ts_1, ts_2, length=5):\n",
    "    # Reverse the time series: used to calculate the cross-correlation from end of the series toward beginning\n",
    "    # Explores how past values of ts_2 influence future values of ts_1\n",
    "    # adjusted=False: Do not adjust the scale of the correlation for the number of observations\n",
    "    # This means that the ccf output is not normalized\n",
    "    # [::-1] reverses the result again; restores chronological order of lags\n",
    "    # [-(length*256+1):] slices the array to keep the last length*256+1 elements, based on sampling rate\n",
    "    backwards = smt.ccf(ts_1[::-1], ts_2[::-1], adjusted=False)[::-1][-(length*256+1):]\n",
    "    # Computes the forward cross-correlation function\n",
    "    # Explores how past values of ts_1 influence future values of ts_2\n",
    "    forwards = smt.ccf(ts_1, ts_2, adjusted=False)[:(length*256+1)]\n",
    "    # Concatenate result arrays along the first axis (row-wise)\n",
    "    ccf_output = np.r_[backwards[:-1], forwards]\n",
    "    return ccf_output"
   ]
  },
  {
   "cell_type": "code",
   "execution_count": null,
   "id": "6d249373",
   "metadata": {},
   "outputs": [],
   "source": [
    "# Initialize necessary dictionaries\n",
    "\n",
    "ccf_dict = {}\n",
    "ccf_dict[\"TP9\"] = {}\n",
    "ccf_dict[\"AF7\"] = {}\n",
    "ccf_dict[\"AF8\"] = {}\n",
    "ccf_dict[\"TP10\"] = {}\n",
    "\n",
    "\n",
    "# Initialize necessary list \n",
    "\n",
    "sessions_pair = []\n",
    "\n",
    "# Calculate the cross correlation function for each subject for each session for each electrode\n",
    "# Store results in relevant ccf dictionary\n",
    "for name, group in eeg_df_group:\n",
    "    if group.shape[0] >= 10*256+1: # Only process data is at least 10s long (sampling rate is 256Hz)\n",
    "        ccf_dict[\"TP9\"][name] = obtain_ccf(group[\"TP9-1\"], group[\"TP9-2\"])\n",
    "        ccf_dict[\"AF7\"][name] = obtain_ccf(group[\"AF7-1\"], group[\"AF7-2\"])\n",
    "        ccf_dict[\"AF8\"][name] = obtain_ccf(group[\"AF8-1\"], group[\"AF8-2\"])\n",
    "        ccf_dict[\"TP10\"][name] = obtain_ccf(group[\"TP10-1\"], group[\"TP10-2\"])\n",
    "        \n",
    "        # Add results to the sessions_pair list\n",
    "        sessions_pair.append(name)"
   ]
  },
  {
   "cell_type": "code",
   "execution_count": null,
   "id": "c409d58f",
   "metadata": {},
   "outputs": [],
   "source": [
    "# This code sets number of dropped epochs and session length for subsequent filtering\n",
    "# needs updated to match the criteria we use for the main analysis\n",
    "\n",
    "#filtered_pairs = list(dropped_1[(dropped_1[0] <= 0.7) & \n",
    "#               (dropped_2[0] <= 0.7) & \n",
    "#               (session_size_1[0]/256/60 >= 3.5)][[\"subj\", \"ses\"]].itertuples(index=False, name=None))"
   ]
  },
  {
   "cell_type": "code",
   "execution_count": null,
   "id": "40e139f5",
   "metadata": {},
   "outputs": [],
   "source": [
    "# This code applys\n",
    "# needs updated to match the criteria we use for the main analysis\n",
    "\n",
    "#sessions_pair_new = list(set(sessions_pair) & set(filtered_pairs))"
   ]
  },
  {
   "cell_type": "code",
   "execution_count": null,
   "id": "2f6e2ade",
   "metadata": {},
   "outputs": [],
   "source": [
    "# Convert each list directly into an array of objects\n",
    "object_array = np.array([np.array(list(sublist.values()), dtype=object) for sublist in ccf_dict.values()])\n",
    "\n",
    "print(object_array.shape)  # This will print (4, 5)\n"
   ]
  },
  {
   "cell_type": "code",
   "execution_count": null,
   "id": "156dd9b5",
   "metadata": {},
   "outputs": [],
   "source": [
    "# Create an array for all 4 electrodes, for all participants/sessions, for all time-shifted data (+/-5s)\n",
    "\n",
    "ccf_matrix = np.array([list(ccf_dict[\"TP9\"].values()),\n",
    "list(ccf_dict[\"AF7\"].values()),\n",
    "list(ccf_dict[\"AF8\"].values()),\n",
    "list(ccf_dict[\"TP10\"].values())])\n",
    "\n",
    "# Check your work, should be 4 (electrodes) x 267 (number of participants*sessions) x 2561 (+/-5s + 0s offset)\n",
    "\n",
    "ccf_matrix.shape"
   ]
  },
  {
   "cell_type": "code",
   "execution_count": null,
   "id": "f502fa82",
   "metadata": {},
   "outputs": [],
   "source": [
    "# Create an index that will merge the number of subjects/sessions in the EEG data\n",
    "# with the performance data (which has more subjects/sessions than the EEG data)\n",
    "\n",
    "select_index = pd.DataFrame(sessions_pair)\n",
    "select_index.columns = [\"subj\", \"ses\"]\n",
    "select_index = select_index.sort_values([\"subj\", \"ses\"])"
   ]
  },
  {
   "cell_type": "code",
   "execution_count": null,
   "id": "fec561cb",
   "metadata": {},
   "outputs": [],
   "source": [
    "select_index"
   ]
  },
  {
   "cell_type": "code",
   "execution_count": null,
   "id": "f2dae560",
   "metadata": {
    "scrolled": true
   },
   "outputs": [],
   "source": [
    "# Reduce performance data as specified in the index above\n",
    "# Make new dataframe of reduced data\n",
    "\n",
    "performance_select = select_index.merge(performance, on=[\"subj\", \"ses\"], how=\"left\")\n",
    "performance_select = performance_select.dropna().reset_index(drop=True)"
   ]
  },
  {
   "cell_type": "code",
   "execution_count": null,
   "id": "d49b7142",
   "metadata": {},
   "outputs": [],
   "source": [
    "performance_select"
   ]
  },
  {
   "cell_type": "code",
   "execution_count": null,
   "id": "5692c56e",
   "metadata": {},
   "outputs": [],
   "source": [
    "# Convert \"Performance\" (correctly matched shapes) data into a NumPy array, store in the variable y\n",
    "\n",
    "y = performance_select[\"Performance\"].to_numpy()"
   ]
  },
  {
   "cell_type": "code",
   "execution_count": null,
   "id": "371c3b23",
   "metadata": {},
   "outputs": [],
   "source": [
    "y"
   ]
  },
  {
   "cell_type": "code",
   "execution_count": null,
   "id": "d3bab3ed",
   "metadata": {},
   "outputs": [],
   "source": [
    "# Create a list where each element is a tuple containing: subject and session\n",
    "\n",
    "final_select = list(performance_select[[\"subj\", \"ses\"]].itertuples(index=False, name=None))"
   ]
  },
  {
   "cell_type": "code",
   "execution_count": null,
   "id": "40e4d9a3",
   "metadata": {},
   "outputs": [],
   "source": [
    "# Make temp_index that contains the indices of sessions_pair where its elements match those in final_select\n",
    "# This will be used to index the ccf_matrix in the next code block\n",
    "\n",
    "temp_index = []\n",
    "\n",
    "for i in final_select:\n",
    "    for j in range(len(sessions_pair)):\n",
    "        if i == sessions_pair[j]:\n",
    "            temp_index.append(j)"
   ]
  },
  {
   "cell_type": "code",
   "execution_count": null,
   "id": "cf7b866b",
   "metadata": {
    "scrolled": true
   },
   "outputs": [],
   "source": [
    "# Subset the ccf_matrix based on all entries in the first and third dimensions\n",
    "# but only in the second dimension as specified by temp_index, and also in the ccf\n",
    "\n",
    "X = ccf_matrix[:,temp_index,:]"
   ]
  },
  {
   "cell_type": "code",
   "execution_count": null,
   "id": "08f98051",
   "metadata": {},
   "outputs": [],
   "source": [
    "\n",
    "\n",
    "# Initialize an empty dictionary\n",
    "correlation_ccf = {}\n",
    "\n",
    "# Specify channels and initialize an empty list for each channel\n",
    "channels = [\"TP9\", \"AF7\", \"AF8\", \"TP10\"]\n",
    "correlation_ccf[\"TP9\"] = []\n",
    "correlation_ccf[\"AF7\"] = []\n",
    "correlation_ccf[\"AF8\"] = []\n",
    "correlation_ccf[\"TP10\"] = []\n",
    "\n",
    "# Calculate pearson correlation coefficient\n",
    "# Extract the ith element along the third dimension for the kth channel in ccf_matrix(X)\n",
    "# Correlate with performance\n",
    "for k in range(4):\n",
    "    for i in range(X.shape[2]):\n",
    "        correlation_ccf[channels[k]].append(pearsonr(X[k,:,i], y))"
   ]
  },
  {
   "cell_type": "code",
   "execution_count": null,
   "id": "21a5af52",
   "metadata": {
    "scrolled": true
   },
   "outputs": [],
   "source": [
    "fig, axs = plt.subplots(2,2,figsize=(8,8))\n",
    "\n",
    "channels = [\"TP9\", \"AF7\", \"AF8\", \"TP10\"]\n",
    "for i in range(4):\n",
    "    axs[i//2, i%2].plot(np.array(correlation_ccf[channels[i]])[:,0])\n",
    "    \n",
    "    axs[i//2, i%2].set_xticks(np.linspace(0,2561, 11),\n",
    "           np.round((np.linspace(0,2561, 11)-1281)/256,0).astype(int))\n",
    "    axs[i//2, i%2].set_xlabel(\"lags\")\n",
    "    axs[i//2, i%2].set_ylabel(channels[i])\n",
    "    axs[i//2, i%2].axhline(y=0, color='r', linestyle='-')\n",
    "    \n",
    "plt.show()"
   ]
  },
  {
   "cell_type": "code",
   "execution_count": null,
   "id": "4397e14d",
   "metadata": {},
   "outputs": [],
   "source": [
    "t_lags = {}\n",
    "channels = [\"TP9\", \"AF7\", \"AF8\", \"TP10\"]\n",
    "t_lags[\"TP9\"] = []\n",
    "t_lags[\"AF7\"] = []\n",
    "t_lags[\"AF8\"] = []\n",
    "t_lags[\"TP10\"] = []\n",
    "\n",
    "\n",
    "for i in range(X.shape[2]):\n",
    "    t_lags[channels[k]].append()"
   ]
  },
  {
   "cell_type": "code",
   "execution_count": null,
   "id": "a448c94b",
   "metadata": {},
   "outputs": [],
   "source": [
    "X.shape"
   ]
  },
  {
   "cell_type": "code",
   "execution_count": null,
   "id": "ab8b550e",
   "metadata": {},
   "outputs": [],
   "source": [
    "def run_mreg_with_lag(X, y, lag):\n",
    "    X_temp = X[:,:,lag].T\n",
    "    X_with_const = sm.add_constant(X_temp)\n",
    "\n",
    "    model = sm.OLS(y, X_with_const).fit()\n",
    "    t_values = [i[3] for i in model.summary().tables[1].data[1:]]\n",
    "    p_values = [i[4] for i in model.summary().tables[1].data[1:]]\n",
    "    \n",
    "    t_values = np.array(t_values).astype(float)\n",
    "    p_values = np.array(p_values).astype(float)\n",
    "    \n",
    "    return (t_values, p_values)\n"
   ]
  },
  {
   "cell_type": "code",
   "execution_count": null,
   "id": "eb4aa09a",
   "metadata": {},
   "outputs": [],
   "source": [
    "t_values_lags = []\n",
    "p_values_lags = []\n",
    "for lag in range(X.shape[2]):\n",
    "    t_values, p_values = run_mreg_with_lag(X, y, lag)\n",
    "    t_values_lags.append(t_values)\n",
    "    p_values_lags.append(p_values)\n",
    "t_values_lags = np.array(t_values_lags)"
   ]
  },
  {
   "cell_type": "code",
   "execution_count": null,
   "id": "8d20518b",
   "metadata": {},
   "outputs": [],
   "source": [
    "fig, axs = plt.subplots(2,2,figsize=(8,8))\n",
    "\n",
    "channels = [\"TP9\", \"AF7\", \"AF8\", \"TP10\"]\n",
    "for i in range(4):\n",
    "    axs[i//2, i%2].plot(t_values_lags[:,1:][:,i])\n",
    "    \n",
    "    axs[i//2, i%2].set_xticks(np.linspace(0,2561, 11),\n",
    "           np.round((np.linspace(0,2561, 11)-1281)/256,0).astype(int))\n",
    "    axs[i//2, i%2].set_xlabel(\"lags\")\n",
    "    axs[i//2, i%2].set_ylabel(\"t statistics\")\n",
    "#     axs[i//2, i%2].axhline(y=0, color='r', linestyle='-')\n",
    "    \n",
    "    axs[i//2, i%2].axhline(y=1.996564, color='r', linestyle='--')\n",
    "    axs[i//2, i%2].axhline(y=-1.996564, color='r', linestyle='--')\n",
    "    axs[i//2, i%2].set_title(channels[i])\n",
    "    axs[i//2, i%2].set_ylim([-3,3])\n",
    "\n",
    "from matplotlib.lines import Line2D\n",
    "line = Line2D([0], [0], label='critical t statistics', color='r', linestyle='--')\n",
    "\n",
    "fig.legend(handles=[line], loc='upper center')\n",
    "\n",
    "plt.tight_layout()\n",
    "fig.savefig('ccf.png', dpi=300)\n",
    "plt.show()"
   ]
  },
  {
   "cell_type": "code",
   "execution_count": null,
   "id": "25ab33bf",
   "metadata": {},
   "outputs": [],
   "source": [
    "import statsmodels.stats as stats"
   ]
  },
  {
   "cell_type": "code",
   "execution_count": null,
   "id": "c9680b66",
   "metadata": {},
   "outputs": [],
   "source": [
    "p_values_lags = np.array(p_values_lags)"
   ]
  },
  {
   "cell_type": "code",
   "execution_count": null,
   "id": "0970283b",
   "metadata": {},
   "outputs": [],
   "source": [
    "fdr_p_list = []\n",
    "fdr_p_list.append(stats.multitest.fdrcorrection(p_values_lags[:,1], alpha=0.05, method='indep', is_sorted=False)[1])\n",
    "fdr_p_list.append(stats.multitest.fdrcorrection(p_values_lags[:,2], alpha=0.05, method='indep', is_sorted=False)[1])\n",
    "fdr_p_list.append(stats.multitest.fdrcorrection(p_values_lags[:,3], alpha=0.05, method='indep', is_sorted=False)[1])\n",
    "fdr_p_list.append(stats.multitest.fdrcorrection(p_values_lags[:,4], alpha=0.05, method='indep', is_sorted=False)[1])"
   ]
  },
  {
   "cell_type": "code",
   "execution_count": null,
   "id": "c118a7ce",
   "metadata": {},
   "outputs": [],
   "source": [
    "fdr_p_list = np.array(fdr_p_list)"
   ]
  },
  {
   "cell_type": "code",
   "execution_count": null,
   "id": "155d39d7",
   "metadata": {},
   "outputs": [],
   "source": [
    "\n",
    "for i in range(1,5):\n",
    "    plt.plot(p_values_lags[:,i])\n",
    "    plt.axhline(y=0.05, color='black', linestyle='-')\n",
    "\n",
    "plt.show()"
   ]
  },
  {
   "cell_type": "code",
   "execution_count": null,
   "id": "54d7af5f",
   "metadata": {},
   "outputs": [],
   "source": [
    "fdr_p_list"
   ]
  },
  {
   "cell_type": "code",
   "execution_count": null,
   "id": "a836292b",
   "metadata": {},
   "outputs": [],
   "source": [
    "\n",
    "for i in range(4):\n",
    "    plt.plot(fdr_p_list[i,:])\n",
    "    \n",
    "    plt.axhline(y=0.05, color='black', linestyle='-')\n",
    "\n",
    "plt.show()"
   ]
  },
  {
   "cell_type": "code",
   "execution_count": null,
   "id": "a339fd4b",
   "metadata": {},
   "outputs": [],
   "source": [
    "plt.plot(fdr_p_list[3,:])\n",
    "plt.show()"
   ]
  },
  {
   "cell_type": "code",
   "execution_count": null,
   "id": "ea0c95b2",
   "metadata": {},
   "outputs": [],
   "source": [
    "(fdr_p_list <= 0.05).sum()"
   ]
  },
  {
   "cell_type": "code",
   "execution_count": null,
   "id": "a4a8055b",
   "metadata": {},
   "outputs": [],
   "source": [
    "plt.plot(np.array(correlation_ccf[\"TP9\"])[:,0])\n",
    "\n",
    "plt.xticks(np.linspace(0,2561, 11),\n",
    "           np.round((np.linspace(0,2561, 11)-1281)/256))\n",
    "plt.show()"
   ]
  },
  {
   "cell_type": "code",
   "execution_count": null,
   "id": "eabbd54e",
   "metadata": {},
   "outputs": [],
   "source": [
    "plt.plot(np.array(correlation_ccf[\"TP10\"])[:,0])\n",
    "\n",
    "plt.xticks(np.linspace(0,2561, 11),\n",
    "           np.round((np.linspace(0,2561, 11)-1281)/256))\n",
    "plt.show()"
   ]
  },
  {
   "cell_type": "code",
   "execution_count": null,
   "id": "d6ade601",
   "metadata": {},
   "outputs": [],
   "source": [
    "plt.plot(np.array(correlation_ccf[\"AF7\"])[:,0])\n",
    "\n",
    "plt.xticks(np.linspace(0,2561, 11),\n",
    "           np.round((np.linspace(0,2561, 11)-1281)/256))\n",
    "plt.show()"
   ]
  },
  {
   "cell_type": "code",
   "execution_count": null,
   "id": "15402d8a",
   "metadata": {},
   "outputs": [],
   "source": [
    "plt.plot(np.array(correlation_ccf[\"AF8\"])[:,0])\n",
    "\n",
    "plt.xticks(np.linspace(0,2561, 11),\n",
    "           np.round((np.linspace(0,2561, 11)-1281)/256))\n",
    "plt.show()"
   ]
  },
  {
   "cell_type": "code",
   "execution_count": null,
   "id": "71ccb61c",
   "metadata": {},
   "outputs": [],
   "source": [
    "\n",
    "import statsmodels.tsa.stattools as smt\n",
    "def obtain_ccf(ts_1, ts_2, length=5):\n",
    "    backwards = smt.ccf(ts_1[::-1], ts_2[::-1], adjusted=False)[::-1][-(length*256+1):]\n",
    "    forwards = smt.ccf(ts_1, ts_2, adjusted=False)[:(length*256+1)]\n",
    "    ccf_output = np.r_[backwards[:-1], forwards]\n",
    "    return ccf_output"
   ]
  },
  {
   "cell_type": "code",
   "execution_count": null,
   "id": "c867668a",
   "metadata": {},
   "outputs": [],
   "source": []
  },
  {
   "cell_type": "code",
   "execution_count": null,
   "id": "6fddfbdd",
   "metadata": {},
   "outputs": [],
   "source": []
  },
  {
   "cell_type": "code",
   "execution_count": null,
   "id": "4361c9d7",
   "metadata": {},
   "outputs": [],
   "source": [
    "corr_df_TP9 = eeg_long_df.groupby([\"subj\", \"ses\"])[[\"TP9-1\", \"TP9-2\"]].corr().iloc[0::2,-1].reset_index().iloc[:,-1]\n",
    "corr_df_AF7 = eeg_long_df.groupby([\"subj\", \"ses\"])[[\"AF7-1\", \"AF7-2\"]].corr().iloc[0::2,-1].reset_index().iloc[:,-1]\n",
    "corr_df_AF8 = eeg_long_df.groupby([\"subj\", \"ses\"])[[\"AF8-1\", \"AF8-2\"]].corr().iloc[0::2,-1].reset_index().iloc[:,-1]\n",
    "corr_df_TP10 = eeg_long_df.groupby([\"subj\", \"ses\"])[[\"TP10-1\", \"TP10-2\"]].corr().iloc[0::2,-1].reset_index().iloc[:,-1]\n",
    "\n",
    "corr_df = pd.concat([corr_df_TP9, corr_df_AF7, corr_df_AF8, corr_df_TP10], axis=1)\n",
    "corr_df.columns = [\"TP9\", \"AF7\", \"AF8\", \"TP10\"]\n",
    "corr_df[\"subj\"] = eeg_long_df.groupby([\"subj\", \"ses\"])[[\"TP9-1\", \"TP9-2\"]].corr().iloc[0::2,-1].reset_index().iloc[:,0]\n",
    "corr_df[\"ses\"] = eeg_long_df.groupby([\"subj\", \"ses\"])[[\"TP9-1\", \"TP9-2\"]].corr().iloc[0::2,-1].reset_index().iloc[:,1]"
   ]
  },
  {
   "cell_type": "code",
   "execution_count": null,
   "id": "6bf30b9a",
   "metadata": {},
   "outputs": [],
   "source": [
    "dropped_time_1 = eeg_long_df[[\"TP9-1\"]].isna().groupby([eeg_long_df[\"subj\"], eeg_long_df[\"ses\"]]).sum()[\"TP9-1\"]\n",
    "session_size_1 = eeg_long_df[[\"TP9-1\"]].isna().groupby([eeg_long_df[\"subj\"], eeg_long_df[\"ses\"]]).size()\n",
    "dropped_1 = dropped_time_1/session_size_1\n",
    "dropped_time_2 = eeg_long_df[[\"TP9-2\"]].isna().groupby([eeg_long_df[\"subj\"], eeg_long_df[\"ses\"]]).sum()[\"TP9-2\"]\n",
    "session_size_2 = eeg_long_df[[\"TP9-2\"]].isna().groupby([eeg_long_df[\"subj\"], eeg_long_df[\"ses\"]]).size()\n",
    "dropped_2 = dropped_time_2/session_size_2\n",
    "dropped_time_total = eeg_long_df[[\"TP9-1\", \"TP9-2\"]].isna().any(axis=1).groupby([eeg_long_df[\"subj\"], eeg_long_df[\"ses\"]]).sum()\n",
    "dropped_total = dropped_time_total/session_size_2"
   ]
  },
  {
   "cell_type": "code",
   "execution_count": null,
   "id": "ca6b229d",
   "metadata": {},
   "outputs": [],
   "source": []
  },
  {
   "cell_type": "code",
   "execution_count": null,
   "id": "92ae4ced",
   "metadata": {},
   "outputs": [],
   "source": []
  },
  {
   "cell_type": "code",
   "execution_count": null,
   "id": "a27e880b",
   "metadata": {},
   "outputs": [],
   "source": [
    "corr_df[\"dropped_1\"] = dropped_1.to_list()\n",
    "corr_df[\"dropped_2\"] = dropped_2.to_list()\n",
    "corr_df[\"dropped_total\"] = dropped_total.to_list()\n",
    "corr_df[\"timing\"] = np.array(session_size_1.to_list())/256/60"
   ]
  },
  {
   "cell_type": "code",
   "execution_count": null,
   "id": "12b9b7d5",
   "metadata": {},
   "outputs": [],
   "source": [
    "performance"
   ]
  },
  {
   "cell_type": "code",
   "execution_count": null,
   "id": "7afffbbf",
   "metadata": {},
   "outputs": [],
   "source": [
    "corr_df = corr_df.merge(performance, on = [\"subj\", \"ses\"], how = \"left\")"
   ]
  },
  {
   "cell_type": "code",
   "execution_count": null,
   "id": "6a35db18",
   "metadata": {},
   "outputs": [],
   "source": [
    "corr_df "
   ]
  },
  {
   "cell_type": "code",
   "execution_count": null,
   "id": "c90e032c",
   "metadata": {},
   "outputs": [],
   "source": [
    "corr_df_old = pd.read_csv(\"cor_par_1_59.csv\")"
   ]
  },
  {
   "cell_type": "code",
   "execution_count": null,
   "id": "572acfc0",
   "metadata": {},
   "outputs": [],
   "source": [
    "corr_df_old[corr_df.columns]"
   ]
  },
  {
   "cell_type": "code",
   "execution_count": null,
   "id": "304b80cb",
   "metadata": {},
   "outputs": [],
   "source": [
    "corr_df = pd.concat([corr_df_old[corr_df.columns], corr_df]).reset_index(drop=True)"
   ]
  },
  {
   "cell_type": "code",
   "execution_count": null,
   "id": "536de3cf",
   "metadata": {},
   "outputs": [],
   "source": [
    "corr_df = corr_df.dropna()"
   ]
  },
  {
   "cell_type": "code",
   "execution_count": null,
   "id": "e71d06ba",
   "metadata": {},
   "outputs": [],
   "source": [
    "corr_df"
   ]
  },
  {
   "cell_type": "code",
   "execution_count": null,
   "id": "e04e47e2",
   "metadata": {},
   "outputs": [],
   "source": [
    "corr_df.dropped_total.hist()\n",
    "plt.show()"
   ]
  },
  {
   "cell_type": "code",
   "execution_count": null,
   "id": "6a6293bb",
   "metadata": {},
   "outputs": [],
   "source": [
    "# corr_df.to_csv(\"corr_df_na_epoch1.csv\")"
   ]
  },
  {
   "cell_type": "code",
   "execution_count": null,
   "id": "21544f7c",
   "metadata": {},
   "outputs": [],
   "source": [
    "sns.pairplot(corr_df[[\"TP9\", \"AF7\", \"AF8\", \"TP10\", \"Performance\", \"Time (sec)\", \"dropped_total\"]])\n",
    "plt.show()"
   ]
  },
  {
   "cell_type": "code",
   "execution_count": null,
   "id": "e8ccb483",
   "metadata": {},
   "outputs": [],
   "source": [
    "from matplotlib import pyplot as plt"
   ]
  },
  {
   "cell_type": "code",
   "execution_count": null,
   "id": "a308fe68",
   "metadata": {},
   "outputs": [],
   "source": [
    "sns.scatterplot(data=corr_df, x=\"Performance\", y=\"AF7\")\n",
    "plt.show()"
   ]
  },
  {
   "cell_type": "code",
   "execution_count": null,
   "id": "7ba70f4f",
   "metadata": {},
   "outputs": [],
   "source": [
    "from scipy.stats import pearsonr, zscore"
   ]
  },
  {
   "cell_type": "code",
   "execution_count": null,
   "id": "ac68e86f",
   "metadata": {},
   "outputs": [],
   "source": [
    "def drop_outlier(data, variables, threth):\n",
    "    temp_data = data.copy()\n",
    "    temp_data = temp_data.dropna()\n",
    "    temp_data_no_outlier = temp_data[(np.abs(zscore(temp_data[variables])) < threth).all(axis=1)]\n",
    "    return temp_data_no_outlier"
   ]
  },
  {
   "cell_type": "code",
   "execution_count": null,
   "id": "964213f0",
   "metadata": {},
   "outputs": [],
   "source": []
  },
  {
   "cell_type": "code",
   "execution_count": null,
   "id": "872650d5",
   "metadata": {},
   "outputs": [],
   "source": [
    "def plot_scatter(data, variables, threth):\n",
    "    temp_data = data.copy()\n",
    "    temp_data_no_outlier = drop_outlier(temp_data, variables, threth)\n",
    "    x = variables[0]\n",
    "    y = variables[1]\n",
    "    sns.scatterplot(temp_data_no_outlier[x], temp_data_no_outlier[y])\n",
    "    print(pearsonr(temp_data_no_outlier[x], temp_data_no_outlier[y]))"
   ]
  },
  {
   "cell_type": "code",
   "execution_count": null,
   "id": "4bfe21f7",
   "metadata": {},
   "outputs": [],
   "source": [
    "import statsmodels.api as sm"
   ]
  },
  {
   "cell_type": "code",
   "execution_count": null,
   "id": "0243c758",
   "metadata": {},
   "outputs": [],
   "source": [
    "corr_df = corr_df.dropna()"
   ]
  },
  {
   "cell_type": "code",
   "execution_count": null,
   "id": "6dac4f44",
   "metadata": {},
   "outputs": [],
   "source": [
    "corr_df"
   ]
  },
  {
   "cell_type": "code",
   "execution_count": null,
   "id": "bb06b2b4",
   "metadata": {},
   "outputs": [],
   "source": [
    "corr_df_no_outlier = drop_outlier(corr_df, [\"TP9\", \"AF7\", \"AF8\", \"TP10\"], 2)"
   ]
  },
  {
   "cell_type": "code",
   "execution_count": null,
   "id": "07738db2",
   "metadata": {},
   "outputs": [],
   "source": [
    "corr_df_no_outlier"
   ]
  },
  {
   "cell_type": "code",
   "execution_count": null,
   "id": "a659a1f5",
   "metadata": {},
   "outputs": [],
   "source": [
    "sns.heatmap(corr_df.dropna()[[\"TP9\", \"AF7\", \"AF8\", \"TP10\", \"Performance\", \"Time (sec)\"]].corr(), annot=True)\n",
    "plt.show()"
   ]
  },
  {
   "cell_type": "code",
   "execution_count": null,
   "id": "1c8d7006",
   "metadata": {},
   "outputs": [],
   "source": [
    "sns.heatmap(corr_df_no_outlier[[\"TP9\", \"AF7\", \"AF8\", \"TP10\", \"Performance\", \"Time (sec)\"]].corr(), annot=True)\n",
    "plt.show()"
   ]
  },
  {
   "cell_type": "code",
   "execution_count": null,
   "id": "7000d7ab",
   "metadata": {},
   "outputs": [],
   "source": []
  },
  {
   "cell_type": "code",
   "execution_count": null,
   "id": "aead5ca7",
   "metadata": {},
   "outputs": [],
   "source": []
  },
  {
   "cell_type": "code",
   "execution_count": null,
   "id": "b9753c9d",
   "metadata": {},
   "outputs": [],
   "source": [
    "x = corr_df_no_outlier[[\"TP9\", \"AF7\", \"AF8\", \"TP10\"]]\n",
    "y = corr_df_no_outlier['Performance']\n",
    "\n",
    "x = sm.add_constant(x)\n",
    "\n",
    "model = sm.OLS(y, x).fit()\n",
    "print(model.summary())"
   ]
  },
  {
   "cell_type": "code",
   "execution_count": null,
   "id": "7a0b11e2",
   "metadata": {},
   "outputs": [],
   "source": [
    "x = corr_df[[\"TP9\", \"AF7\", \"AF8\", \"TP10\"]]\n",
    "y = corr_df['Performance']\n",
    "\n",
    "x = sm.add_constant(x)\n",
    "\n",
    "model = sm.OLS(y, x).fit()\n",
    "print(model.summary())"
   ]
  },
  {
   "cell_type": "code",
   "execution_count": null,
   "id": "2645c6e5",
   "metadata": {},
   "outputs": [],
   "source": [
    "from matplotlib import pyplot as plt"
   ]
  },
  {
   "cell_type": "code",
   "execution_count": null,
   "id": "a15e69fd",
   "metadata": {},
   "outputs": [],
   "source": [
    "corr_df.dropped_total.hist(alpha=0.5, label=\"total\")\n",
    "corr_df.dropped_1.hist(alpha=0.5, label=\"person 1\")\n",
    "corr_df.dropped_2.hist(alpha=0.5, label=\"person 2\")\n",
    "plt.legend()\n",
    "plt.xlabel(\"Percentage of dropped epochs\")\n",
    "plt.show()"
   ]
  },
  {
   "cell_type": "code",
   "execution_count": null,
   "id": "1292bae9",
   "metadata": {},
   "outputs": [],
   "source": [
    "plot_scatter(corr_df, [\"Performance\", \"AF7\"], 2)\n",
    "plt.show()"
   ]
  },
  {
   "cell_type": "code",
   "execution_count": null,
   "id": "898dae6c",
   "metadata": {},
   "outputs": [],
   "source": [
    "plot_scatter(corr_df, [\"Performance\", \"AF8\"], 2)\n",
    "plt.show()"
   ]
  },
  {
   "cell_type": "code",
   "execution_count": null,
   "id": "c6a8946f",
   "metadata": {},
   "outputs": [],
   "source": [
    "plot_scatter(corr_df.iloc[10:], [\"Performance\", \"TP9\"], 2)\n",
    "plt.show()"
   ]
  },
  {
   "cell_type": "code",
   "execution_count": null,
   "id": "d499b6cb",
   "metadata": {},
   "outputs": [],
   "source": [
    "plot_scatter(corr_df, [\"Performance\", \"TP10\"], 2)\n",
    "plt.show()"
   ]
  },
  {
   "cell_type": "code",
   "execution_count": null,
   "id": "c465a2b4",
   "metadata": {},
   "outputs": [],
   "source": [
    "plot_scatter(corr_df.iloc[10:], [\"Performance\", \"Time (sec)\"], 2)"
   ]
  },
  {
   "cell_type": "code",
   "execution_count": null,
   "id": "dfb2cf6f",
   "metadata": {},
   "outputs": [],
   "source": []
  },
  {
   "cell_type": "code",
   "execution_count": null,
   "id": "71902338",
   "metadata": {},
   "outputs": [],
   "source": []
  },
  {
   "cell_type": "code",
   "execution_count": null,
   "id": "936b7b88",
   "metadata": {},
   "outputs": [],
   "source": [
    "# sns.histplot(corr_df[\"timing\"])\n",
    "sns.histplot(corr_df[\"dropped_2\"])"
   ]
  },
  {
   "cell_type": "code",
   "execution_count": null,
   "id": "af27141d",
   "metadata": {},
   "outputs": [],
   "source": [
    "corr_df"
   ]
  },
  {
   "cell_type": "code",
   "execution_count": null,
   "id": "a38e2b89",
   "metadata": {},
   "outputs": [],
   "source": [
    "corr_df_filter = corr_df[(corr_df.dropped_1 <= 0.7) & (corr_df.dropped_2 <= 0.7)]\n",
    "\n",
    "corr_df_filter = corr_df_filter[corr_df_filter.timing >= 3.5]\n"
   ]
  },
  {
   "cell_type": "code",
   "execution_count": null,
   "id": "999f16a1",
   "metadata": {},
   "outputs": [],
   "source": [
    "corr_df_filter[[\"subj\", \"ses\"]]"
   ]
  },
  {
   "cell_type": "code",
   "execution_count": null,
   "id": "9787ab8e",
   "metadata": {},
   "outputs": [],
   "source": [
    "# from sklearn.mixture import GaussianMixture\n",
    "# gmm = GaussianMixture(n_components=2, tol=1, random_state=0).fit(corr_df_filter[[\"TP10\", \"AF7\", \"AF8\", \"TP9\"]])\n",
    "\n",
    "# labels = gmm.predict(corr_df_filter[[\"TP10\", \"AF7\", \"AF8\", \"TP9\"]])\n",
    "# labels.sum()"
   ]
  },
  {
   "cell_type": "code",
   "execution_count": null,
   "id": "718049a6",
   "metadata": {},
   "outputs": [],
   "source": [
    "labels"
   ]
  },
  {
   "cell_type": "code",
   "execution_count": null,
   "id": "64977bb5",
   "metadata": {},
   "outputs": [],
   "source": [
    "# sns.histplot(corr_df_filter[\"timing\"])\n",
    "# plt.show()"
   ]
  },
  {
   "cell_type": "code",
   "execution_count": null,
   "id": "6cf13995",
   "metadata": {},
   "outputs": [],
   "source": [
    "# corr_df_filter = drop_outlier(corr_df_filter, [\"TP9\", \"AF7\", \"AF8\", \"TP10\"], 3)"
   ]
  },
  {
   "cell_type": "code",
   "execution_count": null,
   "id": "26fbf1f8",
   "metadata": {},
   "outputs": [],
   "source": [
    "# sns.pairplot(corr_df_filter[[\"TP9\", \"AF7\", \"AF8\", \"TP10\", \"Performance\", \"Time (sec)\", \"dropped_total\"]])\n",
    "# plt.show()"
   ]
  },
  {
   "cell_type": "code",
   "execution_count": null,
   "id": "82e3b3ac",
   "metadata": {},
   "outputs": [],
   "source": [
    "corr_df_filter.shape"
   ]
  },
  {
   "cell_type": "code",
   "execution_count": null,
   "id": "da72014c",
   "metadata": {},
   "outputs": [],
   "source": [
    "x = corr_df_filter[[\"TP9\", \"AF7\", \"AF8\", \"TP10\", \"ses\", \"Time (sec)\"]]\n",
    "y = corr_df_filter['Performance']\n",
    "\n",
    "x = sm.add_constant(x)\n",
    "\n",
    "model = sm.OLS(y, x).fit()\n",
    "print(model.summary())"
   ]
  },
  {
   "cell_type": "code",
   "execution_count": null,
   "id": "ae920a89",
   "metadata": {},
   "outputs": [],
   "source": [
    "sns.heatmap(corr_df_filter[[\"TP9\", \"AF7\", \"AF8\", \"TP10\", \"Performance\", \"Time (sec)\"]].corr(), annot=True)\n",
    "plt.show()"
   ]
  },
  {
   "cell_type": "code",
   "execution_count": null,
   "id": "47bdd270",
   "metadata": {},
   "outputs": [],
   "source": [
    "from matplotlib import pyplot as plt\n",
    "import seaborn as sns"
   ]
  },
  {
   "cell_type": "code",
   "execution_count": null,
   "id": "f84355a8",
   "metadata": {},
   "outputs": [],
   "source": [
    "corr_df_filter.subj.unique().shape"
   ]
  },
  {
   "cell_type": "code",
   "execution_count": null,
   "id": "9770f5ca",
   "metadata": {},
   "outputs": [],
   "source": [
    "sns.boxplot(x = corr_df_filter.ses, y = corr_df_filter[\"Performance\"])\n",
    "plt.show()"
   ]
  },
  {
   "cell_type": "code",
   "execution_count": null,
   "id": "a4ea0843",
   "metadata": {},
   "outputs": [],
   "source": [
    "fig, axs = plt.subplots(2,2,figsize=(8,8))\n",
    "\n",
    "channels = [\"TP9\", \"AF7\", \"AF8\", \"TP10\"]\n",
    "for i in range(4):\n",
    "    sns.boxplot(x = corr_df_filter.ses, y = corr_df_filter[channels[i]], ax=axs[i//2, i%2])\n",
    "\n",
    "plt.show()"
   ]
  },
  {
   "cell_type": "code",
   "execution_count": null,
   "id": "756e71d9",
   "metadata": {},
   "outputs": [],
   "source": [
    "import statsmodels.api as sm\n",
    "\n",
    "from statsmodels.formula.api import ols\n",
    "from statsmodels.stats.anova import AnovaRM"
   ]
  },
  {
   "cell_type": "code",
   "execution_count": null,
   "id": "d20a13ff",
   "metadata": {},
   "outputs": [],
   "source": [
    "channels = [\"AF8\", \"AF7\", \"TP10\", \"TP9\", \"Performance\"]\n",
    "for channel in channels:\n",
    "    l_model = ols('{} ~ C(ses)'.format(channel),\n",
    "                 data=corr_df_filter.dropna()).fit()\n",
    "    table = sm.stats.anova_lm(l_model) # Type 2 ANOVA DataFrame\n",
    "    print(\"=========================== AVNOVA Table ========================\")\n",
    "    print(\"================= {} ~ Session ====================\". format(channel))\n",
    "    print(table)"
   ]
  },
  {
   "cell_type": "code",
   "execution_count": null,
   "id": "6ab4e754",
   "metadata": {},
   "outputs": [],
   "source": [
    "from statsmodels.multivariate.manova import MANOVA"
   ]
  },
  {
   "cell_type": "code",
   "execution_count": null,
   "id": "ad9d678b",
   "metadata": {},
   "outputs": [],
   "source": [
    "maov = MANOVA.from_formula(' AF8 + AF7 + TP10 + TP9 ~ C(ses)', data=corr_df_filter)"
   ]
  },
  {
   "cell_type": "code",
   "execution_count": null,
   "id": "d1561f27",
   "metadata": {},
   "outputs": [],
   "source": [
    "print(maov.mv_test())"
   ]
  },
  {
   "cell_type": "code",
   "execution_count": null,
   "id": "ec244300",
   "metadata": {},
   "outputs": [],
   "source": [
    "x = corr_df_filter.dropna()[[\"TP9\", \"AF7\", \"AF8\", \"TP10\", \"ses\", \"Time (sec)\"]]\n",
    "y = corr_df_filter.dropna()['Performance']\n",
    "\n",
    "x = sm.add_constant(x)\n",
    "\n",
    "model = sm.OLS(y, x).fit()\n",
    "print(model.summary())"
   ]
  },
  {
   "cell_type": "code",
   "execution_count": null,
   "id": "ac18a896",
   "metadata": {},
   "outputs": [],
   "source": [
    "corr_df_filter.subj.unique().shape"
   ]
  },
  {
   "cell_type": "code",
   "execution_count": null,
   "id": "87b2cb72",
   "metadata": {},
   "outputs": [],
   "source": [
    "sns.regplot(y=\"Performance\", x=\"AF8\", data=corr_df_filter)\n",
    "plt.show()"
   ]
  },
  {
   "cell_type": "code",
   "execution_count": null,
   "id": "091e92ba",
   "metadata": {},
   "outputs": [],
   "source": [
    "fig, ax = plt.subplots(1,2, figsize=(12,6))\n",
    "sns.boxplot(x = corr_df_filter.ses, y = corr_df_filter[\"Performance\"], ax=ax[0])\n",
    "sns.regplot(y=\"Performance\", x=\"AF8\", data=corr_df_filter, ax=ax[1])\n",
    "\n",
    "# ax[0].set_title(\"Title\",fontsize=50)\n",
    "ax[0].set_xlabel(\"Session\",fontsize=20)\n",
    "ax[0].set_ylabel(\"Performance\",fontsize=20)\n",
    "\n",
    "ax[1].set_xlabel(\"AF8\",fontsize=20)\n",
    "ax[1].set_ylabel(\"Performance\",fontsize=20)\n",
    "\n",
    "ax[0].annotate(\"A\", fontsize= 30, xy=(-0.15, 0.95), xycoords=\"axes fraction\")\n",
    "ax[1].annotate(\"B\", fontsize= 30, xy=(-0.15, 0.95), xycoords=\"axes fraction\")\n",
    "\n",
    "plt.show()"
   ]
  },
  {
   "cell_type": "code",
   "execution_count": null,
   "id": "e71ffb45",
   "metadata": {},
   "outputs": [],
   "source": []
  },
  {
   "cell_type": "code",
   "execution_count": null,
   "id": "87a9b9a9",
   "metadata": {},
   "outputs": [],
   "source": []
  },
  {
   "cell_type": "code",
   "execution_count": null,
   "id": "3f66ec70",
   "metadata": {},
   "outputs": [],
   "source": [
    "l_model = ols('Performance ~ C(ses) + AF8 + C(ses)*AF8', data=corr_df_filter).fit()\n",
    "table = sm.stats.anova_lm(l_model) # Type 2 ANOVA DataFrame\n",
    "print(table)"
   ]
  },
  {
   "cell_type": "code",
   "execution_count": null,
   "id": "ba7ee7af",
   "metadata": {},
   "outputs": [],
   "source": [
    "print(l_model.summary())"
   ]
  },
  {
   "cell_type": "code",
   "execution_count": null,
   "id": "8c85a1f7",
   "metadata": {},
   "outputs": [],
   "source": []
  }
 ],
 "metadata": {
  "kernelspec": {
   "display_name": "Python 3 (ipykernel)",
   "language": "python",
   "name": "python3"
  },
  "language_info": {
   "codemirror_mode": {
    "name": "ipython",
    "version": 3
   },
   "file_extension": ".py",
   "mimetype": "text/x-python",
   "name": "python",
   "nbconvert_exporter": "python",
   "pygments_lexer": "ipython3",
   "version": "3.9.12"
  }
 },
 "nbformat": 4,
 "nbformat_minor": 5
}
