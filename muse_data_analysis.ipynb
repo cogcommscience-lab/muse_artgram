{
 "cells": [
  {
   "cell_type": "code",
   "execution_count": null,
   "id": "b5bdb643-4f74-4b12-875b-4dbb10d375e1",
   "metadata": {},
   "outputs": [],
   "source": [
    "import sys\n",
    "sys.version_info"
   ]
  },
  {
   "cell_type": "code",
   "execution_count": 1,
   "id": "68d83990",
   "metadata": {},
   "outputs": [],
   "source": [
    "import os.path as op\n",
    "\n",
    "import mne\n",
    "import pyxdf\n",
    "import pandas as pd\n",
    "import seaborn as sns\n",
    "from matplotlib import pyplot as plt"
   ]
  },
  {
   "cell_type": "code",
   "execution_count": null,
   "id": "ea7e4fe4",
   "metadata": {},
   "outputs": [],
   "source": [
    "from utils import Preprocessing"
   ]
  },
  {
   "cell_type": "code",
   "execution_count": null,
   "id": "94ec512b",
   "metadata": {},
   "outputs": [],
   "source": [
    "#import importlib\n",
    "#importlib.reload(Preprocessing)"
   ]
  },
  {
   "cell_type": "code",
   "execution_count": null,
   "id": "6a4dfde6",
   "metadata": {},
   "outputs": [],
   "source": [
    "subjs = [\"%03d\" % x for x in range(0,3)]\n",
    "#subjs = [\"%03d\" % x for x in range(0,182)]\n",
    "#subjs = '001'"
   ]
  },
  {
   "cell_type": "code",
   "execution_count": null,
   "id": "c071576e-64c7-47b5-bd6a-8148a4f215f5",
   "metadata": {},
   "outputs": [],
   "source": [
    "print(subjs)"
   ]
  },
  {
   "cell_type": "code",
   "execution_count": null,
   "id": "8e73947d",
   "metadata": {
    "tags": []
   },
   "outputs": [],
   "source": [
    "sessions = [\"%03d\" % x for x in range(1,4)]\n",
    "#sessions = '001'"
   ]
  },
  {
   "cell_type": "code",
   "execution_count": null,
   "id": "52dccbcc-c1b1-4be6-96fe-a2a41032635b",
   "metadata": {},
   "outputs": [],
   "source": [
    "print(sessions)"
   ]
  },
  {
   "cell_type": "code",
   "execution_count": null,
   "id": "b88bdbc3",
   "metadata": {},
   "outputs": [],
   "source": [
    "def make_file_path(prefix, subj, session):\n",
    "    return prefix + \"sub-P\"+subj+\"/ses-S\"+session+\"/eeg/sub-P\"+subj+\"_ses-S\"+session+\"_task-Default_run-001_eeg.xdf\""
   ]
  },
  {
   "cell_type": "code",
   "execution_count": null,
   "id": "5a3006da",
   "metadata": {},
   "outputs": [],
   "source": [
    "prefix = \"/mnt/ccsl_nas/box_sync/tangram_eeg/study1/raw_data/\"\n",
    "#prefix = \"/home/rwhuskey/Downloads/\""
   ]
  },
  {
   "cell_type": "code",
   "execution_count": null,
   "id": "51904da7-9ea8-4b9b-aa1b-c030d367bd7d",
   "metadata": {},
   "outputs": [],
   "source": [
    "print(prefix)"
   ]
  },
  {
   "cell_type": "code",
   "execution_count": null,
   "id": "d40cff1e-b141-4e48-9dc5-fb3b8c8efaaa",
   "metadata": {},
   "outputs": [],
   "source": [
    "#file = make_file_path(prefix, subjs, sessions)"
   ]
  },
  {
   "cell_type": "code",
   "execution_count": null,
   "id": "4d9ee4eb-fbbf-46f4-a13a-11ce151f03f7",
   "metadata": {},
   "outputs": [],
   "source": [
    "#print(file)"
   ]
  },
  {
   "cell_type": "code",
   "execution_count": null,
   "id": "58b2ee5f",
   "metadata": {},
   "outputs": [],
   "source": [
    "from IPython.display import clear_output"
   ]
  },
  {
   "cell_type": "code",
   "execution_count": null,
   "id": "28735875",
   "metadata": {},
   "outputs": [],
   "source": [
    "import os"
   ]
  },
  {
   "cell_type": "code",
   "execution_count": null,
   "id": "2bc5bb0e-3a3c-48f6-9dff-6513aaf50f5c",
   "metadata": {},
   "outputs": [],
   "source": [
    "## Import participant data and run autoreject\n",
    "\n",
    "# Define preprocess_dict, which is where synchronized streams + autoreject for\n",
    "# each participant pair for each session are stored\n",
    "preprocess_dict = {}\n",
    "\n",
    "for subj in subjs:\n",
    "    subj_df_dict = {}\n",
    "    for session in sessions:\n",
    "        \n",
    "        # reference each xdf file for each pair of participants for each session\n",
    "        file = make_file_path(prefix, subj, session)\n",
    "        \n",
    "        # Read in xdf file, synchronize streams, and structure for each \n",
    "        # participant for each electrode\n",
    "        if os.path.isfile(file):\n",
    "            try:\n",
    "                print(\"processing subj: {} session: {}\".format(subj, session))\n",
    "                streams, header  = pyxdf.load_xdf(file, select_streams=[{'type': 'EEG'}])\n",
    "                streams = streams[:2]\n",
    "                streams = Preprocessing._sync_timestamps(streams, kind='linear')\n",
    "                streams = Preprocessing._limit_streams_to_overlap(streams)\n",
    "                \n",
    "                if streams[0]['info']['name'][0][5:9] == 'AC76':\n",
    "                    director = streams[0]\n",
    "                    matcher = streams[1]\n",
    "                elif streams[0]['info']['name'][0][5:9] == 'AC7D':\n",
    "                    director = streams[1]\n",
    "                    matcher = streams[0]\n",
    "                else:\n",
    "                    raise Exception(\"stream naming incorrect\")\n",
    "                \n",
    "                # timeseries for first participant in the xdf\n",
    "                # runs autoreject (from preprocessing.py)\n",
    "                # autoreject parameters are specified in preprocssing.py\n",
    "                timeseries_p1 = Preprocessing.preprocessing_autoreject(director)\n",
    "                # timeseries for second participant in the xdf\n",
    "                # runs autoreject (from preprocessing.py)\n",
    "                # autoreject parameters are specified in preprocssing.py\n",
    "                timeseries_p2 = Preprocessing.preprocessing_autoreject(matcher)\n",
    "                \n",
    "                # structure autorejected timeseries for both participants\n",
    "                pair_df = pd.concat([timeseries_p1, timeseries_p2.iloc[:,3:]], axis=1)\n",
    "                \n",
    "                # name column headers\n",
    "                pair_df.columns = [\"index\", \"epoch\", \"time\", \"TP9-1\", \"AF7-1\", \"AF8-1\", \"TP10-1\", \"TP9-2\", \"AF7-2\", \"AF8-2\", \"TP10-2\"]\n",
    "                clear_output()\n",
    "\n",
    "                subj_df_dict[session] = pair_df\n",
    "            except:\n",
    "                print(\"Failed subj: {} session: {}\".format(subj, session))\n",
    "            \n",
    "    if os.path.exists(prefix+\"sub-P\"+subj):\n",
    "        preprocess_dict[subj] = subj_df_dict\n",
    "\n"
   ]
  },
  {
   "cell_type": "markdown",
   "id": "4b4a00d2",
   "metadata": {
    "tags": []
   },
   "source": [
    "# dump data as pickle files"
   ]
  },
  {
   "cell_type": "code",
   "execution_count": null,
   "id": "59a853c0",
   "metadata": {},
   "outputs": [],
   "source": [
    "import pickle"
   ]
  },
  {
   "cell_type": "code",
   "execution_count": null,
   "id": "6e393925",
   "metadata": {},
   "outputs": [],
   "source": [
    "# Un-comment this code if you want to save a new pickle file\n",
    "# The code is currently commented out to prevent\n",
    "# accidental file overwrite\n",
    "\n",
    "# Filehandler is for writing a pickle file\n",
    "#filehandler = open(\"preprocessed_data.obj\",\"wb\")\n",
    "\n",
    "# Pickle preprocess_dict\n",
    "#pickle.dump(preprocess_dict,filehandler)\n",
    "#filehandler.close()"
   ]
  },
  {
   "cell_type": "code",
   "execution_count": null,
   "id": "694ad3f5",
   "metadata": {},
   "outputs": [],
   "source": [
    "# after pre-processing is complete (i.e., load in data + autoreject)\n",
    "# start here by loading in the preprocessed and structured data\n",
    "\n",
    "# This code defines file for opening a pickeled object\n",
    "file = open(\"preprocessed_data.obj\",'rb')\n",
    "\n",
    "# This code reads in the pickle file\n",
    "preprocess_dict = pickle.load(file)\n",
    "file.close()"
   ]
  },
  {
   "cell_type": "markdown",
   "id": "51379a5e",
   "metadata": {},
   "source": [
    "# Save data as a long dataframe"
   ]
  },
  {
   "cell_type": "code",
   "execution_count": null,
   "id": "7ce7150c",
   "metadata": {},
   "outputs": [],
   "source": [
    "# define empty variables for structuring data\n",
    "eeg_long_df_list = []\n",
    "subj_list = []\n",
    "ses_list = []\n",
    "\n",
    "# For loop that reads in data from preprocess_dict and stores it with the new variables\n",
    "for subj in list(preprocess_dict.keys()):\n",
    "    for ses in list(preprocess_dict[subj].keys()):\n",
    "        temp_df = preprocess_dict[subj][ses]\n",
    "        eeg_long_df_list.append(temp_df)\n",
    "        subj_list.append([subj] * temp_df.shape[0])\n",
    "        ses_list.append([ses] * temp_df.shape[0])\n",
    "        \n",
    "subj_list = [item for sublist in subj_list for item in sublist]\n",
    "ses_list = [item for sublist in ses_list for item in sublist]"
   ]
  },
  {
   "cell_type": "code",
   "execution_count": null,
   "id": "83a10e2d-9e8d-4966-80cb-a14e0d09ee07",
   "metadata": {},
   "outputs": [],
   "source": [
    "len(subj_list)"
   ]
  },
  {
   "cell_type": "code",
   "execution_count": null,
   "id": "a6e78d89-c68e-4236-beb2-4054965a2e8f",
   "metadata": {},
   "outputs": [],
   "source": [
    "len(ses_list)"
   ]
  },
  {
   "cell_type": "code",
   "execution_count": null,
   "id": "92473c4b",
   "metadata": {},
   "outputs": [],
   "source": [
    "# convert the list to a dataframe\n",
    "eeg_long_df = pd.concat(eeg_long_df_list).reset_index()"
   ]
  },
  {
   "cell_type": "code",
   "execution_count": null,
   "id": "b750131e-7755-4c94-bdf7-e40bc591021c",
   "metadata": {},
   "outputs": [],
   "source": [
    "eeg_long_df.shape"
   ]
  },
  {
   "cell_type": "code",
   "execution_count": null,
   "id": "429f7893-1299-494e-aa0c-d1bc4d1b5458",
   "metadata": {},
   "outputs": [],
   "source": []
  },
  {
   "cell_type": "code",
   "execution_count": null,
   "id": "2914b1be-d4f0-4332-92cb-2c172203c4bf",
   "metadata": {},
   "outputs": [],
   "source": [
    "len(eeg_long_df)"
   ]
  },
  {
   "cell_type": "code",
   "execution_count": null,
   "id": "a9a1b0b0",
   "metadata": {},
   "outputs": [],
   "source": [
    "# add subj_list and ses_list to eeg_long_df\n",
    "eeg_long_df[\"subj\"] = subj_list\n",
    "eeg_long_df[\"ses\"] = ses_list"
   ]
  },
  {
   "cell_type": "code",
   "execution_count": null,
   "id": "f7f12400",
   "metadata": {},
   "outputs": [],
   "source": [
    "eeg_long_df"
   ]
  },
  {
   "cell_type": "code",
   "execution_count": null,
   "id": "c498cd4a",
   "metadata": {},
   "outputs": [],
   "source": [
    "# export the dataframe to a csv file for later processing\n",
    "eeg_long_df.to_csv(\"big_preprocessed_eeg_df.csv\")"
   ]
  },
  {
   "cell_type": "code",
   "execution_count": null,
   "id": "98429fad",
   "metadata": {},
   "outputs": [],
   "source": [
    "# This code reads the structured csv file in\n",
    "# Uncomment this code if you want to start back here\n",
    "\n",
    "eeg_long_df = pd.read_csv(\"big_preprocessed_eeg_df.csv\")"
   ]
  },
  {
   "cell_type": "code",
   "execution_count": null,
   "id": "27e5f612",
   "metadata": {},
   "outputs": [],
   "source": [
    "import numpy as np"
   ]
  },
  {
   "cell_type": "code",
   "execution_count": null,
   "id": "3ee4c5b1",
   "metadata": {},
   "outputs": [],
   "source": [
    "# this code replaces zero wit nan\n",
    "eeg_long_df[[\"TP9-1\", \"AF7-1\", \"AF8-1\", \"TP10-1\", \"TP9-2\", \"AF7-2\", \"AF8-2\", \"TP10-2\"]] = \\\n",
    "eeg_long_df.loc[:, [\"TP9-1\", \"AF7-1\", \"AF8-1\", \"TP10-1\", \"TP9-2\", \"AF7-2\", \"AF8-2\", \"TP10-2\"]].replace(0, np.nan)"
   ]
  },
  {
   "cell_type": "code",
   "execution_count": null,
   "id": "20db0170",
   "metadata": {},
   "outputs": [],
   "source": [
    "eeg_long_df"
   ]
  },
  {
   "cell_type": "code",
   "execution_count": null,
   "id": "54e9d797",
   "metadata": {},
   "outputs": [],
   "source": [
    "# Measure EEG inter-subject correlation\n",
    "# Make a big correlation matrix for:\n",
    "    # each electrode for each pair of participants\n",
    "# Then index that correlation matrix, selecting the correct cell\n",
    "# and restructuring as a dataframe\n",
    "\n",
    "corr_df_TP9 = eeg_long_df.groupby([\"subj\", \"ses\"])[[\"TP9-1\", \"TP9-2\"]].corr().iloc[0::2,-1].reset_index().iloc[:,-1]\n",
    "corr_df_AF7 = eeg_long_df.groupby([\"subj\", \"ses\"])[[\"AF7-1\", \"AF7-2\"]].corr().iloc[0::2,-1].reset_index().iloc[:,-1]\n",
    "corr_df_AF8 = eeg_long_df.groupby([\"subj\", \"ses\"])[[\"AF8-1\", \"AF8-2\"]].corr().iloc[0::2,-1].reset_index().iloc[:,-1]\n",
    "corr_df_TP10 = eeg_long_df.groupby([\"subj\", \"ses\"])[[\"TP10-1\", \"TP10-2\"]].corr().iloc[0::2,-1].reset_index().iloc[:,-1]\n",
    "\n",
    "# combine individual electrode correlation dataframes into one big dataframe \n",
    "corr_df = pd.concat([corr_df_TP9, corr_df_AF7, corr_df_AF8, corr_df_TP10], axis=1)\n",
    "corr_df.columns = [\"TP9\", \"AF7\", \"AF8\", \"TP10\"]\n",
    "corr_df[\"subj\"] = eeg_long_df.groupby([\"subj\", \"ses\"])[[\"TP9-1\", \"TP9-2\"]].corr().iloc[0::2,-1].reset_index().iloc[:,0]\n",
    "corr_df[\"ses\"] = eeg_long_df.groupby([\"subj\", \"ses\"])[[\"TP9-1\", \"TP9-2\"]].corr().iloc[0::2,-1].reset_index().iloc[:,1]"
   ]
  },
  {
   "cell_type": "code",
   "execution_count": null,
   "id": "82181fbd-7d81-4d82-b305-081177beaa61",
   "metadata": {},
   "outputs": [],
   "source": [
    "# export the correlation dataframe to a csv file for later analysis\n",
    "corr_df.to_csv(\"big_preprocessed_eeg_corr_df.csv\")"
   ]
  },
  {
   "cell_type": "code",
   "execution_count": null,
   "id": "0cfa14b8-9984-4b23-a9fa-8c51448f8376",
   "metadata": {},
   "outputs": [],
   "source": [
    "corr_df = pd.read_csv(\"big_preprocessed_eeg_corr_df.csv\")"
   ]
  },
  {
   "cell_type": "code",
   "execution_count": null,
   "id": "ec698ec9-8d56-4e25-ae8b-8ca81308cad0",
   "metadata": {},
   "outputs": [],
   "source": []
  },
  {
   "cell_type": "code",
   "execution_count": null,
   "id": "0bb95669-b886-46be-9144-96d71bbc90d7",
   "metadata": {},
   "outputs": [],
   "source": [
    "corr_df_TP9"
   ]
  },
  {
   "cell_type": "code",
   "execution_count": null,
   "id": "a494dc41",
   "metadata": {},
   "outputs": [],
   "source": [
    "corr_df"
   ]
  },
  {
   "cell_type": "markdown",
   "id": "34ce68fa",
   "metadata": {},
   "source": [
    "# Load task performance"
   ]
  },
  {
   "cell_type": "code",
   "execution_count": null,
   "id": "8c5bc6cb",
   "metadata": {},
   "outputs": [],
   "source": [
    "# read in the behavioral data\n",
    "# This is old code to be deleted\n",
    "# it originally read in an csv file that needed structuring, the subsequent code did the structuring\n",
    "\n",
    "#task_performance_df = pd.read_csv(\"task_performance.csv\")\n",
    "\n",
    "#task_performance_df"
   ]
  },
  {
   "cell_type": "code",
   "execution_count": null,
   "id": "a5a7c5ae",
   "metadata": {
    "tags": []
   },
   "outputs": [],
   "source": [
    "# this is old code that structured a file\n",
    "\n",
    "#task_performance_df[\"subj\"] = np.repeat(task_performance_df.subj.dropna().astype(int).tolist(), 3)\n",
    "#task_performance_df[\"ses\"] = np.tile(np.arange(1,4), task_performance_df.subj.unique().shape[0])"
   ]
  },
  {
   "cell_type": "code",
   "execution_count": null,
   "id": "9940b805",
   "metadata": {},
   "outputs": [],
   "source": [
    "# this is old code that structured a file\n",
    "\n",
    "#task_performance_df = task_performance_df[[\"Performance\", \"Time (sec)\", \"Signal Drop\", \"subj\", \"ses\"]]\n",
    "#task_performance_df = task_performance_df.dropna()"
   ]
  },
  {
   "cell_type": "code",
   "execution_count": null,
   "id": "4e8da05f",
   "metadata": {},
   "outputs": [],
   "source": [
    "# this is old code that structured a file and saved it\n",
    "\n",
    "#task_performance_df\n",
    "#task_performance_df.to_csv(\"task_performance_new.csv\")"
   ]
  },
  {
   "cell_type": "code",
   "execution_count": null,
   "id": "d3fa1514-5d87-4b13-9c7e-86422886dcad",
   "metadata": {},
   "outputs": [],
   "source": [
    "#read in the structured task performance data\n",
    "\n",
    "task_performance_df = pd.read_csv(\"task_performance.csv\")"
   ]
  },
  {
   "cell_type": "code",
   "execution_count": null,
   "id": "c933413c",
   "metadata": {},
   "outputs": [],
   "source": [
    "from scipy.stats import pearsonr"
   ]
  },
  {
   "cell_type": "code",
   "execution_count": null,
   "id": "ef973065-b4af-4804-b018-ed7863915889",
   "metadata": {},
   "outputs": [],
   "source": []
  },
  {
   "cell_type": "code",
   "execution_count": null,
   "id": "c6002c12",
   "metadata": {},
   "outputs": [],
   "source": [
    "corr_df[\"subj\"] = corr_df[\"subj\"].astype(int)\n",
    "corr_df[\"ses\"] = corr_df[\"ses\"].astype(int)"
   ]
  },
  {
   "cell_type": "code",
   "execution_count": null,
   "id": "b65b3379",
   "metadata": {},
   "outputs": [],
   "source": [
    "corr_df"
   ]
  },
  {
   "cell_type": "code",
   "execution_count": null,
   "id": "3a79ad62",
   "metadata": {},
   "outputs": [],
   "source": [
    "corr_df = corr_df.merge(task_performance_df, on=[\"subj\", \"ses\"], how=\"left\")"
   ]
  },
  {
   "cell_type": "code",
   "execution_count": null,
   "id": "c9a3bf93",
   "metadata": {},
   "outputs": [],
   "source": [
    "corr_df = corr_df.dropna()"
   ]
  },
  {
   "cell_type": "code",
   "execution_count": null,
   "id": "858d89e1",
   "metadata": {},
   "outputs": [],
   "source": [
    "corr_df"
   ]
  },
  {
   "cell_type": "code",
   "execution_count": null,
   "id": "f4f11b24",
   "metadata": {},
   "outputs": [],
   "source": [
    "corr_df.subj.unique().shape[0]"
   ]
  },
  {
   "cell_type": "code",
   "execution_count": null,
   "id": "8f7c98a9-46c2-40ac-8267-a5a3c8be9b81",
   "metadata": {},
   "outputs": [],
   "source": [
    "corr_df.to_csv(\"merged_corr_df.csv\")"
   ]
  },
  {
   "cell_type": "markdown",
   "id": "4f78dd75",
   "metadata": {},
   "source": [
    "# Statistical testing"
   ]
  },
  {
   "cell_type": "code",
   "execution_count": 2,
   "id": "3771ce41-733c-4bf8-abeb-7d7e225ac976",
   "metadata": {},
   "outputs": [],
   "source": [
    "# Read in the structured correlation data\n",
    "\n",
    "corr_df = pd.read_csv(\"merged_corr_df.csv\")"
   ]
  },
  {
   "cell_type": "code",
   "execution_count": 14,
   "id": "99512373",
   "metadata": {},
   "outputs": [],
   "source": [
    "import statsmodels.api as sm\n",
    "import statsmodels.formula.api as smf\n",
    "\n",
    "from statsmodels.formula.api import ols\n",
    "from statsmodels.stats.anova import AnovaRM"
   ]
  },
  {
   "cell_type": "code",
   "execution_count": 6,
   "id": "19e7b5a9-0b8b-4503-bc06-b0baca8ce941",
   "metadata": {},
   "outputs": [],
   "source": [
    "# Make \"subj\" and \"ses\" strings\n",
    "\n",
    "corr_df['subj'] = corr_df['subj'].astype(str)\n",
    "corr_df['ses'] = corr_df['ses'].astype(str)"
   ]
  },
  {
   "cell_type": "code",
   "execution_count": 11,
   "id": "b4f4c4eb",
   "metadata": {},
   "outputs": [
    {
     "ename": "ValueError",
     "evalue": "Data is unbalanced.",
     "output_type": "error",
     "traceback": [
      "\u001b[0;31m---------------------------------------------------------------------------\u001b[0m",
      "\u001b[0;31mValueError\u001b[0m                                Traceback (most recent call last)",
      "Input \u001b[0;32mIn [11]\u001b[0m, in \u001b[0;36m<cell line: 4>\u001b[0;34m()\u001b[0m\n\u001b[1;32m      1\u001b[0m \u001b[38;5;66;03m# Repeated measures ANOVA with TP9 as DV\u001b[39;00m\n\u001b[1;32m      2\u001b[0m \u001b[38;5;66;03m# and subject as IV and session as repeated measure\u001b[39;00m\n\u001b[0;32m----> 4\u001b[0m \u001b[38;5;28mprint\u001b[39m(\u001b[43mAnovaRM\u001b[49m\u001b[43m(\u001b[49m\u001b[43mdata\u001b[49m\u001b[38;5;241;43m=\u001b[39;49m\u001b[43mcorr_df\u001b[49m\u001b[43m,\u001b[49m\u001b[43m \u001b[49m\u001b[43mdepvar\u001b[49m\u001b[38;5;241;43m=\u001b[39;49m\u001b[38;5;124;43m'\u001b[39;49m\u001b[38;5;124;43mTP9\u001b[39;49m\u001b[38;5;124;43m'\u001b[39;49m\u001b[43m,\u001b[49m\n\u001b[1;32m      5\u001b[0m \u001b[43m              \u001b[49m\u001b[43msubject\u001b[49m\u001b[38;5;241;43m=\u001b[39;49m\u001b[38;5;124;43m'\u001b[39;49m\u001b[38;5;124;43msubj\u001b[39;49m\u001b[38;5;124;43m'\u001b[39;49m\u001b[43m,\u001b[49m\u001b[43m \u001b[49m\u001b[43mwithin\u001b[49m\u001b[38;5;241;43m=\u001b[39;49m\u001b[43m[\u001b[49m\u001b[38;5;124;43m'\u001b[39;49m\u001b[38;5;124;43mses\u001b[39;49m\u001b[38;5;124;43m'\u001b[39;49m\u001b[43m]\u001b[49m\u001b[43m,\u001b[49m\u001b[43m \u001b[49m\u001b[43maggregate_func\u001b[49m\u001b[38;5;241;43m=\u001b[39;49m\u001b[38;5;124;43m'\u001b[39;49m\u001b[38;5;124;43mmean\u001b[39;49m\u001b[38;5;124;43m'\u001b[39;49m\u001b[43m)\u001b[49m\u001b[38;5;241m.\u001b[39mfit())\n",
      "File \u001b[0;32m~/anaconda3/lib/python3.9/site-packages/statsmodels/stats/anova.py:505\u001b[0m, in \u001b[0;36mAnovaRM.__init__\u001b[0;34m(self, data, depvar, subject, within, between, aggregate_func)\u001b[0m\n\u001b[1;32m    500\u001b[0m         msg \u001b[38;5;241m=\u001b[39m (\u001b[38;5;124m'\u001b[39m\u001b[38;5;124mThe data set contains more than one observation per \u001b[39m\u001b[38;5;124m'\u001b[39m\n\u001b[1;32m    501\u001b[0m                \u001b[38;5;124m'\u001b[39m\u001b[38;5;124msubject and cell. Either aggregate the data manually, \u001b[39m\u001b[38;5;124m'\u001b[39m\n\u001b[1;32m    502\u001b[0m                \u001b[38;5;124m'\u001b[39m\u001b[38;5;124mor pass the `aggregate_func` parameter.\u001b[39m\u001b[38;5;124m'\u001b[39m)\n\u001b[1;32m    503\u001b[0m         \u001b[38;5;28;01mraise\u001b[39;00m \u001b[38;5;167;01mValueError\u001b[39;00m(msg)\n\u001b[0;32m--> 505\u001b[0m \u001b[38;5;28;43mself\u001b[39;49m\u001b[38;5;241;43m.\u001b[39;49m\u001b[43m_check_data_balanced\u001b[49m\u001b[43m(\u001b[49m\u001b[43m)\u001b[49m\n",
      "File \u001b[0;32m~/anaconda3/lib/python3.9/site-packages/statsmodels/stats/anova.py:541\u001b[0m, in \u001b[0;36mAnovaRM._check_data_balanced\u001b[0;34m(self)\u001b[0m\n\u001b[1;32m    539\u001b[0m \u001b[38;5;28;01mfor\u001b[39;00m key \u001b[38;5;129;01min\u001b[39;00m cell_count:\n\u001b[1;32m    540\u001b[0m     \u001b[38;5;28;01mif\u001b[39;00m count \u001b[38;5;241m!=\u001b[39m cell_count[key]:\n\u001b[0;32m--> 541\u001b[0m         \u001b[38;5;28;01mraise\u001b[39;00m \u001b[38;5;167;01mValueError\u001b[39;00m(error_message)\n\u001b[1;32m    542\u001b[0m \u001b[38;5;28;01mif\u001b[39;00m \u001b[38;5;28mself\u001b[39m\u001b[38;5;241m.\u001b[39mdata\u001b[38;5;241m.\u001b[39mshape[\u001b[38;5;241m0\u001b[39m] \u001b[38;5;241m>\u001b[39m count \u001b[38;5;241m*\u001b[39m factor_levels:\n\u001b[1;32m    543\u001b[0m     \u001b[38;5;28;01mraise\u001b[39;00m \u001b[38;5;167;01mValueError\u001b[39;00m(\u001b[38;5;124m'\u001b[39m\u001b[38;5;124mThere are more than 1 element in a cell! Missing\u001b[39m\u001b[38;5;124m'\u001b[39m\n\u001b[1;32m    544\u001b[0m                      \u001b[38;5;124m'\u001b[39m\u001b[38;5;124m factors?\u001b[39m\u001b[38;5;124m'\u001b[39m)\n",
      "\u001b[0;31mValueError\u001b[0m: Data is unbalanced."
     ]
    }
   ],
   "source": [
    "# Repeated measures ANOVA with TP9 as DV\n",
    "# and subject as IV and session as repeated measure\n",
    "# this code currently breaks because we have unbalanced repeated observations\n",
    "# so lets try a mixed model\n",
    "\n",
    "print(AnovaRM(data=corr_df, depvar='TP9',\n",
    "              subject='subj', within=['ses'], aggregate_func='mean').fit())"
   ]
  },
  {
   "cell_type": "code",
   "execution_count": 21,
   "id": "0e90a9c7-8e4e-45ea-87ff-30f03e95cdb4",
   "metadata": {},
   "outputs": [
    {
     "name": "stdout",
     "output_type": "stream",
     "text": [
      "        Mixed Linear Model Regression Results\n",
      "======================================================\n",
      "Model:            MixedLM Dependent Variable: AF7     \n",
      "No. Observations: 233     Method:             REML    \n",
      "No. Groups:       119     Scale:              0.0127  \n",
      "Min. group size:  1       Log-Likelihood:     162.4067\n",
      "Max. group size:  3       Converged:          Yes     \n",
      "Mean group size:  2.0                                 \n",
      "------------------------------------------------------\n",
      "            Coef.  Std.Err.   z    P>|z| [0.025 0.975]\n",
      "------------------------------------------------------\n",
      "Intercept    0.009    0.013  0.681 0.496 -0.016  0.034\n",
      "ses[T.2]    -0.016    0.018 -0.877 0.380 -0.052  0.020\n",
      "ses[T.3]    -0.018    0.018 -1.010 0.312 -0.054  0.017\n",
      "Group Var    0.001    0.009                           \n",
      "======================================================\n",
      "\n"
     ]
    },
    {
     "name": "stderr",
     "output_type": "stream",
     "text": [
      "/home/rwhuskey/anaconda3/lib/python3.9/site-packages/statsmodels/regression/mixed_linear_model.py:2237: ConvergenceWarning: The MLE may be on the boundary of the parameter space.\n",
      "  warnings.warn(msg, ConvergenceWarning)\n"
     ]
    }
   ],
   "source": [
    "# This formula specifies a model with 'TP9' as the response, 'ses' as a fixed effect,\n",
    "# and random intercepts for each subject.\n",
    "# just replace the dv for each electrode to check if ISC changes over time as a function of session\n",
    "# spoiler alert, it does not\n",
    "\n",
    "model = smf.mixedlm(\"AF7 ~ ses\", corr_df, groups=corr_df[\"subj\"])\n",
    "result = model.fit()\n",
    "\n",
    "print(result.summary())"
   ]
  },
  {
   "cell_type": "code",
   "execution_count": 22,
   "id": "a93d0f44",
   "metadata": {},
   "outputs": [
    {
     "name": "stdout",
     "output_type": "stream",
     "text": [
      "             df    sum_sq   mean_sq         F    PR(>F)\n",
      "C(ses)      2.0  0.024709  0.012355  1.679304  0.188782\n",
      "Residual  230.0  1.692118  0.007357       NaN       NaN\n",
      "             df    sum_sq   mean_sq         F    PR(>F)\n",
      "C(ses)      2.0  0.032672  0.016336  2.882569  0.058016\n",
      "Residual  230.0  1.303460  0.005667       NaN       NaN\n",
      "             df    sum_sq   mean_sq         F    PR(>F)\n",
      "C(ses)      2.0  0.014713  0.007357  0.544231  0.581033\n",
      "Residual  230.0  3.109061  0.013518       NaN       NaN\n",
      "             df    sum_sq   mean_sq         F    PR(>F)\n",
      "C(ses)      2.0  0.017278  0.008639  0.840718  0.432722\n",
      "Residual  230.0  2.363432  0.010276       NaN       NaN\n"
     ]
    }
   ],
   "source": [
    "# fit an ols with TP10 as outcome variable\n",
    "# and session as the IV\n",
    "moore_lm = ols('TP10 ~ C(ses)',\n",
    "             data=corr_df).fit()\n",
    "# print results \n",
    "table = sm.stats.anova_lm(moore_lm) # Type 2 ANOVA DataFrame\n",
    "print(table)\n",
    "\n",
    "# fit an ols with TP9 as outcome variable\n",
    "# and session as the IV\n",
    "moore_lm = ols('TP9 ~ C(ses)',\n",
    "             data=corr_df).fit()\n",
    "\n",
    "# print results \n",
    "table = sm.stats.anova_lm(moore_lm) # Type 2 ANOVA DataFrame\n",
    "print(table)\n",
    "\n",
    "# fit an ols with AF7 as outcome variable\n",
    "# and session as the IV\n",
    "moore_lm = ols('AF7 ~ C(ses)',\n",
    "             data=corr_df).fit()\n",
    "\n",
    "# print results \n",
    "table = sm.stats.anova_lm(moore_lm) # Type 2 ANOVA DataFrame\n",
    "print(table)\n",
    "\n",
    "# fit an ols with AF8 as outcome variable\n",
    "# and session as the IV\n",
    "moore_lm = ols('AF8 ~ C(ses)',\n",
    "             data=corr_df).fit()\n",
    "\n",
    "# print results \n",
    "table = sm.stats.anova_lm(moore_lm) # Type 2 ANOVA DataFrame\n",
    "print(table)"
   ]
  },
  {
   "cell_type": "code",
   "execution_count": null,
   "id": "7943856b",
   "metadata": {},
   "outputs": [],
   "source": []
  },
  {
   "cell_type": "code",
   "execution_count": null,
   "id": "fdf98d8b",
   "metadata": {},
   "outputs": [],
   "source": []
  },
  {
   "cell_type": "code",
   "execution_count": 23,
   "id": "07347c61",
   "metadata": {},
   "outputs": [],
   "source": [
    "# set as integer session\n",
    "\n",
    "corr_df[\"ses\"] = corr_df[\"ses\"].astype(int)"
   ]
  },
  {
   "cell_type": "code",
   "execution_count": 25,
   "id": "4064d3e9-6936-423f-8c2f-990be7719a75",
   "metadata": {},
   "outputs": [],
   "source": [
    "# This filters out extreme values that are > +/-.2\n",
    "# mostly useful for plotting\n",
    "\n",
    "filter_index = (corr_df[[\"TP10\", \"AF7\", \"AF8\", \"TP9\"]] > 0.2).any(1)  | (corr_df[[\"TP10\", \"AF7\", \"AF8\", \"TP9\"]] < -0.2).any(1)"
   ]
  },
  {
   "cell_type": "code",
   "execution_count": 27,
   "id": "ef42a88e-46df-41bc-9b97-e25c9442d37f",
   "metadata": {},
   "outputs": [
    {
     "data": {
      "text/plain": [
       "0      False\n",
       "1       True\n",
       "2      False\n",
       "3      False\n",
       "4      False\n",
       "       ...  \n",
       "228    False\n",
       "229    False\n",
       "230    False\n",
       "231     True\n",
       "232    False\n",
       "Length: 233, dtype: bool"
      ]
     },
     "execution_count": 27,
     "metadata": {},
     "output_type": "execute_result"
    }
   ],
   "source": [
    "filter_index"
   ]
  },
  {
   "cell_type": "code",
   "execution_count": 31,
   "id": "18356323-97bb-4977-aa2b-78bbca01056b",
   "metadata": {},
   "outputs": [
    {
     "data": {
      "text/plain": [
       "30"
      ]
     },
     "execution_count": 31,
     "metadata": {},
     "output_type": "execute_result"
    }
   ],
   "source": [
    "filter_index.sum()"
   ]
  },
  {
   "cell_type": "code",
   "execution_count": 29,
   "id": "8e55ec3d-e717-4c52-bb36-01144ced5f0c",
   "metadata": {},
   "outputs": [
    {
     "data": {
      "image/png": "[encoded data removed]",
      "text/plain": [
       "<Figure size 576x576 with 4 Axes>"
      ]
     },
     "metadata": {
      "needs_background": "light"
     },
     "output_type": "display_data"
    }
   ],
   "source": [
    "# plot correlation by electrode by sessions\n",
    "\n",
    "fig, axs = plt.subplots(2,2,figsize=(8,8))\n",
    "\n",
    "channels = [\"TP9\", \"AF7\", \"AF8\", \"TP10\"]\n",
    "for i in range(4):\n",
    "    sns.boxplot(x = corr_df.ses, y = corr_df[channels[i]], ax=axs[i//2, i%2])"
   ]
  },
  {
   "cell_type": "code",
   "execution_count": 26,
   "id": "451e1ac9",
   "metadata": {},
   "outputs": [
    {
     "data": {
      "image/png": "[encoded data removed]",
      "text/plain": [
       "<Figure size 576x576 with 4 Axes>"
      ]
     },
     "metadata": {
      "needs_background": "light"
     },
     "output_type": "display_data"
    }
   ],
   "source": [
    "# plot correlation by electrode by sessions\n",
    "# but filter out extreme values to make it easier to examine\n",
    "\n",
    "fig, axs = plt.subplots(2,2,figsize=(8,8))\n",
    "\n",
    "channels = [\"TP9\", \"AF7\", \"AF8\", \"TP10\"]\n",
    "for i in range(4):\n",
    "    sns.boxplot(x = corr_df[~filter_index].ses, y = corr_df[~filter_index][channels[i]], ax=axs[i//2, i%2])"
   ]
  },
  {
   "cell_type": "code",
   "execution_count": null,
   "id": "16f4d24b",
   "metadata": {},
   "outputs": [],
   "source": []
  },
  {
   "cell_type": "code",
   "execution_count": null,
   "id": "a3c6c5a5",
   "metadata": {},
   "outputs": [],
   "source": [
    "from sklearn.mixture import GaussianMixture\n",
    "gmm = GaussianMixture(n_components=2, tol=1, random_state=0).fit(corr_df[[\"TP10\", \"AF7\", \"AF8\", \"TP9\"]])\n",
    "\n",
    "labels = gmm.predict(corr_df[[\"TP10\", \"AF7\", \"AF8\", \"TP9\"]])\n",
    "labels.sum()"
   ]
  },
  {
   "cell_type": "code",
   "execution_count": 33,
   "id": "b24f7444-a7d5-40f1-b981-c526f80d60cf",
   "metadata": {},
   "outputs": [
    {
     "name": "stderr",
     "output_type": "stream",
     "text": [
      "/tmp/ipykernel_257799/4005289447.py:1: DeprecationWarning: Please import `pearsonr` from the `scipy.stats` namespace; the `scipy.stats.stats` namespace is deprecated and will be removed in SciPy 2.0.0.\n",
      "  from scipy.stats.stats import pearsonr\n"
     ]
    }
   ],
   "source": [
    "from scipy.stats.stats import pearsonr"
   ]
  },
  {
   "cell_type": "code",
   "execution_count": 35,
   "id": "615b46f6-f82d-4a32-8496-8a787c023146",
   "metadata": {},
   "outputs": [
    {
     "name": "stdout",
     "output_type": "stream",
     "text": [
      "PearsonRResult(statistic=0.023096994554691982, pvalue=0.7258051633752469)\n",
      "PearsonRResult(statistic=0.1523305585977157, pvalue=0.02000188885660745)\n",
      "PearsonRResult(statistic=-0.07267683563867067, pvalue=0.2692206030947382)\n",
      "PearsonRResult(statistic=0.004837747328917157, pvalue=0.9414493900711886)\n"
     ]
    }
   ],
   "source": [
    "# make a bunch of correlation matrix for each electrode\n",
    "# with isc and performance\n",
    "# on whole dataset\n",
    "\n",
    "print(pearsonr(corr_df.TP9, corr_df.Performance))\n",
    "print(pearsonr(corr_df.AF7, corr_df.Performance))\n",
    "print(pearsonr(corr_df.AF8, corr_df.Performance))\n",
    "print(pearsonr(corr_df.TP10, corr_df.Performance))"
   ]
  },
  {
   "cell_type": "code",
   "execution_count": 34,
   "id": "3afc4be3",
   "metadata": {},
   "outputs": [
    {
     "name": "stdout",
     "output_type": "stream",
     "text": [
      "PearsonRResult(statistic=-0.006121855845238784, pvalue=0.9309217284857104)\n",
      "PearsonRResult(statistic=0.17650592127027862, pvalue=0.011765436347785185)\n",
      "PearsonRResult(statistic=-0.06093300689331127, pvalue=0.3878057535679795)\n",
      "PearsonRResult(statistic=-0.12442991347104858, pvalue=0.07692956322418404)\n"
     ]
    }
   ],
   "source": [
    "# make a bunch of correlation matrix for each electrode\n",
    "# with isc and performance\n",
    "# on arbitrarially filtered data\n",
    "\n",
    "print(pearsonr(corr_df[~filter_index].TP9, corr_df[~filter_index].Performance))\n",
    "print(pearsonr(corr_df[~filter_index].AF7, corr_df[~filter_index].Performance))\n",
    "print(pearsonr(corr_df[~filter_index].AF8, corr_df[~filter_index].Performance))\n",
    "print(pearsonr(corr_df[~filter_index].TP10, corr_df[~filter_index].Performance))"
   ]
  },
  {
   "cell_type": "code",
   "execution_count": 36,
   "id": "51d30f6e",
   "metadata": {},
   "outputs": [
    {
     "data": {
      "image/png": "[encoded data removed]",
      "text/plain": [
       "<Figure size 576x576 with 4 Axes>"
      ]
     },
     "metadata": {
      "needs_background": "light"
     },
     "output_type": "display_data"
    }
   ],
   "source": [
    "fig, axs = plt.subplots(2,2,figsize=(8,8))\n",
    "\n",
    "channels = [\"TP9\", \"AF7\", \"AF8\", \"TP10\"]\n",
    "for i in range(4):\n",
    "    sns.scatterplot(x = corr_df[~filter_index][channels[i]], y = corr_df[~filter_index].Performance, ax=axs[i//2, i%2])"
   ]
  },
  {
   "cell_type": "code",
   "execution_count": null,
   "id": "0bae22e0",
   "metadata": {},
   "outputs": [],
   "source": []
  },
  {
   "cell_type": "code",
   "execution_count": null,
   "id": "ed6d7434",
   "metadata": {},
   "outputs": [],
   "source": []
  },
  {
   "cell_type": "code",
   "execution_count": null,
   "id": "80e08178",
   "metadata": {},
   "outputs": [],
   "source": []
  },
  {
   "cell_type": "code",
   "execution_count": null,
   "id": "067b9208",
   "metadata": {},
   "outputs": [],
   "source": []
  },
  {
   "cell_type": "code",
   "execution_count": null,
   "id": "15b239d4",
   "metadata": {},
   "outputs": [],
   "source": []
  },
  {
   "cell_type": "code",
   "execution_count": null,
   "id": "2113e685",
   "metadata": {},
   "outputs": [],
   "source": [
    "fig, axs = plt.subplots(2,figsize=(8,8))\n",
    "\n",
    "fig.suptitle('Time series data for two participates')\n",
    "\n",
    "for i in range(2):\n",
    "    y = streams[i]['time_series'][10:-10,:]\n",
    "    x = streams[i]['time_stamps'][10:-10]\n",
    "    axs[i].plot(x, y)\n",
    "\n",
    "plt.show()"
   ]
  },
  {
   "cell_type": "code",
   "execution_count": null,
   "id": "1a30ac87",
   "metadata": {},
   "outputs": [],
   "source": [
    "fig, axs = plt.subplots(2,figsize=(8,8))\n",
    "\n",
    "fig.suptitle('Time series data for two participates')\n",
    "axs[0].plot(pair_df.iloc[:,3:7])\n",
    "axs[1].plot(pair_df.iloc[:,7:])\n",
    "\n",
    "plt.show()"
   ]
  },
  {
   "cell_type": "code",
   "execution_count": null,
   "id": "d7f2db96",
   "metadata": {},
   "outputs": [],
   "source": []
  },
  {
   "cell_type": "code",
   "execution_count": null,
   "id": "5b78512a",
   "metadata": {},
   "outputs": [],
   "source": []
  },
  {
   "cell_type": "code",
   "execution_count": null,
   "id": "89bd1b8b",
   "metadata": {},
   "outputs": [],
   "source": []
  },
  {
   "cell_type": "code",
   "execution_count": null,
   "id": "93c6ef6b",
   "metadata": {},
   "outputs": [],
   "source": []
  },
  {
   "cell_type": "code",
   "execution_count": null,
   "id": "b8145119",
   "metadata": {},
   "outputs": [],
   "source": [
    "import numpy as np"
   ]
  },
  {
   "cell_type": "code",
   "execution_count": null,
   "id": "ee1c8774",
   "metadata": {},
   "outputs": [],
   "source": [
    "TP9_corr = pair_df[[\"TP9-1\", \"TP9-2\"]].corr().iloc[0,1]\n",
    "TP10_corr = pair_df[[\"TP10-1\", \"TP10-2\"]].corr().iloc[0,1]\n",
    "AF7_corr = pair_df[[\"AF7-1\", \"AF7-2\"]].corr().iloc[0,1]\n",
    "AF8_corr = pair_df[[\"AF8-1\", \"AF8-2\"]].corr().iloc[0,1]\n",
    "\n",
    "print(\"the TP9 correlation is \", TP9_corr)\n",
    "print(\"the TP10 correlation is \", TP10_corr)\n",
    "print(\"the AF7 correlation is \", AF7_corr)\n",
    "print(\"the AF8 correlation is \", AF8_corr)\n",
    "\n",
    "print(\"the average correlation is \", \n",
    "      np.mean([TP9_corr,TP10_corr,AF7_corr,AF8_corr]))"
   ]
  },
  {
   "cell_type": "code",
   "execution_count": null,
   "id": "e18ea85e",
   "metadata": {},
   "outputs": [],
   "source": []
  },
  {
   "cell_type": "code",
   "execution_count": null,
   "id": "3c847ca0",
   "metadata": {},
   "outputs": [],
   "source": [
    "from sklearn.cross_decomposition import CCA\n",
    "cca = CCA(n_components=1)\n",
    "U_c, V_c = cca.fit_transform(pair_df.iloc[:,3:7], pair_df.iloc[:,7:])\n",
    "result = np.corrcoef(U_c.T, V_c.T)[0,1]\n",
    "result"
   ]
  },
  {
   "cell_type": "code",
   "execution_count": null,
   "id": "ce815bfc",
   "metadata": {},
   "outputs": [],
   "source": []
  },
  {
   "cell_type": "code",
   "execution_count": null,
   "id": "0ee5c7fc",
   "metadata": {},
   "outputs": [],
   "source": []
  },
  {
   "cell_type": "code",
   "execution_count": null,
   "id": "5b08adc2",
   "metadata": {},
   "outputs": [],
   "source": []
  },
  {
   "cell_type": "code",
   "execution_count": null,
   "id": "e8cd8ae9",
   "metadata": {},
   "outputs": [],
   "source": []
  },
  {
   "cell_type": "markdown",
   "id": "7c091845",
   "metadata": {},
   "source": [
    "1. got all of the data and task performance\n",
    "2. "
   ]
  },
  {
   "cell_type": "markdown",
   "id": "d912d7e3",
   "metadata": {},
   "source": [
    "## testing\n",
    "# dont run\n",
    "subj = \"003\"\n",
    "session = \"002\"\n",
    "file = make_file_path(prefix, subj, session)\n",
    "streams, header  = pyxdf.load_xdf(file, select_streams=[{'type': 'EEG'}])\n",
    "streams = streams[:2]\n",
    "streams = Preprocessing._sync_timestamps(streams, kind='linear')\n",
    "streams = Preprocessing._limit_streams_to_overlap(streams)"
   ]
  }
 ],
 "metadata": {
  "kernelspec": {
   "display_name": "Python 3 (ipykernel)",
   "language": "python",
   "name": "python3"
  },
  "language_info": {
   "codemirror_mode": {
    "name": "ipython",
    "version": 3
   },
   "file_extension": ".py",
   "mimetype": "text/x-python",
   "name": "python",
   "nbconvert_exporter": "python",
   "pygments_lexer": "ipython3",
   "version": "3.9.12"
  }
 },
 "nbformat": 4,
 "nbformat_minor": 5
}
