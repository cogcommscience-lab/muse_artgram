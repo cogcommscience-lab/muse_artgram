{
 "cells": [
  {
   "cell_type": "code",
   "execution_count": null,
   "id": "cb7eda39",
   "metadata": {},
   "outputs": [],
   "source": [
    "# Load Dependencies\n",
    "import pyxdf\n",
    "import matplotlib.pyplot as plt\n",
    "import numpy as np"
   ]
  },
  {
   "cell_type": "code",
   "execution_count": null,
   "id": "4c7e52cb",
   "metadata": {},
   "outputs": [],
   "source": [
    "# Specify Directory Where Data Are Stored\n",
    "file_dir = \"/home/rwhuskey/Downloads/sent_to_ralf/sub-P000/ses-S000/eeg/\""
   ]
  },
  {
   "cell_type": "code",
   "execution_count": null,
   "id": "205d5282",
   "metadata": {},
   "outputs": [],
   "source": [
    "# Load In Dataset For One Pair of Participants\n",
    "data, header = pyxdf.load_xdf(file_dir + 'sub-P000_ses-S000_task-Default_run-001_eeg.xdf)"
   ]
  },
  {
   "cell_type": "code",
   "execution_count": null,
   "id": "7491619f",
   "metadata": {},
   "outputs": [],
   "source": [
    "# See Data Contents\n",
    "print(data[0][\"info\"][\"name\"])\n",
    "print(data[1][\"info\"][\"name\"])\n",
    "print(data[2][\"info\"][\"name\"])"
   ]
  },
  {
   "cell_type": "code",
   "execution_count": null,
   "id": "94e216ff",
   "metadata": {},
   "outputs": [],
   "source": [
    "# Plot Data Timeseries\n",
    "# This is for the \"first\" participant\n",
    "# Plots raw EEG data for each electrode\n",
    "plt.plot(data[0][\"time_series\"][1000:5000,0])\n",
    "plt.plot(data[0][\"time_series\"][1000:5000,1])\n",
    "plt.plot(data[0][\"time_series\"][1000:5000,2])\n",
    "plt.plot(data[0][\"time_series\"][1000:5000,3])"
   ]
  },
  {
   "cell_type": "code",
   "execution_count": null,
   "id": "7c36cbc2",
   "metadata": {},
   "outputs": [],
   "source": [
    "# Plot Data Timeseries\n",
    "# This is for the \"second\" participant\n",
    "# Plots raw EEG data for each electrode\n",
    "plt.plot(data[1][\"time_series\"][1000:5000,0])\n",
    "plt.plot(data[1][\"time_series\"][1000:5000,1])\n",
    "plt.plot(data[1][\"time_series\"][1000:5000,2])\n",
    "plt.plot(data[1][\"time_series\"][1000:5000,3])"
   ]
  },
  {
   "cell_type": "code",
   "execution_count": null,
   "id": "02cd2d43",
   "metadata": {},
   "outputs": [],
   "source": [
    "# Load in dependency for audio data\n",
    "from IPython.display import Audio"
   ]
  },
  {
   "cell_type": "code",
   "execution_count": null,
   "id": "09466ea1",
   "metadata": {},
   "outputs": [],
   "source": [
    "# Play audio recording for \"first\" participant\n",
    "Audio(data[2][\"time_series\"][:,1], rate=11025)"
   ]
  },
  {
   "cell_type": "code",
   "execution_count": null,
   "id": "657b3b01",
   "metadata": {
    "scrolled": true
   },
   "outputs": [],
   "source": [
    "# Play audio recording for \"second\" participant\n",
    "Audio(data[2][\"time_series\"][:,0], rate=11025)"
   ]
  },
  {
   "cell_type": "code",
   "execution_count": null,
   "id": "565a5927",
   "metadata": {},
   "outputs": [],
   "source": [
    "# Prepare audio data for plotting\n",
    "data, header = pyxdf.load_xdf(file_dir + 'sub-P054_ses-S002_task-Default_run-001_eeg.xdf')\n",
    "\n",
    "for stream in data:\n",
    "    y = stream['time_series']\n",
    "\n",
    "    if isinstance(y, list):\n",
    "        # list of strings, draw one vertical line for each marker\n",
    "        for timestamp, marker in zip(stream['time_stamps'], y):\n",
    "            plt.axvline(x=timestamp)\n",
    "            print(f'Marker \"{marker[0]}\" @ {timestamp:.2f}s')\n",
    "    elif isinstance(y, np.ndarray):\n",
    "        # numeric data, draw as lines\n",
    "        plt.plot(stream['time_stamps'], y)\n",
    "    else:\n",
    "        raise RuntimeError('Unknown stream format')"
   ]
  },
  {
   "cell_type": "code",
   "execution_count": null,
   "id": "8724e065",
   "metadata": {},
   "outputs": [],
   "source": [
    "# Plot audio stream for \"first\" participant\n",
    "plt.plot(stream['time_series'][:,0])"
   ]
  },
  {
   "cell_type": "code",
   "execution_count": null,
   "id": "4bcea1e2",
   "metadata": {
    "scrolled": true
   },
   "outputs": [],
   "source": [
    "# Plot audio stream for \"second\" participant\n",
    "plt.plot(stream['time_series'][:,1])"
   ]
  },
  {
   "cell_type": "code",
   "execution_count": null,
   "id": "0f03f4eb",
   "metadata": {},
   "outputs": [],
   "source": []
  }
 ],
 "metadata": {
  "kernelspec": {
   "display_name": "Python 3 (ipykernel)",
   "language": "python",
   "name": "python3"
  },
  "language_info": {
   "codemirror_mode": {
    "name": "ipython",
    "version": 3
   },
   "file_extension": ".py",
   "mimetype": "text/x-python",
   "name": "python",
   "nbconvert_exporter": "python",
   "pygments_lexer": "ipython3",
   "version": "3.9.12"
  }
 },
 "nbformat": 4,
 "nbformat_minor": 5
}
