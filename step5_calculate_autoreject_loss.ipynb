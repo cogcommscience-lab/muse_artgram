{
 "cells": [
  {
   "cell_type": "code",
   "execution_count": null,
   "id": "030f059c",
   "metadata": {},
   "outputs": [],
   "source": [
    "# Load dependencies\n",
    "\n",
    "import pandas as pd\n",
    "import os\n",
    "import matplotlib.pyplot as plt"
   ]
  },
  {
   "cell_type": "code",
   "execution_count": null,
   "id": "9f2fec06",
   "metadata": {},
   "outputs": [],
   "source": [
    "# Directory containing the csv files with data dropped statistics\n",
    "directory_path = \"data_dropped\""
   ]
  },
  {
   "cell_type": "code",
   "execution_count": null,
   "id": "39093144",
   "metadata": {},
   "outputs": [],
   "source": [
    "# Names of the epochs, by duration\n",
    "epochs = ['.5s Epoch', '1s Epoch', '1.5s Epoch', '2s Epoch', \n",
    "          '2.5s Epoch', '3s Epoch', '3.5s Epoch', '4s Epoch']"
   ]
  },
  {
   "cell_type": "code",
   "execution_count": null,
   "id": "b461eae0",
   "metadata": {},
   "outputs": [],
   "source": [
    "# Initialize an empty dictionary to store data\n",
    "epoch_data = {epoch: [None] for epoch in epochs}"
   ]
  },
  {
   "cell_type": "code",
   "execution_count": null,
   "id": "20193700",
   "metadata": {},
   "outputs": [],
   "source": [
    "# Mapp file names to epochs\n",
    "file_to_epoch = {\n",
    "    'average_percent_.5s_epoch.csv': '.5s Epoch',\n",
    "    'average_percent_1s_epoch.csv': '1s Epoch',\n",
    "    'average_percent_1.5s_epoch.csv': '1.5s Epoch',\n",
    "    'average_percent_2s_epoch.csv': '2s Epoch',\n",
    "    'average_percent_2.5s_epoch.csv': '2.5s Epoch',\n",
    "    'average_percent_3s_epoch.csv': '3s Epoch',\n",
    "    'average_percent_3.5s_epoch.csv': '3.5s Epoch',\n",
    "    'average_percent_4s_epoch.csv': '4s Epoch'\n",
    "}"
   ]
  },
  {
   "cell_type": "code",
   "execution_count": null,
   "id": "9b7501ad",
   "metadata": {},
   "outputs": [],
   "source": [
    "# Loop through the files in the directory\n",
    "for file in os.listdir(directory_path):\n",
    "    if file.endswith(\".csv\") and file in file_to_epoch:\n",
    "        # Construct the full path to the file\n",
    "        file_path = os.path.join(directory_path, file)\n",
    "        \n",
    "        # Read the CSV file into a DataFrame\n",
    "        df = pd.read_csv(file_path, header=None)\n",
    "        \n",
    "        # Check if the DataFrame has at least two rows\n",
    "        if df.shape[0] >= 2:\n",
    "            # Extract the second value from the DataFrame\n",
    "            value = df.iloc[1, 0]  # Access the second row, first column\n",
    "        else:\n",
    "            value = None  # Set to None or some default if there are not enough rows\n",
    "        \n",
    "        # Assign the value to the correct epoch in the dictionary\n",
    "        epoch_column = file_to_epoch[file]\n",
    "        epoch_data[epoch_column][0] = value"
   ]
  },
  {
   "cell_type": "code",
   "execution_count": null,
   "id": "14f01d17",
   "metadata": {},
   "outputs": [],
   "source": [
    "# Convert the dictionary to a DataFrame\n",
    "epoch_df = pd.DataFrame(epoch_data)"
   ]
  },
  {
   "cell_type": "code",
   "execution_count": null,
   "id": "c1817407",
   "metadata": {},
   "outputs": [],
   "source": [
    "epoch_df"
   ]
  },
  {
   "cell_type": "code",
   "execution_count": null,
   "id": "fe3d9911",
   "metadata": {},
   "outputs": [],
   "source": [
    "# Convert all columns to numeric type\n",
    "epoch_df = epoch_df.apply(pd.to_numeric, errors='coerce')"
   ]
  },
  {
   "cell_type": "code",
   "execution_count": null,
   "id": "4ecfd511",
   "metadata": {},
   "outputs": [],
   "source": [
    "# Calculate the average number of epochs dropped\n",
    "average_epochs_dropped = epoch_df.iloc[0].mean()\n",
    "\n",
    "# Print the resulting averages for each epoch\n",
    "print(average_epochs_dropped)"
   ]
  },
  {
   "cell_type": "code",
   "execution_count": null,
   "id": "be760886",
   "metadata": {},
   "outputs": [],
   "source": [
    "# Create a figure with specified size\n",
    "plt.figure(figsize=(8.5, 8.5))  # 8.5\" x 8.5\" figure size\n",
    "\n",
    "# Plot\n",
    "ax = epoch_df.T.plot(kind='bar', legend=False)  # Transpose to make the epochs the x-axis\n",
    "plt.title('Values Across Different Epochs')\n",
    "plt.xlabel('Epochs')\n",
    "plt.ylabel('Percent Dropped')\n",
    "plt.xticks(rotation=45)  # Rotate the x-axis labels for better readability\n",
    "plt.grid(axis='y', linestyle='--', alpha=0.7)  # Adding a grid for the y-axis\n",
    "plt.ylim(0, 100)  # Set the y-axis range from 0 to 100\n",
    "\n",
    "# Adjust layout to make room for label, ensuring the layout is tight\n",
    "plt.tight_layout()\n",
    "\n",
    "# Saving the figure with adjusted parameters\n",
    "plt.savefig('data_dropped/barplot_dropped_data.png', \n",
    "            format='png', \n",
    "            dpi=300,  # Set the resolution to 300 dpi\n",
    "            bbox_inches='tight', \n",
    "            facecolor='white',  # Ensure the background is white\n",
    "            edgecolor='none')\n",
    "plt.show()"
   ]
  }
 ],
 "metadata": {
  "kernelspec": {
   "display_name": "Python 3 (ipykernel)",
   "language": "python",
   "name": "python3"
  },
  "language_info": {
   "codemirror_mode": {
    "name": "ipython",
    "version": 3
   },
   "file_extension": ".py",
   "mimetype": "text/x-python",
   "name": "python",
   "nbconvert_exporter": "python",
   "pygments_lexer": "ipython3",
   "version": "3.9.12"
  }
 },
 "nbformat": 4,
 "nbformat_minor": 5
}
