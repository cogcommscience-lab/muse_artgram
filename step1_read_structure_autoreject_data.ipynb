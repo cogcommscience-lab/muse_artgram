{
 "cells": [
  {
   "cell_type": "code",
   "execution_count": null,
   "id": "77405a25-6b47-4cc0-b0ac-0a7bf0dcefb5",
   "metadata": {},
   "outputs": [],
   "source": [
    "# Load Dependencies\n",
    "\n",
    "import os.path as op\n",
    "import os\n",
    "from IPython.display import clear_output\n",
    "import pickle\n",
    "import mne\n",
    "import pyxdf\n",
    "import pandas as pd\n",
    "import seaborn as sns\n",
    "from utils import Preprocessing"
   ]
  },
  {
   "cell_type": "code",
   "execution_count": null,
   "id": "7646df66-d91a-4829-81eb-727765ba16d6",
   "metadata": {},
   "outputs": [],
   "source": [
    "# Specify range for participant pairs\n",
    "# Give zero padding to keep BIDS compliant\n",
    "subjs = [\"%03d\" % x for x in range(0,182)]"
   ]
  },
  {
   "cell_type": "code",
   "execution_count": null,
   "id": "1e6ecc40-f8d2-4700-9e86-784700e53678",
   "metadata": {},
   "outputs": [],
   "source": [
    "# Specify the number of sessions\n",
    "# Max for any given participant pair is 3\n",
    "# Some participant pairs may have < 3 sessions due to technical error\n",
    "sessions = [\"%03d\" % x for x in range(1,4)]"
   ]
  },
  {
   "cell_type": "code",
   "execution_count": null,
   "id": "2ed54fb7-6e76-4e23-a2e6-a5178c0410d3",
   "metadata": {},
   "outputs": [],
   "source": [
    "# Specify top-level directory where data are stored\n",
    "# You will need to update this based on where you saved the data\n",
    "prefix = \"/mnt/ccsl_nas/box_sync/tangram_eeg/study1/raw_data/\""
   ]
  },
  {
   "cell_type": "code",
   "execution_count": null,
   "id": "1a5311d0-61f3-4e70-a279-1182f9d1d5e2",
   "metadata": {},
   "outputs": [],
   "source": [
    "# Make file path convention\n",
    "def make_file_path(prefix, subj, session):\n",
    "    return prefix + \"sub-P\"+subj+\"/ses-S\"+session+\"/eeg/sub-P\"+subj+\"_ses-S\"+session+\"_task-Default_run-001_eeg.xdf\""
   ]
  },
  {
   "cell_type": "code",
   "execution_count": null,
   "id": "6c1c3e22-5473-4d83-a043-f44cdc29b869",
   "metadata": {},
   "outputs": [],
   "source": [
    "# Import participant data and run autoreject\n",
    "# NOTE: Epoch duration is specified in line 205 of Preprocessing.py\n",
    "# Set `duration=##` to whatever value you want the epoch length to be, in seconds\n",
    "\n",
    "# preprocess_dict is where synchronized streams + autoreject for each participant pair for each session are stored\n",
    "preprocess_dict = {}\n",
    "\n",
    "for subj in subjs:\n",
    "    subj_df_dict = {}\n",
    "    for session in sessions:\n",
    "        \n",
    "        # Reference each xdf file for each pair of participants for each session\n",
    "        file = make_file_path(prefix, subj, session)\n",
    "        \n",
    "        # Read in xdf file, synchronize streams, and structure for each participant for each electrode\n",
    "        if os.path.isfile(file):\n",
    "            try:\n",
    "                print(\"processing subj: {} session: {}\".format(subj, session))\n",
    "                streams, header  = pyxdf.load_xdf(file, select_streams=[{'type': 'EEG'}])\n",
    "                streams = streams[:2]\n",
    "                streams = Preprocessing._sync_timestamps(streams, kind='linear')\n",
    "                streams = Preprocessing._limit_streams_to_overlap(streams)\n",
    "                \n",
    "                if streams[0]['info']['name'][0][5:9] == 'AC76':\n",
    "                    director = streams[0]\n",
    "                    matcher = streams[1]\n",
    "                elif streams[0]['info']['name'][0][5:9] == 'AC7D':\n",
    "                    director = streams[1]\n",
    "                    matcher = streams[0]\n",
    "                else:\n",
    "                    raise Exception(\"stream naming incorrect\")\n",
    "                \n",
    "                # Timeseries for first participant in the xdf\n",
    "                # Runs autoreject (from preprocessing.py)\n",
    "                # Autoreject parameters are specified in Preprocssing.py\n",
    "                timeseries_p1 = Preprocessing.preprocessing_autoreject(director)\n",
    "                # Timeseries for second participant in the xdf\n",
    "                # Runs autoreject (from preprocessing.py)\n",
    "                # Autoreject parameters are specified in Preprocssing.py\n",
    "                timeseries_p2 = Preprocessing.preprocessing_autoreject(matcher)\n",
    "                \n",
    "                # Structure autorejected timeseries for both participants\n",
    "                pair_df = pd.concat([timeseries_p1, timeseries_p2.iloc[:,3:]], axis=1)\n",
    "                \n",
    "                # Name column headers\n",
    "                pair_df.columns = [\"index\", \"epoch\", \"time\", \"TP9-1\", \"AF7-1\", \"AF8-1\", \"TP10-1\", \"TP9-2\", \"AF7-2\", \"AF8-2\", \"TP10-2\"]\n",
    "                clear_output()\n",
    "\n",
    "                subj_df_dict[session] = pair_df\n",
    "            except:\n",
    "                print(\"Failed subj: {} session: {}\".format(subj, session))\n",
    "            \n",
    "    if os.path.exists(prefix+\"sub-P\"+subj):\n",
    "        preprocess_dict[subj] = subj_df_dict"
   ]
  },
  {
   "cell_type": "code",
   "execution_count": null,
   "id": "01b97e8c-763f-4879-9640-badb27602544",
   "metadata": {},
   "outputs": [],
   "source": [
    "# Filehandler is for writing a pickle file\n",
    "# Update filename based on epoch duration\n",
    "filehandler = open(\"preprocessed_interpolate_bandpass_.1_20/preprocessed_data_.5s_epoch.obj\",\"wb\")\n",
    "\n",
    "# Pickle preprocess_dict\n",
    "pickle.dump(preprocess_dict,filehandler)\n",
    "filehandler.close()"
   ]
  }
 ],
 "metadata": {
  "kernelspec": {
   "display_name": "Python 3 (ipykernel)",
   "language": "python",
   "name": "python3"
  },
  "language_info": {
   "codemirror_mode": {
    "name": "ipython",
    "version": 3
   },
   "file_extension": ".py",
   "mimetype": "text/x-python",
   "name": "python",
   "nbconvert_exporter": "python",
   "pygments_lexer": "ipython3",
   "version": "3.9.12"
  }
 },
 "nbformat": 4,
 "nbformat_minor": 5
}
